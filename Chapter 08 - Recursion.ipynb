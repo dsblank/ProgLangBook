{
 "cells": [
  {
   "cell_type": "markdown",
   "metadata": {},
   "source": [
    "## Adding recursion\n",
    "\n",
    "Problem: the function you are defining is not in the scope."
   ]
  },
  {
   "cell_type": "code",
   "execution_count": 1,
   "metadata": {
    "collapsed": false
   },
   "outputs": [
    {
     "name": "stderr",
     "output_type": "stream",
     "text": [
      "\n",
      "Traceback (most recent call last):\n",
      "  File \"In [1]\", line 1, col 1, in 'let'\n",
      "  File \"In [1]\", line 3, col 3, in 'f'\n",
      "  File \"In [1]\", line 2, col 27\n",
      "RunTimeError: unbound variable 'f'\n",
      "\n"
     ]
    }
   ],
   "source": [
    "(let ((f (lambda (n) \n",
    "           (if (= n 1) 1 (f (- n 1))))))\n",
    "  (f 10))"
   ]
  },
  {
   "cell_type": "markdown",
   "metadata": {},
   "source": [
    "## Y-combinator\n",
    "\n",
    "Derive the y-combinator"
   ]
  },
  {
   "cell_type": "code",
   "execution_count": 3,
   "metadata": {
    "collapsed": false
   },
   "outputs": [
    {
     "data": {
      "text/plain": [
       "1"
      ]
     },
     "execution_count": 3,
     "metadata": {},
     "output_type": "execute_result"
    }
   ],
   "source": [
    "(let ((f (lambda (n f) \n",
    "           (if (= n 1) 1 (f (- n 1) f)))))\n",
    "  (f 10 f))"
   ]
  },
  {
   "cell_type": "markdown",
   "metadata": {},
   "source": [
    "## Better: Put the recursive name in the scope\n",
    "\n",
    "1. Make it a global\n",
    "2. Poke it into scope"
   ]
  },
  {
   "cell_type": "markdown",
   "metadata": {},
   "source": [
    "## The Call Stack\n",
    "\n",
    "Implementing recursion. Use Python's call stack."
   ]
  },
  {
   "cell_type": "code",
   "execution_count": 1,
   "metadata": {
    "collapsed": false
   },
   "outputs": [
    {
     "data": {
      "text/plain": [
       "1"
      ]
     },
     "execution_count": 1,
     "metadata": {},
     "output_type": "execute_result"
    }
   ],
   "source": [
    "(letrec ((f (lambda (n) \n",
    "           (if (= n 1) 1 (f (- n 1))))))\n",
    "  (f 10))"
   ]
  },
  {
   "cell_type": "code",
   "execution_count": null,
   "metadata": {
    "collapsed": true
   },
   "outputs": [],
   "source": []
  }
 ],
 "metadata": {
  "kernelspec": {
   "display_name": "Calysto Scheme 3",
   "language": "scheme",
   "name": "calysto_scheme"
  },
  "language_info": {
   "codemirror_mode": {
    "name": "scheme"
   },
   "mimetype": "text/x-scheme",
   "name": "scheme",
   "pygments_lexer": "scheme"
  }
 },
 "nbformat": 4,
 "nbformat_minor": 0
}
