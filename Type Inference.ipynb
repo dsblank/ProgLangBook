{
 "cells": [
  {
   "cell_type": "markdown",
   "metadata": {},
   "source": [
    "# Type Inference"
   ]
  },
  {
   "cell_type": "markdown",
   "metadata": {},
   "source": [
    "After https://github.com/rob-smallshire/hindley-milner-python\n",
    "\n",
    "https://en.wikipedia.org/wiki/Hindley%E2%80%93Milner_type_system\n",
    "\n",
    "http://citeseer.ist.psu.edu/viewdoc/download?doi=10.1.1.90.3231&rep=rep1&type=pdf"
   ]
  },
  {
   "cell_type": "markdown",
   "metadata": {},
   "source": [
    "Class definitions for the abstract syntax tree nodes which comprise the little language for which types will be inferred."
   ]
  },
  {
   "cell_type": "code",
   "execution_count": 1,
   "metadata": {
    "collapsed": true
   },
   "outputs": [],
   "source": [
    "class Lambda(object):\n",
    "    \"\"\"Lambda abstraction\"\"\"\n",
    "\n",
    "    def __init__(self, v, body):\n",
    "        self.v = v\n",
    "        self.body = body\n",
    "\n",
    "    def __str__(self):\n",
    "        return \"(lambda ({v}) {body})\".format(v=self.v, body=self.body)\n",
    "\n",
    "\n",
    "class Identifier(object):\n",
    "    \"\"\"Identifier\"\"\"\n",
    "\n",
    "    def __init__(self, name):\n",
    "        self.name = name\n",
    "\n",
    "    def __str__(self):\n",
    "        return self.name\n",
    "\n",
    "\n",
    "class Apply(object):\n",
    "    \"\"\"Function application\"\"\"\n",
    "\n",
    "    def __init__(self, fn, arg):\n",
    "        self.fn = fn\n",
    "        self.arg = arg\n",
    "\n",
    "    def __str__(self):\n",
    "        return \"(apply {fn} {arg})\".format(fn=self.fn, arg=self.arg)\n",
    "\n",
    "Curry = Apply\n",
    "\n",
    "class Let(object):\n",
    "    \"\"\"Let binding\"\"\"\n",
    "\n",
    "    def __init__(self, v, defn, body):\n",
    "        self.v = v\n",
    "        self.defn = defn\n",
    "        self.body = body\n",
    "\n",
    "    def __str__(self):\n",
    "        return \"(let {v} = {defn} in {body})\".format(v=self.v, defn=self.defn, body=self.body)\n",
    "\n",
    "\n",
    "class Letrec(object):\n",
    "    \"\"\"Letrec binding\"\"\"\n",
    "\n",
    "    def __init__(self, v, defn, body):\n",
    "        self.v = v\n",
    "        self.defn = defn\n",
    "        self.body = body\n",
    "\n",
    "    def __str__(self):\n",
    "        return \"(letrec {v} = {defn} in {body})\".format(v=self.v, defn=self.defn, body=self.body)"
   ]
  },
  {
   "cell_type": "markdown",
   "metadata": {},
   "source": [
    "Exception types"
   ]
  },
  {
   "cell_type": "code",
   "execution_count": 2,
   "metadata": {
    "collapsed": true
   },
   "outputs": [],
   "source": [
    "class InferenceError(Exception):\n",
    "    \"\"\"Raised if the type inference algorithm cannot infer types successfully\"\"\"\n",
    "\n",
    "    def __init__(self, message):\n",
    "        self.__message = message\n",
    "\n",
    "    message = property(lambda self: self.__message)\n",
    "\n",
    "    def __str__(self):\n",
    "        return str(self.message)\n",
    "\n",
    "\n",
    "class ParseError(Exception):\n",
    "    \"\"\"Raised if the type environment supplied for is incomplete\"\"\"\n",
    "\n",
    "    def __init__(self, message):\n",
    "        self.__message = message\n",
    "\n",
    "    message = property(lambda self: self.__message)\n",
    "\n",
    "    def __str__(self):\n",
    "        return str(self.message)"
   ]
  },
  {
   "cell_type": "markdown",
   "metadata": {},
   "source": [
    "Types and type constructors"
   ]
  },
  {
   "cell_type": "code",
   "execution_count": 3,
   "metadata": {
    "collapsed": true
   },
   "outputs": [],
   "source": [
    "class TypeVariable(object):\n",
    "    \"\"\"\n",
    "    A type variable standing for an arbitrary type.\n",
    "\n",
    "    All type variables have a unique id, but names are only assigned lazily,\n",
    "    when required.\n",
    "    \"\"\"\n",
    "\n",
    "    next_variable_id = 0\n",
    "\n",
    "    def __init__(self):\n",
    "        self.id = TypeVariable.next_variable_id\n",
    "        TypeVariable.next_variable_id += 1\n",
    "        self.instance = None\n",
    "        self.__name = None\n",
    "\n",
    "    next_variable_name = 'a'\n",
    "\n",
    "    @property\n",
    "    def name(self):\n",
    "        \"\"\"\n",
    "        Names are allocated to TypeVariables lazily, so that only TypeVariables\n",
    "        present\n",
    "        \"\"\"\n",
    "        if self.__name is None:\n",
    "            self.__name = TypeVariable.next_variable_name\n",
    "            TypeVariable.next_variable_name = chr(ord(TypeVariable.next_variable_name) + 1)\n",
    "        return self.__name\n",
    "\n",
    "    def __str__(self):\n",
    "        if self.instance is not None:\n",
    "            return str(self.instance)\n",
    "        else:\n",
    "            return self.name\n",
    "\n",
    "    def __repr__(self):\n",
    "        return \"TypeVariable(id = {0})\".format(self.id)\n",
    "\n",
    "\n",
    "class TypeOperator(object):\n",
    "    \"\"\"An n-ary type constructor which builds a new type from old\"\"\"\n",
    "\n",
    "    def __init__(self, name, types):\n",
    "        self.name = name\n",
    "        self.types = types\n",
    "\n",
    "    def __str__(self):\n",
    "        num_types = len(self.types)\n",
    "        if num_types == 0:\n",
    "            return self.name\n",
    "        elif num_types == 2:\n",
    "            return \"({0} {1} {2})\".format(str(self.types[0]), self.name, str(self.types[1]))\n",
    "        else:\n",
    "            return \"{0} {1}\" .format(self.name, ' '.join(self.types))\n",
    "\n",
    "\n",
    "class Function(TypeOperator):\n",
    "    \"\"\"A binary type constructor which builds function types\"\"\"\n",
    "\n",
    "    def __init__(self, from_type, to_type):\n",
    "        super(Function, self).__init__(\"->\", [from_type, to_type])"
   ]
  },
  {
   "cell_type": "code",
   "execution_count": 4,
   "metadata": {
    "collapsed": true
   },
   "outputs": [],
   "source": [
    "# Basic types are constructed with a nullary type constructor\n",
    "Integer = TypeOperator(\"int\", [])  # Basic integer\n",
    "Bool = TypeOperator(\"bool\", [])  # Basic bool"
   ]
  },
  {
   "cell_type": "markdown",
   "metadata": {},
   "source": [
    "Type inference machinery"
   ]
  },
  {
   "cell_type": "code",
   "execution_count": 5,
   "metadata": {
    "collapsed": true
   },
   "outputs": [],
   "source": [
    "def analyse(node, type_map, non_generic=None):\n",
    "    \"\"\"\n",
    "    Computes the type of the expression given by node.\n",
    "\n",
    "    The type of the node is computed in the context of the context of the\n",
    "    supplied type environment type_map. Data types can be introduced into the\n",
    "    language simply by having a predefined set of identifiers in the initial\n",
    "    environment. environment; this way there is no need to change the syntax or, more\n",
    "    importantly, the type-checking program when extending the language.\n",
    "\n",
    "    Args:\n",
    "        node: The root of the abstract syntax tree.\n",
    "        type_map: The type environment is a mapping of expression identifier names\n",
    "            to type assignments.\n",
    "        non_generic: A set of non-generic variables, or None\n",
    "\n",
    "    Returns:\n",
    "        The computed type of the expression.\n",
    "\n",
    "    Raises:\n",
    "        InferenceError: The type of the expression could not be inferred, for example\n",
    "            if it is not possible to unify two types such as Integer and Bool\n",
    "        ParseError: The abstract syntax tree rooted at node could not be parsed\n",
    "    \"\"\"\n",
    "\n",
    "    if non_generic is None:\n",
    "        non_generic = set()\n",
    "\n",
    "    if isinstance(node, Identifier):\n",
    "        return get_type(node.name, type_map, non_generic)\n",
    "    elif isinstance(node, (Apply, Curry)):\n",
    "        fun_type = analyse(node.fn, type_map, non_generic)\n",
    "        arg_type = analyse(node.arg, type_map, non_generic)\n",
    "        result_type = TypeVariable()\n",
    "        unify(Function(arg_type, result_type), fun_type)\n",
    "        return result_type\n",
    "    elif isinstance(node, Lambda):\n",
    "        arg_type = TypeVariable()\n",
    "        new_type_map = type_map.copy()\n",
    "        new_type_map[node.v] = arg_type\n",
    "        new_non_generic = non_generic.copy()\n",
    "        new_non_generic.add(arg_type)\n",
    "        result_type = analyse(node.body, new_type_map, new_non_generic)\n",
    "        return Function(arg_type, result_type)\n",
    "    elif isinstance(node, Let):\n",
    "        defn_type = analyse(node.defn, type_map, non_generic)\n",
    "        new_type_map = type_map.copy()\n",
    "        new_type_map[node.v] = defn_type\n",
    "        return analyse(node.body, new_type_map, non_generic)\n",
    "    elif isinstance(node, Letrec):\n",
    "        new_type = TypeVariable()\n",
    "        new_type_map = type_map.copy()\n",
    "        new_type_map[node.v] = new_type\n",
    "        new_non_generic = non_generic.copy()\n",
    "        new_non_generic.add(new_type)\n",
    "        defn_type = analyse(node.defn, new_type_map, new_non_generic)\n",
    "        unify(new_type, defn_type)\n",
    "        return analyse(node.body, new_type_map, non_generic)\n",
    "    assert 0, \"Unhandled syntax node {0}\".format(type(node))"
   ]
  },
  {
   "cell_type": "code",
   "execution_count": 6,
   "metadata": {
    "collapsed": true
   },
   "outputs": [],
   "source": [
    "def get_type(name, type_map, non_generic):\n",
    "    \"\"\"\n",
    "    Get the type of identifier name from the type environment type_map.\n",
    "\n",
    "    Args:\n",
    "        name: The identifier name\n",
    "        type_map: The type environment mapping from identifier names to types\n",
    "        non_generic: A set of non-generic TypeVariables\n",
    "\n",
    "    Raises:\n",
    "        ParseError: Raised if name is an undefined symbol in the type\n",
    "            environment.\n",
    "    \"\"\"\n",
    "    if name in type_map:\n",
    "        return fresh(type_map[name], non_generic)\n",
    "    elif is_integer_literal(name):\n",
    "        return Integer\n",
    "    else:\n",
    "        raise ParseError(\"Undefined symbol {0}\".format(name))\n",
    "\n",
    "\n",
    "def fresh(t, non_generic):\n",
    "    \"\"\"\n",
    "    Makes a copy of a type expression.\n",
    "\n",
    "    The type t is copied. The the generic variables are duplicated and the\n",
    "    non_generic variables are shared.\n",
    "\n",
    "    Args:\n",
    "        t: A type to be copied.\n",
    "        non_generic: A set of non-generic TypeVariables\n",
    "    \"\"\"\n",
    "    mappings = {}  # A mapping of TypeVariables to TypeVariables\n",
    "\n",
    "    def freshrec(tp):\n",
    "        p = find(tp)\n",
    "        if isinstance(p, TypeVariable):\n",
    "            if is_generic(p, non_generic):\n",
    "                if p not in mappings:\n",
    "                    mappings[p] = TypeVariable()\n",
    "                return mappings[p]\n",
    "            else:\n",
    "                return p\n",
    "        elif isinstance(p, TypeOperator):\n",
    "            return TypeOperator(p.name, [freshrec(x) for x in p.types])\n",
    "\n",
    "    return freshrec(t)"
   ]
  },
  {
   "cell_type": "markdown",
   "metadata": {},
   "source": [
    "```python\n",
    "unify(ta,tb):\n",
    "  ta = find(ta)\n",
    "  tb = find(tb)\n",
    "  if both ta,tb are terms of the form D p1..pn with identical D,n then\n",
    "    unify(ta[i],tb[i]) for each corresponding ith parameter\n",
    "  else\n",
    "  if at least one of ta,tb is a type variable then\n",
    "    union(ta,tb)\n",
    "  else\n",
    "    error 'types do not match'\n",
    "```"
   ]
  },
  {
   "cell_type": "code",
   "execution_count": 7,
   "metadata": {
    "collapsed": true
   },
   "outputs": [],
   "source": [
    "def unify(t1, t2):\n",
    "    \"\"\"\n",
    "    Unify the two types t1 and t2.\n",
    "\n",
    "    Makes the types t1 and t2 the same.\n",
    "\n",
    "    Args:\n",
    "        t1: The first type to be made equivalent\n",
    "        t2: The second type to be be equivalent\n",
    "\n",
    "    Returns:\n",
    "        None\n",
    "\n",
    "    Raises:\n",
    "        InferenceError: Raised if the types cannot be unified.\n",
    "    \"\"\"\n",
    "    a = find(t1)\n",
    "    b = find(t2)\n",
    "    if isinstance(a, TypeVariable):\n",
    "        if a != b:\n",
    "            if occurs_in_type(a, b):\n",
    "                raise InferenceError(\"recursive unification\")\n",
    "            a.instance = b\n",
    "    elif isinstance(a, TypeOperator) and isinstance(b, TypeVariable):\n",
    "        unify(b, a)\n",
    "    elif isinstance(a, TypeOperator) and isinstance(b, TypeOperator):\n",
    "        if a.name != b.name or len(a.types) != len(b.types):\n",
    "            raise InferenceError(\"Type mismatch: {0} != {1}\".format(str(a), str(b)))\n",
    "        for p, q in zip(a.types, b.types):\n",
    "            unify(p, q)\n",
    "    else:\n",
    "        raise InferenceError('types do not match')"
   ]
  },
  {
   "cell_type": "code",
   "execution_count": 8,
   "metadata": {
    "collapsed": true
   },
   "outputs": [],
   "source": [
    "def find(t):\n",
    "    \"\"\"\n",
    "    Returns the currently defining instance of t.\n",
    "\n",
    "    As a side effect, collapses the list of type instances. The function find\n",
    "    is used whenever a type expression has to be inspected: it will always\n",
    "    return a type expression which is either an uninstantiated type variable or\n",
    "    a type operator; i.e. it will skip instantiated variables, and will\n",
    "    actually find them from expressions to remove long chains of instantiated\n",
    "    variables.\n",
    "\n",
    "    Args:\n",
    "        t: The type to be found\n",
    "\n",
    "    Returns:\n",
    "        An uninstantiated TypeVariable or a TypeOperator\n",
    "    \"\"\"\n",
    "    if isinstance(t, TypeVariable):\n",
    "        if t.instance is not None:\n",
    "            t.instance = find(t.instance)\n",
    "            return t.instance\n",
    "    return t\n",
    "\n",
    "\n",
    "def is_generic(v, non_generic):\n",
    "    \"\"\"\n",
    "    Checks whether a given variable occurs in a list of non-generic variables\n",
    "\n",
    "    Note that a variables in such a list may be instantiated to a type term,\n",
    "    in which case the variables contained in the type term are considered\n",
    "    non-generic.\n",
    "\n",
    "    Note: Must be called with v pre-found\n",
    "\n",
    "    Args:\n",
    "        v: The TypeVariable to be tested for genericity\n",
    "        non_generic: A set of non-generic TypeVariables\n",
    "\n",
    "    Returns:\n",
    "        True if v is a generic variable, otherwise False\n",
    "    \"\"\"\n",
    "    return not occurs_in(v, non_generic)\n",
    "\n",
    "\n",
    "def occurs_in_type(v, type2):\n",
    "    \"\"\"\n",
    "    Checks whether a type variable occurs in a type expression.\n",
    "\n",
    "    Note: Must be called with v pre-found\n",
    "\n",
    "    Args:\n",
    "        v:  The TypeVariable to be tested for\n",
    "        type2: The type in which to search\n",
    "\n",
    "    Returns:\n",
    "        True if v occurs in type2, otherwise False\n",
    "    \"\"\"\n",
    "    found_type2 = find(type2)\n",
    "    if found_type2 == v:\n",
    "        return True\n",
    "    elif isinstance(found_type2, TypeOperator):\n",
    "        return occurs_in(v, found_type2.types)\n",
    "    return False\n",
    "\n",
    "\n",
    "def occurs_in(t, types):\n",
    "    \"\"\"\n",
    "    Checks whether a types variable occurs in any other types.\n",
    "\n",
    "    Args:\n",
    "        t:  The TypeVariable to be tested for\n",
    "        types: The sequence of types in which to search\n",
    "\n",
    "    Returns:\n",
    "        True if t occurs in any of types, otherwise False\n",
    "    \"\"\"\n",
    "    return any(occurs_in_type(t, t2) for t2 in types)\n",
    "\n",
    "\n",
    "def is_integer_literal(name):\n",
    "    \"\"\"\n",
    "    Checks whether name is an integer literal string.\n",
    "\n",
    "    Args:\n",
    "        name: The identifier to check\n",
    "\n",
    "    Returns:\n",
    "        True if name is an integer literal, otherwise False\n",
    "    \"\"\"\n",
    "    result = True\n",
    "    try:\n",
    "        int(name)\n",
    "    except ValueError:\n",
    "        result = False\n",
    "    return result"
   ]
  },
  {
   "cell_type": "code",
   "execution_count": 9,
   "metadata": {
    "collapsed": true
   },
   "outputs": [],
   "source": [
    "# ==================================================================#\n",
    "# Example code to exercise the above\n",
    "\n",
    "\n",
    "def try_analyse(node, type_map):\n",
    "    \"\"\"\n",
    "    Try to evaluate a type, printing the result or reporting errors.\n",
    "\n",
    "    Args:\n",
    "        node: The root node of the abstract syntax tree of the expression.\n",
    "        type_map: The type environment in which to evaluate the expression.\n",
    "\n",
    "    Returns:\n",
    "        None\n",
    "    \"\"\"\n",
    "    print(str(node) + \" : \", end=' ')\n",
    "    try:\n",
    "        t = analyse(node, type_map)\n",
    "        print(str(t))\n",
    "    except (ParseError, InferenceError) as e:\n",
    "        print(e)"
   ]
  },
  {
   "cell_type": "code",
   "execution_count": 10,
   "metadata": {
    "collapsed": true
   },
   "outputs": [],
   "source": [
    "var1 = TypeVariable()\n",
    "var2 = TypeVariable()\n",
    "var3 = TypeVariable()\n",
    "\n",
    "pair_type = TypeOperator(\"*\", (var1, var2))\n",
    "\n",
    "type_map = {\n",
    "    \"pair\": Function(var1, Function(var2, pair_type)),\n",
    "    \"#t\": Bool,\n",
    "    \"if\": Function(Bool, Function(var3, Function(var3, var3))),\n",
    "    \"=\": Function(Integer, Bool),\n",
    "    \"pred\": Function(Integer, Integer),\n",
    "    \"*\": Function(Integer, Function(Integer, Integer))\n",
    "}"
   ]
  },
  {
   "cell_type": "code",
   "execution_count": 11,
   "metadata": {
    "collapsed": true
   },
   "outputs": [],
   "source": [
    "import metakernel; metakernel.register_ipython_magics()"
   ]
  },
  {
   "cell_type": "code",
   "execution_count": 12,
   "metadata": {
    "collapsed": false
   },
   "outputs": [
    {
     "data": {
      "text/plain": [
       "120"
      ]
     },
     "execution_count": 12,
     "metadata": {},
     "output_type": "execute_result"
    }
   ],
   "source": [
    "%%scheme\n",
    "\n",
    "(define pred\n",
    " (lambda (n) (- n 1)))\n",
    "\n",
    "(letrec ((factorial \n",
    "          (lambda (n)\n",
    "            (if (zero? n) \n",
    "                1\n",
    "                (* n (factorial (pred n)))))))\n",
    " (factorial 5))"
   ]
  },
  {
   "cell_type": "code",
   "execution_count": 13,
   "metadata": {
    "collapsed": false
   },
   "outputs": [],
   "source": [
    "# factorial\n",
    "e1  = Letrec(\"factorial\",  # letrec factorial =\n",
    "               Lambda(\"n\",  # fn n =>\n",
    "                      Curry( # if (zero n) 1\n",
    "                          Curry(  \n",
    "                              Apply(Identifier(\"if\"),  # if (zero n)\n",
    "                                    Apply(Identifier(\"=\"), Identifier(\"n\"))),\n",
    "                              Identifier(\"1\")),\n",
    "                          Curry(  # * n\n",
    "                              Apply(Identifier(\"*\"), Identifier(\"n\")),\n",
    "                              Apply(Identifier(\"factorial\"),\n",
    "                                    Apply(Identifier(\"pred\"), Identifier(\"n\")))\n",
    "                          )\n",
    "                      )\n",
    "                      ),  # in\n",
    "               Apply(Identifier(\"factorial\"), Identifier(\"5\"))\n",
    "               )"
   ]
  },
  {
   "cell_type": "code",
   "execution_count": 14,
   "metadata": {
    "collapsed": false
   },
   "outputs": [
    {
     "name": "stdout",
     "output_type": "stream",
     "text": [
      "(letrec factorial = (lambda (n) (apply (apply (apply if (apply = n)) 1) (apply (apply * n) (apply factorial (apply pred n))))) in (apply factorial 5)) :  int\n"
     ]
    }
   ],
   "source": [
    "try_analyse(e1, type_map)"
   ]
  },
  {
   "cell_type": "code",
   "execution_count": 15,
   "metadata": {
    "collapsed": true
   },
   "outputs": [],
   "source": [
    "# Should fail:\n",
    "# fn x => (pair(x(3) (x(true)))\n",
    "fail = Lambda(\"x\",\n",
    "           Apply(\n",
    "               Apply(Identifier(\"pair\"),\n",
    "                     Apply(Identifier(\"x\"), Identifier(\"3\"))),\n",
    "               Apply(Identifier(\"x\"), Identifier(\"#t\"))))"
   ]
  },
  {
   "cell_type": "code",
   "execution_count": 16,
   "metadata": {
    "collapsed": false
   },
   "outputs": [
    {
     "name": "stdout",
     "output_type": "stream",
     "text": [
      "(lambda (x) (apply (apply pair (apply x 3)) (apply x #t))) :  Type mismatch: bool != int\n"
     ]
    }
   ],
   "source": [
    "try_analyse(fail, type_map)"
   ]
  },
  {
   "cell_type": "code",
   "execution_count": 17,
   "metadata": {
    "collapsed": true
   },
   "outputs": [],
   "source": [
    "# pair(f(3), f(true))\n",
    "e3 = Apply(\n",
    "        Apply(Identifier(\"pair\"), Apply(Identifier(\"f\"), Identifier(\"4\"))),\n",
    "        Apply(Identifier(\"f\"), Identifier(\"#t\")))"
   ]
  },
  {
   "cell_type": "code",
   "execution_count": 18,
   "metadata": {
    "collapsed": false
   },
   "outputs": [
    {
     "name": "stdout",
     "output_type": "stream",
     "text": [
      "(apply (apply pair (apply f 4)) (apply f #t)) :  Undefined symbol f\n"
     ]
    }
   ],
   "source": [
    "try_analyse(e3, type_map)"
   ]
  },
  {
   "cell_type": "code",
   "execution_count": 19,
   "metadata": {
    "collapsed": true
   },
   "outputs": [],
   "source": [
    "pair = Apply(Apply(Identifier(\"pair\"),\n",
    "                   Apply(Identifier(\"f\"),\n",
    "                         Identifier(\"4\"))),\n",
    "             Apply(Identifier(\"f\"),\n",
    "                   Identifier(\"#t\")))"
   ]
  },
  {
   "cell_type": "code",
   "execution_count": 20,
   "metadata": {
    "collapsed": false
   },
   "outputs": [],
   "source": [
    "# let f = (fn x => x) in ((pair (f 4)) (f true))\n",
    "e4 = Let(\"f\", Lambda(\"x\", Identifier(\"x\")), pair)"
   ]
  },
  {
   "cell_type": "code",
   "execution_count": 21,
   "metadata": {
    "collapsed": false
   },
   "outputs": [
    {
     "name": "stdout",
     "output_type": "stream",
     "text": [
      "(let f = (lambda (x) x) in (apply (apply pair (apply f 4)) (apply f #t))) :  (int * bool)\n"
     ]
    }
   ],
   "source": [
    "try_analyse(e4, type_map)"
   ]
  },
  {
   "cell_type": "code",
   "execution_count": 22,
   "metadata": {
    "collapsed": true
   },
   "outputs": [],
   "source": [
    "# fn f => f f (fail)\n",
    "e5 = Lambda(\"f\", Apply(Identifier(\"f\"), Identifier(\"f\")))"
   ]
  },
  {
   "cell_type": "code",
   "execution_count": 23,
   "metadata": {
    "collapsed": false
   },
   "outputs": [
    {
     "name": "stdout",
     "output_type": "stream",
     "text": [
      "(lambda (f) (apply f f)) :  recursive unification\n"
     ]
    }
   ],
   "source": [
    "try_analyse(e5, type_map)"
   ]
  },
  {
   "cell_type": "code",
   "execution_count": 24,
   "metadata": {
    "collapsed": true
   },
   "outputs": [],
   "source": [
    "# let g = fn f => 5 in g g\n",
    "e6 = Let(\"g\",\n",
    "        Lambda(\"f\", Identifier(\"5\")),\n",
    "        Apply(Identifier(\"g\"), Identifier(\"g\")))"
   ]
  },
  {
   "cell_type": "code",
   "execution_count": 25,
   "metadata": {
    "collapsed": false
   },
   "outputs": [
    {
     "name": "stdout",
     "output_type": "stream",
     "text": [
      "(let g = (lambda (f) 5) in (apply g g)) :  int\n"
     ]
    }
   ],
   "source": [
    "try_analyse(e6, type_map)"
   ]
  },
  {
   "cell_type": "code",
   "execution_count": 30,
   "metadata": {
    "collapsed": true
   },
   "outputs": [],
   "source": [
    "# example that demonstrates generic and non-generic variables:\n",
    "# fn g => let f = fn x => g in pair (f 3, f true)\n",
    "e7 = Lambda(\"g\",\n",
    "           Let(\"f\",\n",
    "               Lambda(\"x\", Identifier(\"g\")),\n",
    "               Curry(\n",
    "                   Apply(Identifier(\"pair\"),\n",
    "                         Apply(Identifier(\"f\"), Identifier(\"3\"))\n",
    "                         ),\n",
    "                   Apply(Identifier(\"f\"), Identifier(\"#t\")))))"
   ]
  },
  {
   "cell_type": "code",
   "execution_count": 31,
   "metadata": {
    "collapsed": false
   },
   "outputs": [
    {
     "name": "stdout",
     "output_type": "stream",
     "text": [
      "(lambda (g) (let f = (lambda (x) g) in (apply (apply pair (apply f 3)) (apply f #t)))) :  (e -> (e * e))\n"
     ]
    }
   ],
   "source": [
    "try_analyse(e7, type_map)"
   ]
  },
  {
   "cell_type": "code",
   "execution_count": 28,
   "metadata": {
    "collapsed": true
   },
   "outputs": [],
   "source": [
    "# Function composition\n",
    "# fn f (fn g (fn arg (f g arg)))\n",
    "e8 = Lambda(\"f\", Lambda(\"g\", Lambda(\"arg\", Apply(Identifier(\"g\"), Apply(Identifier(\"f\"), Identifier(\"arg\"))))))"
   ]
  },
  {
   "cell_type": "code",
   "execution_count": 29,
   "metadata": {
    "collapsed": false
   },
   "outputs": [
    {
     "name": "stdout",
     "output_type": "stream",
     "text": [
      "(lambda (f) (lambda (g) (lambda (arg) (apply g (apply f arg))))) :  ((b -> c) -> ((c -> d) -> (b -> d)))\n"
     ]
    }
   ],
   "source": [
    "try_analyse(e8, type_map)"
   ]
  },
  {
   "cell_type": "code",
   "execution_count": null,
   "metadata": {
    "collapsed": true
   },
   "outputs": [],
   "source": []
  }
 ],
 "metadata": {
  "kernelspec": {
   "display_name": "Python 3",
   "language": "python",
   "name": "python3"
  },
  "language_info": {
   "codemirror_mode": {
    "name": "ipython",
    "version": 3
   },
   "file_extension": ".py",
   "mimetype": "text/x-python",
   "name": "python",
   "nbconvert_exporter": "python",
   "pygments_lexer": "ipython3",
   "version": "3.4.3"
  }
 },
 "nbformat": 4,
 "nbformat_minor": 1
}
