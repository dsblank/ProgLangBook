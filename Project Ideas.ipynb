{
 "cells": [
  {
   "cell_type": "markdown",
   "metadata": {},
   "source": [
    "1. build a complete Python interpreter in Scheme\n",
    "1. build a complete Scheme interpreter in Python\n",
    "1. create your own language semantics\n",
    "1. create your own language syntax\n",
    "1. write an optimizing AST \"compiler\" (AST -> AST)\n",
    "1. write a complete Python bytecode interpreter\n",
    "1. TCO: see http://www.slideshare.net/lnikolaeva/tailbytes-pygotham"
   ]
  },
  {
   "cell_type": "code",
   "execution_count": null,
   "metadata": {
    "collapsed": true
   },
   "outputs": [],
   "source": []
  }
 ],
 "metadata": {
  "kernelspec": {
   "display_name": "Calysto Scheme 3",
   "language": "scheme",
   "name": "calysto_scheme"
  },
  "language_info": {
   "codemirror_mode": {
    "name": "scheme"
   },
   "mimetype": "text/x-scheme",
   "name": "scheme",
   "pygments_lexer": "scheme"
  }
 },
 "nbformat": 4,
 "nbformat_minor": 0
}
