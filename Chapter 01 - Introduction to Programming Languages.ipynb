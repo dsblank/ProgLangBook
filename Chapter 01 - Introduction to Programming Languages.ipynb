{
 "cells": [
  {
   "cell_type": "markdown",
   "metadata": {},
   "source": [
    "<H1>Chapter 1 - Introduction to Programming Languages</H1>\n",
    "\n",
    "# 1. Programming Languages\n",
    "\n",
    "The study of Programming Languages is the study of languages used to control computers. Like Natural Languages (such as English and Chinese) programming languages are created \n",
    "\n",
    "Typically, studying Programming Languages is taught in two different ways:\n",
    "\n",
    "1. As a survey course, looking at many languages\n",
    "2. As a deep dive into a single language, perhaps even implementing the complex issues of a language\n",
    "\n",
    "This course is a bit of a combination. We will explore two languages, Python and Scheme, in great detail. In addition, we will also implement a language from scratch. Specifically, we will implement a version of Scheme in Python.\n",
    "\n",
    "## 1.1 Jupyter Notebooks\n",
    "\n",
    "Python 3, and Calysto Scheme 3. Narrative. Story telling.\n",
    "\n",
    "* Notebooks operate from top to bottom.\n",
    "\n",
    "## 1.2 Overview\n",
    "\n",
    "These materials are broken down into the following \n"
   ]
  },
  {
   "cell_type": "code",
   "execution_count": null,
   "metadata": {
    "collapsed": true
   },
   "outputs": [],
   "source": []
  }
 ],
 "metadata": {
  "kernelspec": {
   "display_name": "Python 3",
   "language": "python",
   "name": "python3"
  },
  "language_info": {
   "codemirror_mode": {
    "name": "ipython",
    "version": 3
   },
   "file_extension": ".py",
   "mimetype": "text/x-python",
   "name": "python",
   "nbconvert_exporter": "python",
   "pygments_lexer": "ipython3",
   "version": "3.5.1"
  },
  "widgets": {
   "state": {},
   "version": "1.1.2"
  }
 },
 "nbformat": 4,
 "nbformat_minor": 0
}
