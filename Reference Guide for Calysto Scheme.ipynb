{
 "cells": [
  {
   "cell_type": "markdown",
   "metadata": {},
   "source": [
    "# Reference Guide for Calysto Scheme \n",
    "\n",
    "In addition to all of the following items, Calysto Scheme also has access to all of Python's builtin functions, and all of Python's libraries. For example, you can use `(complex 3 2)` to create a complex number by calling Python's complex function.\n",
    "\n",
    "## Major differences between Scheme and Python\n",
    "\n",
    "1. In Scheme, double quotes are used for strings and may contain newlines\n",
    "1. In Scheme, a single quote is short for (quote ...) and means \"literal\"\n",
    "1. In Scheme, everything is an expression and has a return value\n",
    "1. Python does not support macros (e.g., extending syntax)\n",
    "1. In Python, \"if X\" is false if X is None, False, [], (,) or 0. In Scheme, \"if X\" is only false if X is #f or 0\n",
    "\n",
    "## Major Differences Between Calysto Scheme and other Schemes\n",
    "\n",
    "1. define-syntax works slightly differently\n",
    "1. In Calysto Scheme, #(...) is short for '#(...)\n",
    "1. Calysto Scheme is missing many standard functions (see list at bottom)\n",
    "1. Calysto Scheme has a built-in amb operator called `choose`"
   ]
  },
  {
   "cell_type": "markdown",
   "metadata": {},
   "source": [
    "## %\n",
    "(% arg0 arg1): modulo procedure for two arguments (aliases mod and modulo)"
   ]
  },
  {
   "cell_type": "code",
   "execution_count": null,
   "metadata": {
    "collapsed": true
   },
   "outputs": [],
   "source": [
    "(%)"
   ]
  },
  {
   "cell_type": "markdown",
   "metadata": {},
   "source": [
    "## *\n",
    "(* ...): multiplication procedure; multiplies all arguments"
   ]
  },
  {
   "cell_type": "code",
   "execution_count": null,
   "metadata": {
    "collapsed": true
   },
   "outputs": [],
   "source": [
    "(*)"
   ]
  },
  {
   "cell_type": "markdown",
   "metadata": {},
   "source": [
    "## +\n",
    "(+ ...): addition procedure; adds all arguments"
   ]
  },
  {
   "cell_type": "code",
   "execution_count": null,
   "metadata": {
    "collapsed": true
   },
   "outputs": [],
   "source": [
    "(+)"
   ]
  },
  {
   "cell_type": "markdown",
   "metadata": {},
   "source": [
    "## -\n",
    "(- ...): subtraction procedure; subtracts all arguments"
   ]
  },
  {
   "cell_type": "code",
   "execution_count": null,
   "metadata": {
    "collapsed": true
   },
   "outputs": [],
   "source": [
    "(-)"
   ]
  },
  {
   "cell_type": "markdown",
   "metadata": {},
   "source": [
    "## /\n",
    "(/ ...): division procedure; divides all arguments"
   ]
  },
  {
   "cell_type": "code",
   "execution_count": null,
   "metadata": {
    "collapsed": true
   },
   "outputs": [],
   "source": [
    "(/)"
   ]
  },
  {
   "cell_type": "markdown",
   "metadata": {},
   "source": [
    "## //\n",
    "(// arg0 arg1): quotient procedure for rationals/ints; divides arg0 by arg1 (aliases div and quotient)"
   ]
  },
  {
   "cell_type": "code",
   "execution_count": null,
   "metadata": {
    "collapsed": true
   },
   "outputs": [],
   "source": [
    "(//)"
   ]
  },
  {
   "cell_type": "markdown",
   "metadata": {},
   "source": [
    "## <\n",
    "(< arg0 arg1): less-than procedure for two arguments"
   ]
  },
  {
   "cell_type": "code",
   "execution_count": null,
   "metadata": {
    "collapsed": true
   },
   "outputs": [],
   "source": [
    "(<)"
   ]
  },
  {
   "cell_type": "markdown",
   "metadata": {},
   "source": [
    "## <=\n",
    "(<= arg0 arg1): less-than or equal procedure for two arguments"
   ]
  },
  {
   "cell_type": "code",
   "execution_count": null,
   "metadata": {
    "collapsed": true
   },
   "outputs": [],
   "source": [
    "(<=)"
   ]
  },
  {
   "cell_type": "markdown",
   "metadata": {},
   "source": [
    "## =\n",
    "(= arg0 arg1): numeric equality procedure for two arguments"
   ]
  },
  {
   "cell_type": "code",
   "execution_count": null,
   "metadata": {
    "collapsed": true
   },
   "outputs": [],
   "source": [
    "(=)"
   ]
  },
  {
   "cell_type": "markdown",
   "metadata": {},
   "source": [
    "## >\n",
    "(> arg0 arg1): greater-than procedure for two arguments"
   ]
  },
  {
   "cell_type": "code",
   "execution_count": null,
   "metadata": {
    "collapsed": true
   },
   "outputs": [],
   "source": [
    "(>)"
   ]
  },
  {
   "cell_type": "markdown",
   "metadata": {},
   "source": [
    "## >=\n",
    "(>= arg0 arg1): greater-than or equal procedure for two arguments"
   ]
  },
  {
   "cell_type": "code",
   "execution_count": null,
   "metadata": {
    "collapsed": true
   },
   "outputs": [],
   "source": [
    "(>=)"
   ]
  },
  {
   "cell_type": "markdown",
   "metadata": {},
   "source": [
    "## SCHEMEPATH\n",
    "List of search directories used with (load NAME)"
   ]
  },
  {
   "cell_type": "code",
   "execution_count": null,
   "metadata": {
    "collapsed": true
   },
   "outputs": [],
   "source": [
    "(SCHEMEPATH)"
   ]
  },
  {
   "cell_type": "markdown",
   "metadata": {},
   "source": [
    "## abort\n",
    "(abort) : aborts processing and returns to top level"
   ]
  },
  {
   "cell_type": "code",
   "execution_count": null,
   "metadata": {
    "collapsed": true
   },
   "outputs": [],
   "source": [
    "(abort)"
   ]
  },
  {
   "cell_type": "markdown",
   "metadata": {},
   "source": [
    "## abs\n",
    "(abs value): absolute value procedure"
   ]
  },
  {
   "cell_type": "code",
   "execution_count": null,
   "metadata": {
    "collapsed": true
   },
   "outputs": [],
   "source": [
    "(abs)"
   ]
  },
  {
   "cell_type": "markdown",
   "metadata": {},
   "source": [
    "## and\n",
    "(and ITEM ...)"
   ]
  },
  {
   "cell_type": "code",
   "execution_count": null,
   "metadata": {
    "collapsed": true
   },
   "outputs": [],
   "source": [
    "(and)"
   ]
  },
  {
   "cell_type": "markdown",
   "metadata": {},
   "source": [
    "## append\n",
    "(append ...): append lists together into a single list"
   ]
  },
  {
   "cell_type": "code",
   "execution_count": null,
   "metadata": {
    "collapsed": true
   },
   "outputs": [],
   "source": [
    "(append)"
   ]
  },
  {
   "cell_type": "markdown",
   "metadata": {},
   "source": [
    "## apply\n",
    "(apply PROCEDURE '(args...)): apply the PROCEDURE to the args"
   ]
  },
  {
   "cell_type": "code",
   "execution_count": null,
   "metadata": {
    "collapsed": true
   },
   "outputs": [],
   "source": [
    "(apply)"
   ]
  },
  {
   "cell_type": "markdown",
   "metadata": {},
   "source": [
    "## assq\n",
    "(assq ...): "
   ]
  },
  {
   "cell_type": "code",
   "execution_count": null,
   "metadata": {
    "collapsed": true
   },
   "outputs": [],
   "source": [
    "(assq)"
   ]
  },
  {
   "cell_type": "markdown",
   "metadata": {},
   "source": [
    "## assv\n",
    "(assv KEY ((ITEM VALUE) ...)): look for KEY in ITEMs; return matching (ITEM VALUE) or #f if not found"
   ]
  },
  {
   "cell_type": "code",
   "execution_count": null,
   "metadata": {
    "collapsed": true
   },
   "outputs": [],
   "source": [
    "(assv)"
   ]
  },
  {
   "cell_type": "markdown",
   "metadata": {},
   "source": [
    "## atom?\n",
    "(atom? ITEM): return #t if ITEM is a atom, #f otherwise"
   ]
  },
  {
   "cell_type": "code",
   "execution_count": null,
   "metadata": {
    "collapsed": true
   },
   "outputs": [],
   "source": [
    "(atom?)"
   ]
  },
  {
   "cell_type": "markdown",
   "metadata": {},
   "source": [
    "## boolean?\n",
    "(boolean? ITEM): return #t if ITEM is a boolean value"
   ]
  },
  {
   "cell_type": "code",
   "execution_count": null,
   "metadata": {
    "collapsed": true
   },
   "outputs": [],
   "source": [
    "(boolean?)"
   ]
  },
  {
   "cell_type": "markdown",
   "metadata": {},
   "source": [
    "## caaaar\n",
    "caaaar ...): "
   ]
  },
  {
   "cell_type": "code",
   "execution_count": 32,
   "metadata": {
    "collapsed": false
   },
   "outputs": [
    {
     "data": {
      "text/plain": [
       "(hello there)"
      ]
     },
     "execution_count": 32,
     "metadata": {},
     "output_type": "execute_result"
    }
   ],
   "source": [
    "(caaaar '(((((hello there) this is a test) what is this) (((1 2 3) 4 5 6) 7 8 9) another item) ((in)) (the) list))"
   ]
  },
  {
   "cell_type": "markdown",
   "metadata": {},
   "source": [
    "## caaadr\n",
    "(caaadr ...): "
   ]
  },
  {
   "cell_type": "code",
   "execution_count": 31,
   "metadata": {
    "collapsed": false
   },
   "outputs": [
    {
     "data": {
      "text/plain": [
       "in"
      ]
     },
     "execution_count": 31,
     "metadata": {},
     "output_type": "execute_result"
    }
   ],
   "source": [
    "(caaadr '(((((hello there) this is a test) what is this) (((1 2 3) 4 5 6) 7 8 9) another item) ((in)) (the) list))"
   ]
  },
  {
   "cell_type": "markdown",
   "metadata": {},
   "source": [
    "## caaar\n",
    "(caaar ...): "
   ]
  },
  {
   "cell_type": "code",
   "execution_count": 33,
   "metadata": {
    "collapsed": false
   },
   "outputs": [
    {
     "data": {
      "text/plain": [
       "((hello there) this is a test)"
      ]
     },
     "execution_count": 33,
     "metadata": {},
     "output_type": "execute_result"
    }
   ],
   "source": [
    "(caaar '(((((hello there) this is a test) what is this) (((1 2 3) 4 5 6) 7 8 9) another item) ((in)) (the) list))"
   ]
  },
  {
   "cell_type": "markdown",
   "metadata": {},
   "source": [
    "## caadar\n",
    "(caadar ...): "
   ]
  },
  {
   "cell_type": "code",
   "execution_count": 34,
   "metadata": {
    "collapsed": false
   },
   "outputs": [
    {
     "data": {
      "text/plain": [
       "((1 2 3) 4 5 6)"
      ]
     },
     "execution_count": 34,
     "metadata": {},
     "output_type": "execute_result"
    }
   ],
   "source": [
    "(caadar '(((((hello there) this is a test) what is this) (((1 2 3) 4 5 6) 7 8 9) another item) ((in)) (the) list))"
   ]
  },
  {
   "cell_type": "markdown",
   "metadata": {},
   "source": [
    "## caaddr\n",
    "(caaddr ...): "
   ]
  },
  {
   "cell_type": "code",
   "execution_count": 36,
   "metadata": {
    "collapsed": false
   },
   "outputs": [
    {
     "data": {
      "text/plain": [
       "the"
      ]
     },
     "execution_count": 36,
     "metadata": {},
     "output_type": "execute_result"
    }
   ],
   "source": [
    "(caaddr '(((((hello there) this is a test) what is this) (((1 2 3) 4 5 6) 7 8 9) another item) ((in)) (the) list))"
   ]
  },
  {
   "cell_type": "markdown",
   "metadata": {},
   "source": [
    "## caadr\n",
    "(caadr ...): "
   ]
  },
  {
   "cell_type": "code",
   "execution_count": 37,
   "metadata": {
    "collapsed": false
   },
   "outputs": [
    {
     "data": {
      "text/plain": [
       "(in)"
      ]
     },
     "execution_count": 37,
     "metadata": {},
     "output_type": "execute_result"
    }
   ],
   "source": [
    "(caadr '(((((hello there) this is a test) what is this) (((1 2 3) 4 5 6) 7 8 9) another item) ((in)) (the) list))"
   ]
  },
  {
   "cell_type": "markdown",
   "metadata": {},
   "source": [
    "## caar\n",
    "(caar ...): "
   ]
  },
  {
   "cell_type": "code",
   "execution_count": 38,
   "metadata": {
    "collapsed": false
   },
   "outputs": [
    {
     "data": {
      "text/plain": [
       "(((hello there) this is a test) what is this)"
      ]
     },
     "execution_count": 38,
     "metadata": {},
     "output_type": "execute_result"
    }
   ],
   "source": [
    "(caar '(((((hello there) this is a test) what is this) (((1 2 3) 4 5 6) 7 8 9) another item) ((in)) (the) list))"
   ]
  },
  {
   "cell_type": "markdown",
   "metadata": {},
   "source": [
    "## cadaar\n",
    "(cadaar ...): "
   ]
  },
  {
   "cell_type": "code",
   "execution_count": 39,
   "metadata": {
    "collapsed": false
   },
   "outputs": [
    {
     "data": {
      "text/plain": [
       "what"
      ]
     },
     "execution_count": 39,
     "metadata": {},
     "output_type": "execute_result"
    }
   ],
   "source": [
    "(cadaar '(((((hello there) this is a test) what is this) (((1 2 3) 4 5 6) 7 8 9) another item) ((in)) (the) list))"
   ]
  },
  {
   "cell_type": "markdown",
   "metadata": {},
   "source": [
    "## cadadr\n",
    "(cadadr ...): "
   ]
  },
  {
   "cell_type": "code",
   "execution_count": 40,
   "metadata": {
    "collapsed": false
   },
   "outputs": [
    {
     "name": "stderr",
     "output_type": "stream",
     "text": [
      "\n",
      "Traceback (most recent call last):\n",
      "  File \"In [40]\", line 1, col 1, in 'cadadr'\n",
      "UnhandledException: no such attribute 'car' on '()'\n",
      "\n"
     ]
    }
   ],
   "source": [
    "(cadadr '(((((hello there) this is a test) what is this) (((1 2 3) 4 5 6) 7 8 9) another item) ((in)) (the) list))"
   ]
  },
  {
   "cell_type": "markdown",
   "metadata": {},
   "source": [
    "## cadar\n",
    "(cadar ...): "
   ]
  },
  {
   "cell_type": "code",
   "execution_count": 41,
   "metadata": {
    "collapsed": false
   },
   "outputs": [
    {
     "data": {
      "text/plain": [
       "(((1 2 3) 4 5 6) 7 8 9)"
      ]
     },
     "execution_count": 41,
     "metadata": {},
     "output_type": "execute_result"
    }
   ],
   "source": [
    "(cadar '(((((hello there) this is a test) what is this) (((1 2 3) 4 5 6) 7 8 9) another item) ((in)) (the) list))"
   ]
  },
  {
   "cell_type": "markdown",
   "metadata": {},
   "source": [
    "## caddar\n",
    "(caddar ...): "
   ]
  },
  {
   "cell_type": "code",
   "execution_count": 42,
   "metadata": {
    "collapsed": false
   },
   "outputs": [
    {
     "data": {
      "text/plain": [
       "another"
      ]
     },
     "execution_count": 42,
     "metadata": {},
     "output_type": "execute_result"
    }
   ],
   "source": [
    "(caddar '(((((hello there) this is a test) what is this) (((1 2 3) 4 5 6) 7 8 9) another item) ((in)) (the) list))"
   ]
  },
  {
   "cell_type": "markdown",
   "metadata": {},
   "source": [
    "## cadddr\n",
    "(cadddr ...): "
   ]
  },
  {
   "cell_type": "code",
   "execution_count": 43,
   "metadata": {
    "collapsed": false
   },
   "outputs": [
    {
     "data": {
      "text/plain": [
       "list"
      ]
     },
     "execution_count": 43,
     "metadata": {},
     "output_type": "execute_result"
    }
   ],
   "source": [
    "(cadddr '(((((hello there) this is a test) what is this) (((1 2 3) 4 5 6) 7 8 9) another item) ((in)) (the) list))"
   ]
  },
  {
   "cell_type": "markdown",
   "metadata": {},
   "source": [
    "## caddr\n",
    "(caddr ITEM): return the (car (cdr (cdr ITEM)))"
   ]
  },
  {
   "cell_type": "code",
   "execution_count": 44,
   "metadata": {
    "collapsed": false
   },
   "outputs": [
    {
     "data": {
      "text/plain": [
       "(the)"
      ]
     },
     "execution_count": 44,
     "metadata": {},
     "output_type": "execute_result"
    }
   ],
   "source": [
    "(caddr '(((((hello there) this is a test) what is this) (((1 2 3) 4 5 6) 7 8 9) another item) ((in)) (the) list))"
   ]
  },
  {
   "cell_type": "markdown",
   "metadata": {},
   "source": [
    "## cadr\n",
    "(cadr ITEM): return the (car (cdr ITEM))"
   ]
  },
  {
   "cell_type": "code",
   "execution_count": 45,
   "metadata": {
    "collapsed": false
   },
   "outputs": [
    {
     "data": {
      "text/plain": [
       "((in))"
      ]
     },
     "execution_count": 45,
     "metadata": {},
     "output_type": "execute_result"
    }
   ],
   "source": [
    "(cadr '(((((hello there) this is a test) what is this) (((1 2 3) 4 5 6) 7 8 9) another item) ((in)) (the) list))"
   ]
  },
  {
   "cell_type": "markdown",
   "metadata": {},
   "source": [
    "## call-with-current-continuation\n",
    "(call-with-current-continuation ...): "
   ]
  },
  {
   "cell_type": "code",
   "execution_count": null,
   "metadata": {
    "collapsed": true
   },
   "outputs": [],
   "source": [
    "(call-with-current-continuation)"
   ]
  },
  {
   "cell_type": "markdown",
   "metadata": {},
   "source": [
    "## call/cc\n",
    "(call/cc ...): "
   ]
  },
  {
   "cell_type": "code",
   "execution_count": null,
   "metadata": {
    "collapsed": true
   },
   "outputs": [],
   "source": [
    "(call/cc)"
   ]
  },
  {
   "cell_type": "markdown",
   "metadata": {},
   "source": [
    "## car\n",
    "(car LIST) returns the first element of LIST"
   ]
  },
  {
   "cell_type": "code",
   "execution_count": 46,
   "metadata": {
    "collapsed": false
   },
   "outputs": [
    {
     "data": {
      "text/plain": [
       "((((hello there) this is a test) what is this) (((1 2 3) 4 5 6) 7 8 9) another item)"
      ]
     },
     "execution_count": 46,
     "metadata": {},
     "output_type": "execute_result"
    }
   ],
   "source": [
    "(car '(((((hello there) this is a test) what is this) (((1 2 3) 4 5 6) 7 8 9) another item) ((in)) (the) list))"
   ]
  },
  {
   "cell_type": "markdown",
   "metadata": {},
   "source": [
    "## case\n",
    "(case ...)"
   ]
  },
  {
   "cell_type": "code",
   "execution_count": null,
   "metadata": {
    "collapsed": true
   },
   "outputs": [],
   "source": [
    "(case)"
   ]
  },
  {
   "cell_type": "markdown",
   "metadata": {},
   "source": [
    "## cases\n",
    "(cases...)"
   ]
  },
  {
   "cell_type": "code",
   "execution_count": null,
   "metadata": {
    "collapsed": true
   },
   "outputs": [],
   "source": [
    "(cases)"
   ]
  },
  {
   "cell_type": "markdown",
   "metadata": {},
   "source": [
    "## cd\n",
    "(cd [PATH]): get the current directory, or set it if PATH is given (alias current-directory)"
   ]
  },
  {
   "cell_type": "code",
   "execution_count": null,
   "metadata": {
    "collapsed": true
   },
   "outputs": [],
   "source": [
    "(cd)"
   ]
  },
  {
   "cell_type": "markdown",
   "metadata": {},
   "source": [
    "## cdaaar\n",
    "(cdaaar ...): "
   ]
  },
  {
   "cell_type": "code",
   "execution_count": 47,
   "metadata": {
    "collapsed": false
   },
   "outputs": [
    {
     "data": {
      "text/plain": [
       "(this is a test)"
      ]
     },
     "execution_count": 47,
     "metadata": {},
     "output_type": "execute_result"
    }
   ],
   "source": [
    "(cdaaar '(((((hello there) this is a test) what is this) (((1 2 3) 4 5 6) 7 8 9) another item) ((in)) (the) list))"
   ]
  },
  {
   "cell_type": "markdown",
   "metadata": {},
   "source": [
    "## cdaadr\n",
    "(cdaadr ...): "
   ]
  },
  {
   "cell_type": "code",
   "execution_count": 48,
   "metadata": {
    "collapsed": false
   },
   "outputs": [
    {
     "data": {
      "text/plain": [
       "()"
      ]
     },
     "execution_count": 48,
     "metadata": {},
     "output_type": "execute_result"
    }
   ],
   "source": [
    "(cdaadr '(((((hello there) this is a test) what is this) (((1 2 3) 4 5 6) 7 8 9) another item) ((in)) (the) list))"
   ]
  },
  {
   "cell_type": "markdown",
   "metadata": {},
   "source": [
    "## cdaar\n",
    "(cdaar ...): "
   ]
  },
  {
   "cell_type": "code",
   "execution_count": 49,
   "metadata": {
    "collapsed": false
   },
   "outputs": [
    {
     "data": {
      "text/plain": [
       "(what is this)"
      ]
     },
     "execution_count": 49,
     "metadata": {},
     "output_type": "execute_result"
    }
   ],
   "source": [
    "(cdaar '(((((hello there) this is a test) what is this) (((1 2 3) 4 5 6) 7 8 9) another item) ((in)) (the) list))"
   ]
  },
  {
   "cell_type": "markdown",
   "metadata": {},
   "source": [
    "## cdadar\n",
    "(cdadar ...): "
   ]
  },
  {
   "cell_type": "code",
   "execution_count": 50,
   "metadata": {
    "collapsed": false
   },
   "outputs": [
    {
     "data": {
      "text/plain": [
       "(7 8 9)"
      ]
     },
     "execution_count": 50,
     "metadata": {},
     "output_type": "execute_result"
    }
   ],
   "source": [
    "(cdadar '(((((hello there) this is a test) what is this) (((1 2 3) 4 5 6) 7 8 9) another item) ((in)) (the) list))"
   ]
  },
  {
   "cell_type": "markdown",
   "metadata": {},
   "source": [
    "## cdaddr\n",
    "(cdaddr ...): "
   ]
  },
  {
   "cell_type": "code",
   "execution_count": 51,
   "metadata": {
    "collapsed": false
   },
   "outputs": [
    {
     "data": {
      "text/plain": [
       "()"
      ]
     },
     "execution_count": 51,
     "metadata": {},
     "output_type": "execute_result"
    }
   ],
   "source": [
    "(cdaddr '(((((hello there) this is a test) what is this) (((1 2 3) 4 5 6) 7 8 9) another item) ((in)) (the) list))"
   ]
  },
  {
   "cell_type": "markdown",
   "metadata": {},
   "source": [
    "## cdadr\n",
    "(cdadr ...): "
   ]
  },
  {
   "cell_type": "code",
   "execution_count": 52,
   "metadata": {
    "collapsed": false
   },
   "outputs": [
    {
     "data": {
      "text/plain": [
       "()"
      ]
     },
     "execution_count": 52,
     "metadata": {},
     "output_type": "execute_result"
    }
   ],
   "source": [
    "(cdadr '(((((hello there) this is a test) what is this) (((1 2 3) 4 5 6) 7 8 9) another item) ((in)) (the) list))"
   ]
  },
  {
   "cell_type": "markdown",
   "metadata": {},
   "source": [
    "## cdar\n",
    "(cdar ...): "
   ]
  },
  {
   "cell_type": "code",
   "execution_count": 53,
   "metadata": {
    "collapsed": false
   },
   "outputs": [
    {
     "data": {
      "text/plain": [
       "((((1 2 3) 4 5 6) 7 8 9) another item)"
      ]
     },
     "execution_count": 53,
     "metadata": {},
     "output_type": "execute_result"
    }
   ],
   "source": [
    "(cdar '(((((hello there) this is a test) what is this) (((1 2 3) 4 5 6) 7 8 9) another item) ((in)) (the) list))"
   ]
  },
  {
   "cell_type": "markdown",
   "metadata": {},
   "source": [
    "## cddaar\n",
    "(cddaar ...): "
   ]
  },
  {
   "cell_type": "code",
   "execution_count": 54,
   "metadata": {
    "collapsed": false
   },
   "outputs": [
    {
     "data": {
      "text/plain": [
       "(is this)"
      ]
     },
     "execution_count": 54,
     "metadata": {},
     "output_type": "execute_result"
    }
   ],
   "source": [
    "(cddaar '(((((hello there) this is a test) what is this) (((1 2 3) 4 5 6) 7 8 9) another item) ((in)) (the) list))"
   ]
  },
  {
   "cell_type": "markdown",
   "metadata": {},
   "source": [
    "## cddadr\n",
    "(cddadr ...): "
   ]
  },
  {
   "cell_type": "code",
   "execution_count": 55,
   "metadata": {
    "collapsed": false
   },
   "outputs": [
    {
     "name": "stderr",
     "output_type": "stream",
     "text": [
      "\n",
      "Traceback (most recent call last):\n",
      "  File \"In [55]\", line 1, col 1, in 'cddadr'\n",
      "UnhandledException: no such attribute 'cdr' on '()'\n",
      "\n"
     ]
    }
   ],
   "source": [
    "(cddadr '(((((hello there) this is a test) what is this) (((1 2 3) 4 5 6) 7 8 9) another item) ((in)) (the) list))"
   ]
  },
  {
   "cell_type": "markdown",
   "metadata": {},
   "source": [
    "## cddar\n",
    "(cddar ...): "
   ]
  },
  {
   "cell_type": "code",
   "execution_count": 56,
   "metadata": {
    "collapsed": false
   },
   "outputs": [
    {
     "data": {
      "text/plain": [
       "(another item)"
      ]
     },
     "execution_count": 56,
     "metadata": {},
     "output_type": "execute_result"
    }
   ],
   "source": [
    "(cddar '(((((hello there) this is a test) what is this) (((1 2 3) 4 5 6) 7 8 9) another item) ((in)) (the) list))"
   ]
  },
  {
   "cell_type": "markdown",
   "metadata": {},
   "source": [
    "## cdddar\n",
    "(cdddar ...): "
   ]
  },
  {
   "cell_type": "code",
   "execution_count": 57,
   "metadata": {
    "collapsed": false
   },
   "outputs": [
    {
     "data": {
      "text/plain": [
       "(item)"
      ]
     },
     "execution_count": 57,
     "metadata": {},
     "output_type": "execute_result"
    }
   ],
   "source": [
    "(cdddar '(((((hello there) this is a test) what is this) (((1 2 3) 4 5 6) 7 8 9) another item) ((in)) (the) list))"
   ]
  },
  {
   "cell_type": "markdown",
   "metadata": {},
   "source": [
    "## cddddr\n",
    "(cddddr ...): "
   ]
  },
  {
   "cell_type": "code",
   "execution_count": 58,
   "metadata": {
    "collapsed": false
   },
   "outputs": [
    {
     "data": {
      "text/plain": [
       "()"
      ]
     },
     "execution_count": 58,
     "metadata": {},
     "output_type": "execute_result"
    }
   ],
   "source": [
    "(cddddr '(((((hello there) this is a test) what is this) (((1 2 3) 4 5 6) 7 8 9) another item) ((in)) (the) list))"
   ]
  },
  {
   "cell_type": "markdown",
   "metadata": {},
   "source": [
    "## cdddr\n",
    "(cdddr ...): "
   ]
  },
  {
   "cell_type": "code",
   "execution_count": 59,
   "metadata": {
    "collapsed": false
   },
   "outputs": [
    {
     "data": {
      "text/plain": [
       "(list)"
      ]
     },
     "execution_count": 59,
     "metadata": {},
     "output_type": "execute_result"
    }
   ],
   "source": [
    "(cdddr '(((((hello there) this is a test) what is this) (((1 2 3) 4 5 6) 7 8 9) another item) ((in)) (the) list))"
   ]
  },
  {
   "cell_type": "markdown",
   "metadata": {},
   "source": [
    "## cddr\n",
    "(cddr ...): "
   ]
  },
  {
   "cell_type": "code",
   "execution_count": 60,
   "metadata": {
    "collapsed": false
   },
   "outputs": [
    {
     "data": {
      "text/plain": [
       "((the) list)"
      ]
     },
     "execution_count": 60,
     "metadata": {},
     "output_type": "execute_result"
    }
   ],
   "source": [
    "(cddr '(((((hello there) this is a test) what is this) (((1 2 3) 4 5 6) 7 8 9) another item) ((in)) (the) list))"
   ]
  },
  {
   "cell_type": "markdown",
   "metadata": {},
   "source": [
    "## cdr\n",
    "(cdr LIST) returns rest of LIST after (car LIST)"
   ]
  },
  {
   "cell_type": "code",
   "execution_count": 61,
   "metadata": {
    "collapsed": false
   },
   "outputs": [
    {
     "data": {
      "text/plain": [
       "(((in)) (the) list)"
      ]
     },
     "execution_count": 61,
     "metadata": {},
     "output_type": "execute_result"
    }
   ],
   "source": [
    "(cdr '(((((hello there) this is a test) what is this) (((1 2 3) 4 5 6) 7 8 9) another item) ((in)) (the) list))"
   ]
  },
  {
   "cell_type": "markdown",
   "metadata": {},
   "source": [
    "## char->integer\n",
    "(char->integer CHAR): return associated number of CHAR "
   ]
  },
  {
   "cell_type": "code",
   "execution_count": null,
   "metadata": {
    "collapsed": true
   },
   "outputs": [],
   "source": [
    "(char->integer)"
   ]
  },
  {
   "cell_type": "markdown",
   "metadata": {},
   "source": [
    "## char->string\n",
    "(char->string CHAR): "
   ]
  },
  {
   "cell_type": "code",
   "execution_count": null,
   "metadata": {
    "collapsed": true
   },
   "outputs": [],
   "source": [
    "(char->string)"
   ]
  },
  {
   "cell_type": "markdown",
   "metadata": {},
   "source": [
    "## char-alphabetic?\n",
    "(char-alphabetic? CHAR): return #t if CHAR is an alphabetic character, #f otherwise"
   ]
  },
  {
   "cell_type": "code",
   "execution_count": null,
   "metadata": {
    "collapsed": true
   },
   "outputs": [],
   "source": [
    "(char-alphabetic?)"
   ]
  },
  {
   "cell_type": "markdown",
   "metadata": {},
   "source": [
    "## char-numeric?\n",
    "(char-numeric? CHAR): return #t if CHAR is a whitespace character, #f otherwise"
   ]
  },
  {
   "cell_type": "code",
   "execution_count": null,
   "metadata": {
    "collapsed": true
   },
   "outputs": [],
   "source": [
    "(char-numeric?)"
   ]
  },
  {
   "cell_type": "markdown",
   "metadata": {},
   "source": [
    "## char-whitespace?\n",
    "(char-whitespace? CHAR): return #t if CHAR is a whitespace character, #f otherwise"
   ]
  },
  {
   "cell_type": "code",
   "execution_count": null,
   "metadata": {
    "collapsed": true
   },
   "outputs": [],
   "source": [
    "(char-whitespace?)"
   ]
  },
  {
   "cell_type": "markdown",
   "metadata": {},
   "source": [
    "## char=?\n",
    "(char=? CHAR1 CHAR2): return #t if CHAR1 has the same values as CHAR2, #f otherwise"
   ]
  },
  {
   "cell_type": "code",
   "execution_count": null,
   "metadata": {
    "collapsed": true
   },
   "outputs": [],
   "source": [
    "(char=?)"
   ]
  },
  {
   "cell_type": "markdown",
   "metadata": {},
   "source": [
    "## char?\n",
    "(char? ITEM): return #t if ITEM is a character, #f otherwise"
   ]
  },
  {
   "cell_type": "code",
   "execution_count": null,
   "metadata": {
    "collapsed": true
   },
   "outputs": [],
   "source": [
    "(char?)"
   ]
  },
  {
   "cell_type": "markdown",
   "metadata": {},
   "source": [
    "## choose\n",
    "(choose): "
   ]
  },
  {
   "cell_type": "code",
   "execution_count": null,
   "metadata": {
    "collapsed": true
   },
   "outputs": [],
   "source": [
    "(choose)"
   ]
  },
  {
   "cell_type": "markdown",
   "metadata": {},
   "source": [
    "## cond\n",
    "(cond ...)"
   ]
  },
  {
   "cell_type": "code",
   "execution_count": null,
   "metadata": {
    "collapsed": true
   },
   "outputs": [],
   "source": [
    "(cond)"
   ]
  },
  {
   "cell_type": "markdown",
   "metadata": {},
   "source": [
    "## cons\n",
    "(cons ITEM1 ITEM2): return a list with ITEM1 as car and ITEM2 as cdr (ITEM2 is typically a list)"
   ]
  },
  {
   "cell_type": "code",
   "execution_count": null,
   "metadata": {
    "collapsed": true
   },
   "outputs": [],
   "source": [
    "(cons)"
   ]
  },
  {
   "cell_type": "markdown",
   "metadata": {},
   "source": [
    "## contains\n",
    "(contains DICTIONARY ITEM): returns #t if DICTIONARY contains ITEM"
   ]
  },
  {
   "cell_type": "code",
   "execution_count": null,
   "metadata": {
    "collapsed": true
   },
   "outputs": [],
   "source": [
    "(contains)"
   ]
  },
  {
   "cell_type": "markdown",
   "metadata": {},
   "source": [
    "## current-directory\n",
    "(current-directory [PATH]): get the current directory, or set it if PATH is given (alias cd)"
   ]
  },
  {
   "cell_type": "code",
   "execution_count": null,
   "metadata": {
    "collapsed": true
   },
   "outputs": [],
   "source": [
    "(current-directory)"
   ]
  },
  {
   "cell_type": "markdown",
   "metadata": {},
   "source": [
    "## current-environment\n",
    "(current-environment): returns the current environment"
   ]
  },
  {
   "cell_type": "code",
   "execution_count": null,
   "metadata": {
    "collapsed": true
   },
   "outputs": [],
   "source": [
    "(current-environment)"
   ]
  },
  {
   "cell_type": "markdown",
   "metadata": {},
   "source": [
    "## current-time\n",
    "(current-time): returns the current time as number of seconds since 1970-1-1"
   ]
  },
  {
   "cell_type": "code",
   "execution_count": null,
   "metadata": {
    "collapsed": true
   },
   "outputs": [],
   "source": [
    "(current-time)"
   ]
  },
  {
   "cell_type": "markdown",
   "metadata": {},
   "source": [
    "## cut\n",
    "(cut ARGS...): return to toplevel with ARGS"
   ]
  },
  {
   "cell_type": "code",
   "execution_count": null,
   "metadata": {
    "collapsed": true
   },
   "outputs": [],
   "source": [
    "(cut)"
   ]
  },
  {
   "cell_type": "markdown",
   "metadata": {},
   "source": [
    "## define-datatype\n",
    "(define-datatype ...)"
   ]
  },
  {
   "cell_type": "code",
   "execution_count": null,
   "metadata": {
    "collapsed": true
   },
   "outputs": [],
   "source": [
    "(define-datatype)"
   ]
  },
  {
   "cell_type": "markdown",
   "metadata": {},
   "source": [
    "## define-syntax\n",
    "(define-syntax NAME RULES): a method for creating macros"
   ]
  },
  {
   "cell_type": "code",
   "execution_count": 67,
   "metadata": {
    "collapsed": true
   },
   "outputs": [],
   "source": [
    "(define-syntax time \n",
    "  [(time ?exp) (let ((start (current-time)))\n",
    "                 ?exp\n",
    "                 (- (current-time) start))])"
   ]
  },
  {
   "cell_type": "code",
   "execution_count": 68,
   "metadata": {
    "collapsed": false
   },
   "outputs": [
    {
     "data": {
      "text/plain": [
       "0.00025081634521484375"
      ]
     },
     "execution_count": 68,
     "metadata": {},
     "output_type": "execute_result"
    }
   ],
   "source": [
    "(time (car '(1 2 3 4)))"
   ]
  },
  {
   "cell_type": "code",
   "execution_count": 62,
   "metadata": {
    "collapsed": true
   },
   "outputs": [],
   "source": [
    ";;---------------------------------------------------------------------\n",
    ";; collect is like list comprehension in Python\n",
    "\n",
    "(define-syntax collect\n",
    "  [(collect ?exp for ?var in ?list)\n",
    "   (filter-map (lambda (?var) ?exp) (lambda (?var) #t) ?list)]\n",
    "  [(collect ?exp for ?var in ?list if ?condition)\n",
    "   (filter-map (lambda (?var) ?exp) (lambda (?var) ?condition) ?list)])\n",
    "\n",
    "(define filter-map\n",
    "  (lambda (f pred? values)\n",
    "    (if (null? values)\n",
    "      '()\n",
    "      (if (pred? (car values))\n",
    "          (cons (f (car values)) (filter-map f pred? (cdr values)))\n",
    "          (filter-map f pred? (cdr values))))))"
   ]
  },
  {
   "cell_type": "code",
   "execution_count": 63,
   "metadata": {
    "collapsed": false
   },
   "outputs": [
    {
     "data": {
      "text/plain": [
       "(0 1 4 9 16 25 36 49 64 81)"
      ]
     },
     "execution_count": 63,
     "metadata": {},
     "output_type": "execute_result"
    }
   ],
   "source": [
    "(collect (* n n) for n in (range 10))"
   ]
  },
  {
   "cell_type": "code",
   "execution_count": 64,
   "metadata": {
    "collapsed": false
   },
   "outputs": [
    {
     "data": {
      "text/plain": [
       "(25 64 121 196 289)"
      ]
     },
     "execution_count": 64,
     "metadata": {},
     "output_type": "execute_result"
    }
   ],
   "source": [
    "(collect (* n n) for n in (range 5 20 3))"
   ]
  },
  {
   "cell_type": "code",
   "execution_count": 66,
   "metadata": {
    "collapsed": false
   },
   "outputs": [
    {
     "data": {
      "text/plain": [
       "(36 49 64 81)"
      ]
     },
     "execution_count": 66,
     "metadata": {},
     "output_type": "execute_result"
    }
   ],
   "source": [
    "(collect (* n n) for n in (range 10) if (> n 5))"
   ]
  },
  {
   "cell_type": "code",
   "execution_count": 70,
   "metadata": {
    "collapsed": true
   },
   "outputs": [],
   "source": [
    ";;---------------------------------------------------------------------\n",
    ";; for loops\n",
    "\n",
    "(define-syntax for\n",
    "  [(for ?exp times do . ?bodies)\n",
    "   (for-repeat ?exp (lambda () . ?bodies))]\n",
    "  [(for ?var in ?exp do . ?bodies)\n",
    "   (for-iterate1 ?exp (lambda (?var) . ?bodies))]\n",
    "  [(for ?var at (?i) in ?exp do . ?bodies)\n",
    "   (for-iterate2 0 ?exp (lambda (?var ?i) . ?bodies))]\n",
    "  [(for ?var at (?i ?j . ?rest) in ?exp do . ?bodies)\n",
    "   (for ?var at (?i) in ?exp do\n",
    "     (for ?var at (?j . ?rest) in ?var do . ?bodies))])\n",
    "\n",
    "(define for-repeat\n",
    "  (lambda (n f)\n",
    "    (if (< n 1)\n",
    "      'done\n",
    "      (begin\n",
    "        (f)\n",
    "        (for-repeat (- n 1) f)))))\n",
    "\n",
    "(define for-iterate1\n",
    "  (lambda (values f)\n",
    "    (if (null? values)\n",
    "      'done\n",
    "      (begin\n",
    "        (f (car values))\n",
    "        (for-iterate1 (cdr values) f)))))\n",
    "\n",
    "(define for-iterate2\n",
    "  (lambda (i values f)\n",
    "    (if (null? values)\n",
    "      'done\n",
    "      (begin\n",
    "        (f (car values) i)\n",
    "        (for-iterate2 (+ i 1) (cdr values) f)))))"
   ]
  },
  {
   "cell_type": "code",
   "execution_count": 71,
   "metadata": {
    "collapsed": true
   },
   "outputs": [],
   "source": [
    "(define matrix2d\n",
    "  '((10 20)\n",
    "    (30 40)\n",
    "    (50 60)\n",
    "    (70 80)))\n",
    "\n",
    "(define matrix3d\n",
    "  '(((10 20 30) (40 50 60))\n",
    "    ((70 80 90) (100 110 120))\n",
    "    ((130 140 150) (160 170 180))\n",
    "    ((190 200 210) (220 230 240))))"
   ]
  },
  {
   "cell_type": "code",
   "execution_count": 73,
   "metadata": {
    "collapsed": false
   },
   "outputs": [
    {
     "data": {
      "text/plain": [
       "5"
      ]
     },
     "execution_count": 73,
     "metadata": {},
     "output_type": "execute_result"
    }
   ],
   "source": [
    "(begin \n",
    " (define hello 0)\n",
    " (for 5 times do (set! hello (+ hello 1)))\n",
    " hello\n",
    " )"
   ]
  },
  {
   "cell_type": "code",
   "execution_count": 74,
   "metadata": {
    "collapsed": false
   },
   "outputs": [
    {
     "data": {
      "text/plain": [
       "done"
      ]
     },
     "execution_count": 74,
     "metadata": {},
     "output_type": "execute_result"
    }
   ],
   "source": [
    "(for sym in '(a b c d) do (define x 1) (set! x sym) x)"
   ]
  },
  {
   "cell_type": "code",
   "execution_count": 75,
   "metadata": {
    "collapsed": false
   },
   "outputs": [
    {
     "data": {
      "text/plain": [
       "done"
      ]
     },
     "execution_count": 75,
     "metadata": {},
     "output_type": "execute_result"
    }
   ],
   "source": [
    "(for n in (range 10 20 2) do n)"
   ]
  },
  {
   "cell_type": "code",
   "execution_count": 76,
   "metadata": {
    "collapsed": false
   },
   "outputs": [
    {
     "data": {
      "text/plain": [
       "done"
      ]
     },
     "execution_count": 76,
     "metadata": {},
     "output_type": "execute_result"
    }
   ],
   "source": [
    "(for n at (i j) in matrix2d do (list n 'coords: i j))"
   ]
  },
  {
   "cell_type": "code",
   "execution_count": 77,
   "metadata": {
    "collapsed": false
   },
   "outputs": [
    {
     "data": {
      "text/plain": [
       "done"
      ]
     },
     "execution_count": 77,
     "metadata": {},
     "output_type": "execute_result"
    }
   ],
   "source": [
    "(for n at (i j k) in matrix3d do (list n 'coords: i j k))"
   ]
  },
  {
   "cell_type": "markdown",
   "metadata": {},
   "source": [
    "## dict\n",
    "(dict ...): "
   ]
  },
  {
   "cell_type": "code",
   "execution_count": null,
   "metadata": {
    "collapsed": true
   },
   "outputs": [],
   "source": [
    "(dict)"
   ]
  },
  {
   "cell_type": "markdown",
   "metadata": {},
   "source": [
    "## dir\n",
    "(dir [ITEM]): return items in environment, or, if ITEM is given, the items in module"
   ]
  },
  {
   "cell_type": "code",
   "execution_count": null,
   "metadata": {
    "collapsed": true
   },
   "outputs": [],
   "source": [
    "(dir)"
   ]
  },
  {
   "cell_type": "markdown",
   "metadata": {},
   "source": [
    "## display\n",
    "(display ITEM): display the ITEM as output"
   ]
  },
  {
   "cell_type": "code",
   "execution_count": null,
   "metadata": {
    "collapsed": true
   },
   "outputs": [],
   "source": [
    "(display)"
   ]
  },
  {
   "cell_type": "markdown",
   "metadata": {},
   "source": [
    "## div\n",
    "(div arg0 arg1): quotient procedure for rationals/ints; divides arg0 by arg1 (aliases // and quotient)"
   ]
  },
  {
   "cell_type": "code",
   "execution_count": null,
   "metadata": {
    "collapsed": true
   },
   "outputs": [],
   "source": [
    "(div)"
   ]
  },
  {
   "cell_type": "markdown",
   "metadata": {},
   "source": [
    "## eq?\n",
    "(eq? ITEM1 ITEM2): return #t if ITEM1 is eq to ITEM2, #f otherwise"
   ]
  },
  {
   "cell_type": "code",
   "execution_count": null,
   "metadata": {
    "collapsed": true
   },
   "outputs": [],
   "source": [
    "(eq?)"
   ]
  },
  {
   "cell_type": "markdown",
   "metadata": {},
   "source": [
    "## equal?\n",
    "(equal? ITEM1 ITEM2): return #t if ITEM1 is equal to ITEM2, #f otherwise"
   ]
  },
  {
   "cell_type": "code",
   "execution_count": null,
   "metadata": {
    "collapsed": true
   },
   "outputs": [],
   "source": [
    "(equal?)"
   ]
  },
  {
   "cell_type": "markdown",
   "metadata": {},
   "source": [
    "## eqv?\n",
    "(eqv? ITEM1 ITEM2): return #t if ITEM1 and ITEM2 have the same value"
   ]
  },
  {
   "cell_type": "code",
   "execution_count": null,
   "metadata": {
    "collapsed": true
   },
   "outputs": [],
   "source": [
    "(eqv?)"
   ]
  },
  {
   "cell_type": "markdown",
   "metadata": {},
   "source": [
    "## error\n",
    "(error NAME MESSAGE): create an exception in NAME with MESSAGE"
   ]
  },
  {
   "cell_type": "code",
   "execution_count": null,
   "metadata": {
    "collapsed": true
   },
   "outputs": [],
   "source": [
    "(error)"
   ]
  },
  {
   "cell_type": "markdown",
   "metadata": {},
   "source": [
    "## eval\n",
    "(eval LIST): evaluates the LIST as a Scheme expression"
   ]
  },
  {
   "cell_type": "code",
   "execution_count": null,
   "metadata": {
    "collapsed": true
   },
   "outputs": [],
   "source": [
    "(eval)"
   ]
  },
  {
   "cell_type": "markdown",
   "metadata": {},
   "source": [
    "## eval-ast\n",
    "(eval-ast AST): evaluates the Abstract Syntax Tree as a Scheme expression (see parse and parse-string)"
   ]
  },
  {
   "cell_type": "code",
   "execution_count": null,
   "metadata": {
    "collapsed": true
   },
   "outputs": [],
   "source": [
    "(eval-ast)"
   ]
  },
  {
   "cell_type": "markdown",
   "metadata": {},
   "source": [
    "## even?\n",
    "(even? NUMBER): returns #t if NUMBER is odd, #f otherwise"
   ]
  },
  {
   "cell_type": "code",
   "execution_count": null,
   "metadata": {
    "collapsed": true
   },
   "outputs": [],
   "source": [
    "(even?)"
   ]
  },
  {
   "cell_type": "markdown",
   "metadata": {},
   "source": [
    "## exit\n",
    "(exit): "
   ]
  },
  {
   "cell_type": "code",
   "execution_count": 78,
   "metadata": {
    "collapsed": false
   },
   "outputs": [
    {
     "data": {
      "text/plain": [
       "(exiting the interpreter)"
      ]
     },
     "execution_count": 78,
     "metadata": {},
     "output_type": "execute_result"
    }
   ],
   "source": [
    "(exit)"
   ]
  },
  {
   "cell_type": "markdown",
   "metadata": {},
   "source": [
    "## float\n",
    "(float NUMBER): return NUMBER as a floating point value"
   ]
  },
  {
   "cell_type": "code",
   "execution_count": 79,
   "metadata": {
    "collapsed": false
   },
   "outputs": [
    {
     "data": {
      "text/plain": [
       "34.0"
      ]
     },
     "execution_count": 79,
     "metadata": {},
     "output_type": "execute_result"
    }
   ],
   "source": [
    "(float 34)"
   ]
  },
  {
   "cell_type": "markdown",
   "metadata": {},
   "source": [
    "## for-each\n",
    "(for-each PROCEDURE LIST): apply PROCEDURE to each item in LIST; like `map` but don't return results"
   ]
  },
  {
   "cell_type": "code",
   "execution_count": 81,
   "metadata": {
    "collapsed": false
   },
   "outputs": [
    {
     "name": "stdout",
     "output_type": "stream",
     "text": [
      "3\n",
      "4\n",
      "5\n"
     ]
    }
   ],
   "source": [
    "(for-each (lambda (n) (print n)) '(3 4 5))"
   ]
  },
  {
   "cell_type": "markdown",
   "metadata": {},
   "source": [
    "## format\n",
    "(format STRING ITEM ...): format the string with ITEMS as arguments"
   ]
  },
  {
   "cell_type": "code",
   "execution_count": null,
   "metadata": {
    "collapsed": true
   },
   "outputs": [],
   "source": [
    "(format)"
   ]
  },
  {
   "cell_type": "markdown",
   "metadata": {},
   "source": [
    "## get\n",
    "(get ...): "
   ]
  },
  {
   "cell_type": "code",
   "execution_count": null,
   "metadata": {
    "collapsed": true
   },
   "outputs": [],
   "source": [
    "(get)"
   ]
  },
  {
   "cell_type": "markdown",
   "metadata": {},
   "source": [
    "## get-stack-trace\n",
    "(get-stack-trace): return the current stack trace"
   ]
  },
  {
   "cell_type": "code",
   "execution_count": null,
   "metadata": {
    "collapsed": true
   },
   "outputs": [],
   "source": [
    "(get-stack-trace)"
   ]
  },
  {
   "cell_type": "markdown",
   "metadata": {},
   "source": [
    "## getitem\n",
    "(getitem DICTIONARY ITEM): returns the VALUE of DICTIONARY[ITEM]"
   ]
  },
  {
   "cell_type": "code",
   "execution_count": null,
   "metadata": {
    "collapsed": true
   },
   "outputs": [],
   "source": [
    "(getitem)"
   ]
  },
  {
   "cell_type": "markdown",
   "metadata": {},
   "source": [
    "## globals\n",
    "(globals): get global environment"
   ]
  },
  {
   "cell_type": "code",
   "execution_count": null,
   "metadata": {
    "collapsed": true
   },
   "outputs": [],
   "source": [
    "(globals)"
   ]
  },
  {
   "cell_type": "markdown",
   "metadata": {},
   "source": [
    "## import\n",
    "(import MODULE...): import host-system modules; MODULEs are strings"
   ]
  },
  {
   "cell_type": "code",
   "execution_count": null,
   "metadata": {
    "collapsed": true
   },
   "outputs": [],
   "source": [
    "(import)"
   ]
  },
  {
   "cell_type": "markdown",
   "metadata": {},
   "source": [
    "## import-as\n",
    "(import-as MODULE NAME): import a host-system module; MODULE is a string, and NAME is a symbol or string. Use * for NAME to import into toplevel environment"
   ]
  },
  {
   "cell_type": "code",
   "execution_count": null,
   "metadata": {
    "collapsed": true
   },
   "outputs": [],
   "source": [
    "(import-as)"
   ]
  },
  {
   "cell_type": "markdown",
   "metadata": {},
   "source": [
    "## import-from\n",
    "(import-from MODULE NAME...): import from host-system module; MODULE is a string, and NAME is a symbol or string"
   ]
  },
  {
   "cell_type": "code",
   "execution_count": null,
   "metadata": {
    "collapsed": true
   },
   "outputs": [],
   "source": [
    "(import-from)"
   ]
  },
  {
   "cell_type": "markdown",
   "metadata": {},
   "source": [
    "## int\n",
    "(int NUMBER): return NUMBER as an integer"
   ]
  },
  {
   "cell_type": "code",
   "execution_count": null,
   "metadata": {
    "collapsed": true
   },
   "outputs": [],
   "source": [
    "(int)"
   ]
  },
  {
   "cell_type": "markdown",
   "metadata": {},
   "source": [
    "## integer->char\n",
    "(integer->char INTEGER): return the assocated character of INTEGER"
   ]
  },
  {
   "cell_type": "code",
   "execution_count": null,
   "metadata": {
    "collapsed": true
   },
   "outputs": [],
   "source": [
    "(integer->char)"
   ]
  },
  {
   "cell_type": "markdown",
   "metadata": {},
   "source": [
    "## iter?\n",
    "(iter? ITEM): return #t if ITEM is a iterator, #f otherwise"
   ]
  },
  {
   "cell_type": "code",
   "execution_count": null,
   "metadata": {
    "collapsed": true
   },
   "outputs": [],
   "source": [
    "(iter?)"
   ]
  },
  {
   "cell_type": "markdown",
   "metadata": {},
   "source": [
    "## length\n",
    "(length LIST): returns the number of elements in top level of LIST"
   ]
  },
  {
   "cell_type": "code",
   "execution_count": null,
   "metadata": {
    "collapsed": true
   },
   "outputs": [],
   "source": [
    "(length)"
   ]
  },
  {
   "cell_type": "markdown",
   "metadata": {},
   "source": [
    "## let\n",
    "(let ...)"
   ]
  },
  {
   "cell_type": "code",
   "execution_count": null,
   "metadata": {
    "collapsed": true
   },
   "outputs": [],
   "source": [
    "(let)"
   ]
  },
  {
   "cell_type": "markdown",
   "metadata": {},
   "source": [
    "## let*\n",
    "(let* ...)"
   ]
  },
  {
   "cell_type": "code",
   "execution_count": null,
   "metadata": {
    "collapsed": true
   },
   "outputs": [],
   "source": [
    "(let*)"
   ]
  },
  {
   "cell_type": "markdown",
   "metadata": {},
   "source": [
    "## letrec\n",
    "(letrec ...)"
   ]
  },
  {
   "cell_type": "code",
   "execution_count": null,
   "metadata": {
    "collapsed": true
   },
   "outputs": [],
   "source": [
    "(letrec)"
   ]
  },
  {
   "cell_type": "markdown",
   "metadata": {},
   "source": [
    "## list\n",
    "(list ITEM ...): returns a list composed of all of the items"
   ]
  },
  {
   "cell_type": "code",
   "execution_count": null,
   "metadata": {
    "collapsed": true
   },
   "outputs": [],
   "source": [
    "(list)"
   ]
  },
  {
   "cell_type": "markdown",
   "metadata": {},
   "source": [
    "## list->string\n",
    "(list->string LIST): returns the LIST as a string"
   ]
  },
  {
   "cell_type": "code",
   "execution_count": null,
   "metadata": {
    "collapsed": true
   },
   "outputs": [],
   "source": [
    "(list->string)"
   ]
  },
  {
   "cell_type": "markdown",
   "metadata": {},
   "source": [
    "## list->vector\n",
    "(list->vector LIST): returns the LIST as a vector"
   ]
  },
  {
   "cell_type": "code",
   "execution_count": null,
   "metadata": {
    "collapsed": true
   },
   "outputs": [],
   "source": [
    "(list->vector)"
   ]
  },
  {
   "cell_type": "markdown",
   "metadata": {},
   "source": [
    "## list-ref\n",
    "(list-ref LIST INDEX): returns the item in LIST at INDEX (zero-based)"
   ]
  },
  {
   "cell_type": "code",
   "execution_count": null,
   "metadata": {
    "collapsed": true
   },
   "outputs": [],
   "source": [
    "(list-ref)"
   ]
  },
  {
   "cell_type": "markdown",
   "metadata": {},
   "source": [
    "## list?\n",
    "(list? ITEM): return #t if ITEM is a list, #f otherwise"
   ]
  },
  {
   "cell_type": "code",
   "execution_count": null,
   "metadata": {
    "collapsed": true
   },
   "outputs": [],
   "source": [
    "(list?)"
   ]
  },
  {
   "cell_type": "markdown",
   "metadata": {},
   "source": [
    "## load\n",
    "(load FILENAME...): loads the given FILENAMEs"
   ]
  },
  {
   "cell_type": "code",
   "execution_count": null,
   "metadata": {
    "collapsed": true
   },
   "outputs": [],
   "source": [
    "(load)"
   ]
  },
  {
   "cell_type": "markdown",
   "metadata": {},
   "source": [
    "## load-as\n",
    "(load-as FILENAME MODULE-NAME): load the filename, putting items in MODULE-NAME namespace"
   ]
  },
  {
   "cell_type": "code",
   "execution_count": 22,
   "metadata": {
    "collapsed": false
   },
   "outputs": [
    {
     "name": "stderr",
     "output_type": "stream",
     "text": [
      "\n",
      "Traceback (most recent call last):\n",
      "  File \"In [22]\", line 1, col 1, in 'load-as'\n",
      "RunTimeError: attempted to load nonexistent file 'sllgen.ss'\n",
      "\n"
     ]
    }
   ],
   "source": [
    "(load-as \"sllgen.ss\" \"sll\")"
   ]
  },
  {
   "cell_type": "markdown",
   "metadata": {},
   "source": [
    "## make-set\n",
    "(make-set LIST): returns a list of unique items from LIST"
   ]
  },
  {
   "cell_type": "code",
   "execution_count": null,
   "metadata": {
    "collapsed": true
   },
   "outputs": [],
   "source": [
    "(make-set)"
   ]
  },
  {
   "cell_type": "markdown",
   "metadata": {},
   "source": [
    "## make-vector\n",
    "(make-vector LIST): returns a vector from LIST"
   ]
  },
  {
   "cell_type": "code",
   "execution_count": null,
   "metadata": {
    "collapsed": true
   },
   "outputs": [],
   "source": [
    "(make-vector)"
   ]
  },
  {
   "cell_type": "markdown",
   "metadata": {},
   "source": [
    "## map\n",
    "(map PROCEDURE LIST...): apply PROCEDURE to each element of LIST; like for-each but returns results"
   ]
  },
  {
   "cell_type": "code",
   "execution_count": 87,
   "metadata": {
    "collapsed": false
   },
   "outputs": [
    {
     "data": {
      "text/plain": [
       "(5 6 7)"
      ]
     },
     "execution_count": 87,
     "metadata": {},
     "output_type": "execute_result"
    }
   ],
   "source": [
    "(map (lambda (n) (+ n 2)) '(3 4 5))"
   ]
  },
  {
   "cell_type": "code",
   "execution_count": 86,
   "metadata": {
    "collapsed": false
   },
   "outputs": [
    {
     "name": "stdout",
     "output_type": "stream",
     "text": [
      "3\n",
      "4\n",
      "5\n"
     ]
    },
    {
     "data": {
      "text/plain": [
       "(<void> <void> <void>)"
      ]
     },
     "execution_count": 86,
     "metadata": {},
     "output_type": "execute_result"
    }
   ],
   "source": [
    "(map (lambda (n) (print n)) '(3 4 5))"
   ]
  },
  {
   "cell_type": "markdown",
   "metadata": {},
   "source": [
    "## max\n",
    "(max ...): returns the maximum value from the list of values"
   ]
  },
  {
   "cell_type": "code",
   "execution_count": null,
   "metadata": {
    "collapsed": true
   },
   "outputs": [],
   "source": [
    "(max)"
   ]
  },
  {
   "cell_type": "markdown",
   "metadata": {},
   "source": [
    "## member\n",
    "(member ITEM LIST): return #t if MEMBER in top level of LIST"
   ]
  },
  {
   "cell_type": "code",
   "execution_count": null,
   "metadata": {
    "collapsed": true
   },
   "outputs": [],
   "source": [
    "(member)"
   ]
  },
  {
   "cell_type": "markdown",
   "metadata": {},
   "source": [
    "## memq\n",
    "(memq ...): "
   ]
  },
  {
   "cell_type": "code",
   "execution_count": null,
   "metadata": {
    "collapsed": true
   },
   "outputs": [],
   "source": [
    "(memq)"
   ]
  },
  {
   "cell_type": "markdown",
   "metadata": {},
   "source": [
    "## memv\n",
    "(memv ...): "
   ]
  },
  {
   "cell_type": "code",
   "execution_count": null,
   "metadata": {
    "collapsed": true
   },
   "outputs": [],
   "source": [
    "(memv)"
   ]
  },
  {
   "cell_type": "markdown",
   "metadata": {},
   "source": [
    "## min\n",
    "(min ...): returns the minimum value from the list of values"
   ]
  },
  {
   "cell_type": "code",
   "execution_count": null,
   "metadata": {
    "collapsed": true
   },
   "outputs": [],
   "source": [
    "(min)"
   ]
  },
  {
   "cell_type": "markdown",
   "metadata": {},
   "source": [
    "## mod\n",
    "(mod arg0 arg1): modulo procedure for two arguments (aliases % and modulo)"
   ]
  },
  {
   "cell_type": "code",
   "execution_count": null,
   "metadata": {
    "collapsed": true
   },
   "outputs": [],
   "source": [
    "(mod)"
   ]
  },
  {
   "cell_type": "markdown",
   "metadata": {},
   "source": [
    "## modulo\n",
    "(modulo arg0 arg1): modulo procedure for two arguments (aliases mod and %)"
   ]
  },
  {
   "cell_type": "code",
   "execution_count": null,
   "metadata": {
    "collapsed": true
   },
   "outputs": [],
   "source": [
    "(modulo)"
   ]
  },
  {
   "cell_type": "markdown",
   "metadata": {},
   "source": [
    "## newline\n",
    "(newline): displays a new line in output"
   ]
  },
  {
   "cell_type": "code",
   "execution_count": 88,
   "metadata": {
    "collapsed": false
   },
   "outputs": [
    {
     "name": "stdout",
     "output_type": "stream",
     "text": [
      "\n"
     ]
    }
   ],
   "source": [
    "(newline)"
   ]
  },
  {
   "cell_type": "markdown",
   "metadata": {},
   "source": [
    "## not\n",
    "(not ITEM): returns the boolean not of ITEM; ITEM is only #t when #t, otherwise #f"
   ]
  },
  {
   "cell_type": "code",
   "execution_count": 89,
   "metadata": {
    "collapsed": false
   },
   "outputs": [
    {
     "data": {
      "text/plain": [
       "#t"
      ]
     },
     "execution_count": 89,
     "metadata": {},
     "output_type": "execute_result"
    }
   ],
   "source": [
    "(not #f)"
   ]
  },
  {
   "cell_type": "code",
   "execution_count": 90,
   "metadata": {
    "collapsed": false
   },
   "outputs": [
    {
     "data": {
      "text/plain": [
       "#f"
      ]
     },
     "execution_count": 90,
     "metadata": {},
     "output_type": "execute_result"
    }
   ],
   "source": [
    "(not #t)"
   ]
  },
  {
   "cell_type": "markdown",
   "metadata": {},
   "source": [
    "## null?\n",
    "(null? ITEM): return #t if ITEM is empty list, #f otherwise"
   ]
  },
  {
   "cell_type": "code",
   "execution_count": 91,
   "metadata": {
    "collapsed": false
   },
   "outputs": [
    {
     "data": {
      "text/plain": [
       "#t"
      ]
     },
     "execution_count": 91,
     "metadata": {},
     "output_type": "execute_result"
    }
   ],
   "source": [
    "(null? '())"
   ]
  },
  {
   "cell_type": "code",
   "execution_count": 92,
   "metadata": {
    "collapsed": false
   },
   "outputs": [
    {
     "data": {
      "text/plain": [
       "#f"
      ]
     },
     "execution_count": 92,
     "metadata": {},
     "output_type": "execute_result"
    }
   ],
   "source": [
    "(null? '(1))"
   ]
  },
  {
   "cell_type": "markdown",
   "metadata": {},
   "source": [
    "## number->string\n",
    "(number->string NUMBER): return NUMBER as a string"
   ]
  },
  {
   "cell_type": "code",
   "execution_count": null,
   "metadata": {
    "collapsed": true
   },
   "outputs": [],
   "source": [
    "(number->string)"
   ]
  },
  {
   "cell_type": "markdown",
   "metadata": {},
   "source": [
    "## number?\n",
    "(number? ITEM): return #t if ITEM is a number, #f otherwise"
   ]
  },
  {
   "cell_type": "code",
   "execution_count": null,
   "metadata": {
    "collapsed": true
   },
   "outputs": [],
   "source": [
    "(number?)"
   ]
  },
  {
   "cell_type": "markdown",
   "metadata": {},
   "source": [
    "## odd?\n",
    "(odd? NUMBER): returns #t if NUMBER is even, #f otherwise"
   ]
  },
  {
   "cell_type": "code",
   "execution_count": null,
   "metadata": {
    "collapsed": true
   },
   "outputs": [],
   "source": [
    "(odd?)"
   ]
  },
  {
   "cell_type": "markdown",
   "metadata": {},
   "source": [
    "## or\n",
    "(or ITEM...)"
   ]
  },
  {
   "cell_type": "code",
   "execution_count": null,
   "metadata": {
    "collapsed": true
   },
   "outputs": [],
   "source": [
    "(or)"
   ]
  },
  {
   "cell_type": "markdown",
   "metadata": {},
   "source": [
    "## pair?\n",
    "(pair? ITEM): "
   ]
  },
  {
   "cell_type": "code",
   "execution_count": null,
   "metadata": {
    "collapsed": true
   },
   "outputs": [],
   "source": [
    "(pair?)"
   ]
  },
  {
   "cell_type": "markdown",
   "metadata": {},
   "source": [
    "## parse\n",
    "(parse LIST): parse a list; returns Abstract Syntax Tree (AST)"
   ]
  },
  {
   "cell_type": "code",
   "execution_count": null,
   "metadata": {
    "collapsed": true
   },
   "outputs": [],
   "source": [
    "(parse)"
   ]
  },
  {
   "cell_type": "markdown",
   "metadata": {},
   "source": [
    "## parse-string\n",
    "(parse-string STRING): parse a string; returns Abstract Syntax Tree (AST)"
   ]
  },
  {
   "cell_type": "code",
   "execution_count": null,
   "metadata": {
    "collapsed": true
   },
   "outputs": [],
   "source": [
    "(parse-string)"
   ]
  },
  {
   "cell_type": "markdown",
   "metadata": {},
   "source": [
    "## print\n",
    "(print ITEM): "
   ]
  },
  {
   "cell_type": "code",
   "execution_count": null,
   "metadata": {
    "collapsed": true
   },
   "outputs": [],
   "source": [
    "(print)"
   ]
  },
  {
   "cell_type": "markdown",
   "metadata": {},
   "source": [
    "## printf\n",
    "(printf FORMAT ARGS...): "
   ]
  },
  {
   "cell_type": "code",
   "execution_count": null,
   "metadata": {
    "collapsed": true
   },
   "outputs": [],
   "source": [
    "(printf)"
   ]
  },
  {
   "cell_type": "markdown",
   "metadata": {},
   "source": [
    "## procedure?\n",
    "(procedure? ITEM): return #t if ITEM is a procedure, #f otherwise"
   ]
  },
  {
   "cell_type": "code",
   "execution_count": null,
   "metadata": {
    "collapsed": true
   },
   "outputs": [],
   "source": [
    "(procedure?)"
   ]
  },
  {
   "cell_type": "markdown",
   "metadata": {},
   "source": [
    "## property\n",
    "(property ...): "
   ]
  },
  {
   "cell_type": "code",
   "execution_count": null,
   "metadata": {
    "collapsed": true
   },
   "outputs": [],
   "source": [
    "(property)"
   ]
  },
  {
   "cell_type": "markdown",
   "metadata": {},
   "source": [
    "## python-eval\n",
    "(python-eval PYTHON-EXPRESSION [globals [locals]]): return the result of evaluating PYTHON-EXPRESSION string"
   ]
  },
  {
   "cell_type": "code",
   "execution_count": 21,
   "metadata": {
    "collapsed": false
   },
   "outputs": [
    {
     "data": {
      "text/plain": [
       "5"
      ]
     },
     "execution_count": 21,
     "metadata": {},
     "output_type": "execute_result"
    }
   ],
   "source": [
    "(python-eval \"1 + 4\")"
   ]
  },
  {
   "cell_type": "markdown",
   "metadata": {},
   "source": [
    "## python-exec\n",
    "(python-exec PYTHON-STATEMENTS [globals [locals]]): return the result of evaluating PYTHON-STATEMENTS string"
   ]
  },
  {
   "cell_type": "code",
   "execution_count": 20,
   "metadata": {
    "collapsed": false
   },
   "outputs": [
    {
     "name": "stdout",
     "output_type": "stream",
     "text": [
      "1\n"
     ]
    }
   ],
   "source": [
    "(python-exec \n",
    "\"\n",
    "x = 1\n",
    "print(x)\n",
    "\")"
   ]
  },
  {
   "cell_type": "markdown",
   "metadata": {},
   "source": [
    "## quasiquote\n",
    "(quasiquote LIST): quasiquote allows commas in front of expressions in a list which will be evaluated"
   ]
  },
  {
   "cell_type": "code",
   "execution_count": 18,
   "metadata": {
    "collapsed": false
   },
   "outputs": [
    {
     "data": {
      "text/plain": [
       "(list 3 4)"
      ]
     },
     "execution_count": 18,
     "metadata": {},
     "output_type": "execute_result"
    }
   ],
   "source": [
    "`(list ,(+ 1 2) 4)"
   ]
  },
  {
   "cell_type": "markdown",
   "metadata": {},
   "source": [
    "## quote\n",
    "\n",
    "(quote ITEM): treat ITEM as a literal (data). Can also be written as the single-quote mark"
   ]
  },
  {
   "cell_type": "code",
   "execution_count": 23,
   "metadata": {
    "collapsed": false
   },
   "outputs": [
    {
     "data": {
      "text/plain": [
       "(1 2 3)"
      ]
     },
     "execution_count": 23,
     "metadata": {},
     "output_type": "execute_result"
    }
   ],
   "source": [
    "(quote (1 2 3))"
   ]
  },
  {
   "cell_type": "code",
   "execution_count": 24,
   "metadata": {
    "collapsed": false
   },
   "outputs": [
    {
     "data": {
      "text/plain": [
       "(1 2 3)"
      ]
     },
     "execution_count": 24,
     "metadata": {},
     "output_type": "execute_result"
    }
   ],
   "source": [
    "'(1 2 3)"
   ]
  },
  {
   "cell_type": "code",
   "execution_count": 25,
   "metadata": {
    "collapsed": false
   },
   "outputs": [
    {
     "data": {
      "text/plain": [
       "#3(1 2 3)"
      ]
     },
     "execution_count": 25,
     "metadata": {},
     "output_type": "execute_result"
    }
   ],
   "source": [
    "'#(1 2 3)"
   ]
  },
  {
   "cell_type": "code",
   "execution_count": 26,
   "metadata": {
    "collapsed": false
   },
   "outputs": [
    {
     "data": {
      "text/plain": [
       "#2(1 6)"
      ]
     },
     "execution_count": 26,
     "metadata": {},
     "output_type": "execute_result"
    }
   ],
   "source": [
    "`#(1 ,(+ 2 4))"
   ]
  },
  {
   "cell_type": "markdown",
   "metadata": {},
   "source": [
    "## quotient\n",
    "(quotient arg0 arg1): quotient procedure for rationals/ints; divides arg0 by arg1 (aliases // and div)"
   ]
  },
  {
   "cell_type": "code",
   "execution_count": null,
   "metadata": {
    "collapsed": true
   },
   "outputs": [],
   "source": [
    "(quotient)"
   ]
  },
  {
   "cell_type": "markdown",
   "metadata": {},
   "source": [
    "## rac\n",
    "(rac LIST): return the last item of LIST"
   ]
  },
  {
   "cell_type": "code",
   "execution_count": null,
   "metadata": {
    "collapsed": true
   },
   "outputs": [],
   "source": [
    "(rac)"
   ]
  },
  {
   "cell_type": "markdown",
   "metadata": {},
   "source": [
    "## range\n",
    "(range END), (range START END), or (RANGE START END STEP): (all integers)"
   ]
  },
  {
   "cell_type": "code",
   "execution_count": null,
   "metadata": {
    "collapsed": true
   },
   "outputs": [],
   "source": [
    "(range)"
   ]
  },
  {
   "cell_type": "markdown",
   "metadata": {},
   "source": [
    "## rational\n",
    "(rational NUMERATOR DENOMINTAOR): return a rational number"
   ]
  },
  {
   "cell_type": "code",
   "execution_count": null,
   "metadata": {
    "collapsed": true
   },
   "outputs": [],
   "source": [
    "(rational)"
   ]
  },
  {
   "cell_type": "markdown",
   "metadata": {},
   "source": [
    "## rdc\n",
    "(rdc LIST): return everything but last item in LIST"
   ]
  },
  {
   "cell_type": "code",
   "execution_count": null,
   "metadata": {
    "collapsed": true
   },
   "outputs": [],
   "source": [
    "(rdc)"
   ]
  },
  {
   "cell_type": "markdown",
   "metadata": {},
   "source": [
    "## read-string\n",
    "(read-string ...): "
   ]
  },
  {
   "cell_type": "code",
   "execution_count": null,
   "metadata": {
    "collapsed": true
   },
   "outputs": [],
   "source": [
    "(read-string)"
   ]
  },
  {
   "cell_type": "markdown",
   "metadata": {},
   "source": [
    "## record-case\n",
    "(record-case ...)"
   ]
  },
  {
   "cell_type": "code",
   "execution_count": null,
   "metadata": {
    "collapsed": true
   },
   "outputs": [],
   "source": [
    "(record-case)"
   ]
  },
  {
   "cell_type": "markdown",
   "metadata": {},
   "source": [
    "## remainder\n",
    "(remainder NUMBER1 NUMBER2): returns the remainder after dividing NUMBER1 by NUMBER2"
   ]
  },
  {
   "cell_type": "code",
   "execution_count": null,
   "metadata": {
    "collapsed": true
   },
   "outputs": [],
   "source": [
    "(remainder)"
   ]
  },
  {
   "cell_type": "markdown",
   "metadata": {},
   "source": [
    "## require\n",
    "(require ...): "
   ]
  },
  {
   "cell_type": "code",
   "execution_count": null,
   "metadata": {
    "collapsed": true
   },
   "outputs": [],
   "source": [
    "(require)"
   ]
  },
  {
   "cell_type": "markdown",
   "metadata": {},
   "source": [
    "## reset-toplevel-env\n",
    "(reset-toplevel-env): reset the toplevel environment"
   ]
  },
  {
   "cell_type": "code",
   "execution_count": null,
   "metadata": {
    "collapsed": true
   },
   "outputs": [],
   "source": [
    "(reset-toplevel-env)"
   ]
  },
  {
   "cell_type": "markdown",
   "metadata": {},
   "source": [
    "## reverse\n",
    "(reverse LIST): "
   ]
  },
  {
   "cell_type": "code",
   "execution_count": null,
   "metadata": {
    "collapsed": true
   },
   "outputs": [],
   "source": [
    "(reverse)"
   ]
  },
  {
   "cell_type": "markdown",
   "metadata": {},
   "source": [
    "## round\n",
    "(round NUMBER): round NUMBER to the nearest integer (may return float)"
   ]
  },
  {
   "cell_type": "code",
   "execution_count": null,
   "metadata": {
    "collapsed": true
   },
   "outputs": [],
   "source": [
    "(round)"
   ]
  },
  {
   "cell_type": "markdown",
   "metadata": {},
   "source": [
    "## set-car!\n",
    "(set-car! LIST ITEM): set the car of LIST to be ITEM"
   ]
  },
  {
   "cell_type": "code",
   "execution_count": null,
   "metadata": {
    "collapsed": true
   },
   "outputs": [],
   "source": [
    "(set-car!)"
   ]
  },
  {
   "cell_type": "markdown",
   "metadata": {},
   "source": [
    "## set-cdr!\n",
    "(set-cdr! LIST ITEM): set the car of LIST to be ITEM (which is typically a list)"
   ]
  },
  {
   "cell_type": "code",
   "execution_count": null,
   "metadata": {
    "collapsed": true
   },
   "outputs": [],
   "source": [
    "(set-cdr!)"
   ]
  },
  {
   "cell_type": "markdown",
   "metadata": {},
   "source": [
    "## setitem\n",
    "(setitem DICTIONARY ITEM VALUE): sets and returns DICTIONARY[ITEM] with VALUE"
   ]
  },
  {
   "cell_type": "code",
   "execution_count": null,
   "metadata": {
    "collapsed": true
   },
   "outputs": [],
   "source": [
    "(setitem)"
   ]
  },
  {
   "cell_type": "markdown",
   "metadata": {},
   "source": [
    "## snoc\n",
    "(snoc ITEM LIST): cons the ITEM onto the end of LIST"
   ]
  },
  {
   "cell_type": "code",
   "execution_count": null,
   "metadata": {
    "collapsed": true
   },
   "outputs": [],
   "source": [
    "(snoc)"
   ]
  },
  {
   "cell_type": "markdown",
   "metadata": {},
   "source": [
    "## sort\n",
    "(sort PROCEDURE LIST): sort the list using PROCEDURE to compare items"
   ]
  },
  {
   "cell_type": "code",
   "execution_count": null,
   "metadata": {
    "collapsed": true
   },
   "outputs": [],
   "source": [
    "(sort)"
   ]
  },
  {
   "cell_type": "markdown",
   "metadata": {},
   "source": [
    "## sqrt\n",
    "(sqrt NUMBER): return the square root of NUMBER"
   ]
  },
  {
   "cell_type": "code",
   "execution_count": null,
   "metadata": {
    "collapsed": true
   },
   "outputs": [],
   "source": [
    "(sqrt)"
   ]
  },
  {
   "cell_type": "markdown",
   "metadata": {},
   "source": [
    "## string\n",
    "(string ITEM): returns ITEM as a string"
   ]
  },
  {
   "cell_type": "code",
   "execution_count": null,
   "metadata": {
    "collapsed": true
   },
   "outputs": [],
   "source": [
    "(string)"
   ]
  },
  {
   "cell_type": "markdown",
   "metadata": {},
   "source": [
    "## string->list\n",
    "(string->list STRING): string STRING as a list of characters"
   ]
  },
  {
   "cell_type": "code",
   "execution_count": null,
   "metadata": {
    "collapsed": true
   },
   "outputs": [],
   "source": [
    "(string->list)"
   ]
  },
  {
   "cell_type": "markdown",
   "metadata": {},
   "source": [
    "## string->number\n",
    "(string->number STRING): return STRING as a number"
   ]
  },
  {
   "cell_type": "code",
   "execution_count": null,
   "metadata": {
    "collapsed": true
   },
   "outputs": [],
   "source": [
    "(string->number)"
   ]
  },
  {
   "cell_type": "markdown",
   "metadata": {},
   "source": [
    "## string->symbol\n",
    "(string->symbol STRING): return STRING as a symbol"
   ]
  },
  {
   "cell_type": "code",
   "execution_count": null,
   "metadata": {
    "collapsed": true
   },
   "outputs": [],
   "source": [
    "(string->symbol)"
   ]
  },
  {
   "cell_type": "markdown",
   "metadata": {},
   "source": [
    "## string-append\n",
    "(string-append STRING1 STRING2): append two strings together"
   ]
  },
  {
   "cell_type": "code",
   "execution_count": null,
   "metadata": {
    "collapsed": true
   },
   "outputs": [],
   "source": [
    "(string-append)"
   ]
  },
  {
   "cell_type": "markdown",
   "metadata": {},
   "source": [
    "## string-length\n",
    "(string-length STRING): returns the length of a string"
   ]
  },
  {
   "cell_type": "code",
   "execution_count": null,
   "metadata": {
    "collapsed": true
   },
   "outputs": [],
   "source": [
    "(string-length)"
   ]
  },
  {
   "cell_type": "markdown",
   "metadata": {},
   "source": [
    "## string-ref\n",
    "(string-ref STRING INDEX): return the character of STRING at position INDEX"
   ]
  },
  {
   "cell_type": "code",
   "execution_count": null,
   "metadata": {
    "collapsed": true
   },
   "outputs": [],
   "source": [
    "(string-ref)"
   ]
  },
  {
   "cell_type": "markdown",
   "metadata": {},
   "source": [
    "## string-split\n",
    "(string-split STRING CHAR): return a list with substrings of STRING where split by CHAR"
   ]
  },
  {
   "cell_type": "code",
   "execution_count": null,
   "metadata": {
    "collapsed": true
   },
   "outputs": [],
   "source": [
    "(string-split)"
   ]
  },
  {
   "cell_type": "markdown",
   "metadata": {},
   "source": [
    "## string<?\n",
    "(string<? STRING1 STRING2): compare two strings to see if STRING1 is less than STRING2"
   ]
  },
  {
   "cell_type": "code",
   "execution_count": null,
   "metadata": {
    "collapsed": true
   },
   "outputs": [],
   "source": [
    "(string<?)"
   ]
  },
  {
   "cell_type": "markdown",
   "metadata": {},
   "source": [
    "## string=?\n",
    "(string=? STRING1 STRING2): return #t if STRING1 is the same as STRING2, #f otherwise"
   ]
  },
  {
   "cell_type": "code",
   "execution_count": null,
   "metadata": {
    "collapsed": true
   },
   "outputs": [],
   "source": [
    "(string=?)"
   ]
  },
  {
   "cell_type": "markdown",
   "metadata": {},
   "source": [
    "## string?\n",
    "(string? ITEM): return #t if ITEM is a string, #f otherwise"
   ]
  },
  {
   "cell_type": "code",
   "execution_count": null,
   "metadata": {
    "collapsed": true
   },
   "outputs": [],
   "source": [
    "(string?)"
   ]
  },
  {
   "cell_type": "markdown",
   "metadata": {},
   "source": [
    "## substring\n",
    "(substring STRING START [END]): return the substring of STRING starting with position START and ending before END. If END is not provided, it defaults to the length of the STRING"
   ]
  },
  {
   "cell_type": "code",
   "execution_count": null,
   "metadata": {
    "collapsed": true
   },
   "outputs": [],
   "source": [
    "(substring)"
   ]
  },
  {
   "cell_type": "markdown",
   "metadata": {},
   "source": [
    "## symbol\n",
    "(symbol STRING): turn STRING into a symbol"
   ]
  },
  {
   "cell_type": "code",
   "execution_count": null,
   "metadata": {
    "collapsed": true
   },
   "outputs": [],
   "source": [
    "(symbol)"
   ]
  },
  {
   "cell_type": "markdown",
   "metadata": {},
   "source": [
    "## symbol->string\n",
    "(symbol->string SYMBOL): return SYMBOL as a string"
   ]
  },
  {
   "cell_type": "code",
   "execution_count": null,
   "metadata": {
    "collapsed": true
   },
   "outputs": [],
   "source": [
    "(symbol->string)"
   ]
  },
  {
   "cell_type": "markdown",
   "metadata": {},
   "source": [
    "## symbol?\n",
    "(symbol? ITEM): return #t if ITEM is a symbol, #f otherwise"
   ]
  },
  {
   "cell_type": "code",
   "execution_count": null,
   "metadata": {
    "collapsed": true
   },
   "outputs": [],
   "source": [
    "(symbol?)"
   ]
  },
  {
   "cell_type": "markdown",
   "metadata": {},
   "source": [
    "## try/catch\n",
    "(try ... catch ...)"
   ]
  },
  {
   "cell_type": "code",
   "execution_count": null,
   "metadata": {
    "collapsed": true
   },
   "outputs": [],
   "source": [
    "(try ... catch...)"
   ]
  },
  {
   "cell_type": "markdown",
   "metadata": {},
   "source": [
    "## typeof\n",
    "(typeof ITEM): returns type of ITEM"
   ]
  },
  {
   "cell_type": "code",
   "execution_count": null,
   "metadata": {
    "collapsed": true
   },
   "outputs": [],
   "source": [
    "(typeof)"
   ]
  },
  {
   "cell_type": "markdown",
   "metadata": {},
   "source": [
    "## unparse\n",
    "(unparse AST): "
   ]
  },
  {
   "cell_type": "code",
   "execution_count": null,
   "metadata": {
    "collapsed": true
   },
   "outputs": [],
   "source": [
    "(unparse)"
   ]
  },
  {
   "cell_type": "markdown",
   "metadata": {},
   "source": [
    "## unparse-procedure\n",
    "(unparse-procedure ...): "
   ]
  },
  {
   "cell_type": "code",
   "execution_count": null,
   "metadata": {
    "collapsed": true
   },
   "outputs": [],
   "source": [
    "(unparse-procedure)"
   ]
  },
  {
   "cell_type": "markdown",
   "metadata": {},
   "source": [
    "## use-lexical-address\n",
    "(use-lexical-address [BOOLEAN]): get lexical-address setting, or set it on/off if BOOLEAN is given"
   ]
  },
  {
   "cell_type": "code",
   "execution_count": null,
   "metadata": {
    "collapsed": true
   },
   "outputs": [],
   "source": [
    "(use-lexical-address)"
   ]
  },
  {
   "cell_type": "markdown",
   "metadata": {},
   "source": [
    "## use-stack-trace\n",
    "(use-stack-trace BOOLEAN): set stack-trace usage on/off"
   ]
  },
  {
   "cell_type": "code",
   "execution_count": null,
   "metadata": {
    "collapsed": true
   },
   "outputs": [],
   "source": [
    "(use-stack-trace)"
   ]
  },
  {
   "cell_type": "markdown",
   "metadata": {},
   "source": [
    "## use-tracing\n",
    "(use-tracing [BOOLEAN]): get tracing setting, or set it on/off if BOOLEAN is given"
   ]
  },
  {
   "cell_type": "code",
   "execution_count": null,
   "metadata": {
    "collapsed": true
   },
   "outputs": [],
   "source": [
    "(use-tracing)"
   ]
  },
  {
   "cell_type": "markdown",
   "metadata": {},
   "source": [
    "## vector\n",
    "(vector [ITEMS]...): return ITEMs as a vector"
   ]
  },
  {
   "cell_type": "code",
   "execution_count": null,
   "metadata": {
    "collapsed": true
   },
   "outputs": [],
   "source": [
    "(vector)"
   ]
  },
  {
   "cell_type": "markdown",
   "metadata": {},
   "source": [
    "## vector->list\n",
    "(vector->list VECTOR): return VECTOR as a list"
   ]
  },
  {
   "cell_type": "code",
   "execution_count": null,
   "metadata": {
    "collapsed": true
   },
   "outputs": [],
   "source": [
    "(vector->list)"
   ]
  },
  {
   "cell_type": "markdown",
   "metadata": {},
   "source": [
    "## vector-length\n",
    "(vector-length VECTOR): returns length of VECTOR"
   ]
  },
  {
   "cell_type": "code",
   "execution_count": null,
   "metadata": {
    "collapsed": true
   },
   "outputs": [],
   "source": [
    "(vector-length)"
   ]
  },
  {
   "cell_type": "markdown",
   "metadata": {},
   "source": [
    "## vector-ref\n",
    "(vector-ref VECTOR INDEX): "
   ]
  },
  {
   "cell_type": "code",
   "execution_count": null,
   "metadata": {
    "collapsed": true
   },
   "outputs": [],
   "source": [
    "(vector-ref)"
   ]
  },
  {
   "cell_type": "markdown",
   "metadata": {},
   "source": [
    "## vector-set!\n",
    "(vector-set! VECTOR INDEX VALUE): sets the item at INDEX of VECTOR"
   ]
  },
  {
   "cell_type": "code",
   "execution_count": null,
   "metadata": {
    "collapsed": true
   },
   "outputs": [],
   "source": [
    "(vector-set!)"
   ]
  },
  {
   "cell_type": "markdown",
   "metadata": {},
   "source": [
    "## vector?\n",
    "(vector? ITEM): return #t if ITEM is a vector, #f otherwise"
   ]
  },
  {
   "cell_type": "code",
   "execution_count": null,
   "metadata": {
    "collapsed": true
   },
   "outputs": [],
   "source": [
    "(vector?)"
   ]
  },
  {
   "cell_type": "markdown",
   "metadata": {},
   "source": [
    "## void\n",
    "(void): The null value symbol"
   ]
  },
  {
   "cell_type": "code",
   "execution_count": null,
   "metadata": {
    "collapsed": true
   },
   "outputs": [],
   "source": [
    "(void)"
   ]
  },
  {
   "cell_type": "markdown",
   "metadata": {},
   "source": [
    "## zero?\n",
    "(zero? NUMBER): return #t if NUMBER is equal to zero, #f otherwise"
   ]
  },
  {
   "cell_type": "code",
   "execution_count": null,
   "metadata": {
    "collapsed": true
   },
   "outputs": [],
   "source": [
    "(zero?)"
   ]
  },
  {
   "cell_type": "markdown",
   "metadata": {},
   "source": [
    "## Missing functions common in other Scheme implementations"
   ]
  },
  {
   "cell_type": "markdown",
   "metadata": {},
   "source": [
    "* Exponents\n",
    "* angle\n",
    "* binary\n",
    "* bytevector?\n",
    "* ceiling\n",
    "* char->integer\n",
    "* char-ci<=?\n",
    "* char-ci<?\n",
    "* char-ci=?\n",
    "* char-ci>=?\n",
    "* char-ci>?\n",
    "* char-downcase\n",
    "* char-titlecase\n",
    "* char-upcase\n",
    "* char<=?\n",
    "* char<?\n",
    "* char>=?\n",
    "* char>?\n",
    "* complex?\n",
    "* cons*\n",
    "* cos\n",
    "* denominator\n",
    "* div\n",
    "* div-and-mod\n",
    "* div0\n",
    "* div0-and-mod0\n",
    "* exact\n",
    "* exact->inexact\n",
    "* exact-integer-sqrt\n",
    "* exact?\n",
    "* exp\n",
    "* file-exists\n",
    "* filter\n",
    "* find\n",
    "* finite?\n",
    "* floor\n",
    "* gcd\n",
    "* hashtable?\n",
    "* hexadecimal\n",
    "* imag-part\n",
    "* inexact\n",
    "* inexact->exact\n",
    "* inexact?\n",
    "* inifinite?\n",
    "* integer->char\n",
    "* integer-valued?\n",
    "* integer?\n",
    "* lcm\n",
    "* list-sort\n",
    "* list-tail\n",
    "* log\n",
    "* magnitude\n",
    "* make-polar\n",
    "* make-rectangular\n",
    "* make-string\n",
    "* mod0\n",
    "* nan?\n",
    "* negative?\n",
    "* numbers\n",
    "* numerator\n",
    "* octal\n",
    "* partition\n",
    "* positive?\n",
    "* rational-valued?\n",
    "* rational?\n",
    "* rationalize\n",
    "* real-part\n",
    "* real-valued?\n",
    "* real?\n",
    "* remove\n",
    "* remp\n",
    "* remq\n",
    "* remv\n",
    "* sin\n",
    "* string-set!\n",
    "* tan\n",
    "* truncate"
   ]
  },
  {
   "cell_type": "code",
   "execution_count": null,
   "metadata": {
    "collapsed": true
   },
   "outputs": [],
   "source": [
    ";;(abort) ;; aborts all processing and returns to the top level, optionally with a value\n",
    "(verify 'abs (abs -1) equal? 1)\n",
    "(verify 'and (and 4 1 2 #t '() 0) equal? 0)\n",
    "(verify 'append (append '(1 2 3) '(4 5 6)) equal? '(1 2 3 4 5 6))\n",
    "(verify 'apply (apply car '((1))) equal? 1)\n",
    ";;(apply-with-keywords) ;; not yet implemented\n",
    "(verify 'assq (assq 1 '((1 2) (3 4))) equal? '(1 2))\n",
    "(verify 'assv (assv 1 '((1 2) (3 4))) equal? '(1 2))\n",
    "(verify 'atom? (atom? 1) equal? #t)\n",
    "(verify 'boolean? (boolean? #t) equal? #t)\n",
    "(verify 'caaaar (caaaar '(((((hello there) this is a test) what is this) another item) in the list)) equal? '(hello there))\n",
    "(verify 'caaadr (caaadr '(((((hello there) this is a test) what is this) another item) ((((((1 2 3 ) 4 5 6) 7 8 9) 10 11 12) 13 14 15) 16 17 18))) \n",
    "        equal? '((((1 2 3) 4 5 6) 7 8 9) 10 11 12))\n",
    "(verify 'caaar (caaar '(((((hello there) this is a test) what is this) another item) in the list)) equal? '((hello there) this is a test))\n",
    "(verify 'caadar (caadar '(((((hello there) this is a test) what is this) (((1 2 3) 4 5 6) 7 8 9) another item) in the list)) equal? '((1 2 3) 4 5 6))\n",
    "(verify 'caaddr (caaddr '(((((hello there) this is a test) what is this) (((1 2 3) 4 5 6) 7 8 9) another item) head ((1 2) 3 4) in the list)) equal? '(1 2))\n",
    "(verify 'caadr (caadr '(((((hello there) this is a test) what is this) (((1 2 3) 4 5 6) 7 8 9) another item) (in this) ((7 8)) the list)) equal? 'in)\n",
    "(verify 'caar (caar '(((((hello there) this is a test) what is this) another item) in the list)) equal? '(((hello there) this is a test) what is this))\n",
    "(verify 'cadaar (cadaar '(((((hello there) this is a test) (what) is this) (yet another) item) in the list)) equal? '(what))\n",
    "(verify 'cadadr (cadadr '(((((hello there) this is a test) what is this) (yet another) item) (in the) list)) equal? 'the)\n",
    "(verify 'cadar (cadar '(((((hello there) this is a test) what is this) (yet another) item) in the list)) equal? '(yet another))\n",
    "(verify 'caddar (caddar '(((((hello there) this is a test) what is this) another item) in the list)) equal? 'item)\n",
    "(verify 'cadddr (cadddr '(((((hello there) this is a test) what is this) another item) in the list)) equal? 'list)\n",
    "(verify 'caddr (caddr '(((((hello there) this is a test) what is this) another item) in the list)) equal? 'the)\n",
    "(verify 'cadr (cadr '(((((hello there) this is a test) what is this) another item) in the list)) equal? 'in)\n",
    ";;(call-with-current-continuation) ;; see below\n",
    ";;(call/cc) \n",
    "(verify 'car (car '(((((hello there) this is a test) what is this) another item) in the list)) \n",
    "        equal? '((((hello there) this is a test) what is this) another item))\n",
    "(verify 'case (case 'thing1 (thing2 1) (thing1 2)) = 2)\n",
    "(verify 'case-2 (case 'thing1 (thing2 1) ((thing1 thing3) 2)) = 2)\n",
    "(verify 'case-3 (case 'thingx (thing2 1) ((thing1 thing3) 2) (else 3)) = 3)\n",
    ";;(cases) ;; see define-datatype, below\n",
    "(verify 'cd (cd) (lambda (a b) (string? a)) \"\")\n",
    "(verify 'cdaaar (cdaaar '(((((hello there) this is a test) what is this) another item))) equal? '(this is a test))\n",
    "(verify 'cdaadr (cdaadr '(((((hello there) this is a test) what is this) another item) ((7 8)) 9 10)) equal? '(8))\n",
    "(verify 'cdaar (cdaar '(((((hello there) this is a test) what is this) another item))) equal? '(what is this))\n",
    "(verify 'cdadar (cdadar '(((((hello there) this is a test) what is this) (another two) items))) equal? '(two))\n",
    "(verify 'cdaddr (cdaddr '(((((hello there) this is a test) what is this) another item) 1 (2 5) 3 4)) equal? '(5))\n",
    "(verify 'cdadr (cdadr '(((((hello there) this is a test) what is this) another item) (1 6) (2 5) 3 4)) equal? '(6))\n",
    "(verify 'cdar (cdar '(((((hello there) this is a test) what is this) another item))) equal? '(another item))\n",
    "(verify 'cddaar (cddaar '(((((hello there) this is a test) what is this) another item) 1 (2) 3)) equal? '(is this))\n",
    "(verify 'cddadr (cddadr '(((((hello there) this is a test) what is this) another item) (7 13) (8 12) 9 10)) equal? '())\n",
    "(verify 'cddar (cddar '(((((hello there) this is a test) what is this) another item))) equal? '(item))\n",
    "(verify 'cdddar (cdddar '(((((hello there) this is a test) what is this) another item))) equal? '())\n",
    "(verify 'cddddr (cddddr '(((((hello there) this is a test) what is this) another item) 1 2 3 4 5)) equal? '(4 5))\n",
    "(verify 'cdddr (cdddr '(((((hello there) this is a test) what is this) another item) 1 2 3 4)) equal? '(3 4))\n",
    "(verify 'cddr (cddr '(((((hello there) this is a test) what is this) another item) 1 2 3)) equal? '(2 3))\n",
    "(verify 'cdr (cdr '(((((hello there) this is a test) what is this) another item) 1 2 3)) equal? '(1 2 3))\n",
    "(verify 'char->integer (char->integer #\\a) = 97)\n",
    "(verify 'char->string (char->string #\\b) equal? \"b\")\n",
    "(verify 'char-alphabetic? (char-alphabetic? #\\A) equal? #t)\n",
    "(verify 'char-numeric? (char-numeric? #\\1) equal? #t)\n",
    "(verify 'char-whitespace? (char-whitespace? #\\t) equal? #f)\n",
    "(verify 'char-whitespace? (char-whitespace? #\\tab) equal? #t)\n",
    "(verify 'char-whitespace? (char-whitespace? #\\newline) equal? #t)\n",
    "(verify 'char-whitespace? (char-whitespace? #\\a) equal? #f)\n",
    "(verify 'char=? (char=? #\\a #\\a) equal? #t)\n",
    "(verify 'char=? (char=? #\\a #\\b) equal? #f)\n",
    "(verify 'char? (char? 2) equal? #f)\n",
    "(verify 'cond (cond (#f 1) (else 2)) = 2)\n",
    "(verify 'cons (cons 1 '()) equal? '(1))\n",
    "(verify 'current-directory (current-directory) (lambda (a b) (string? a)) \".\")\n",
    "(verify 'current-environment (length (dir (current-environment))) < 160)\n",
    "(verify 'current-time (current-time) (lambda (a b) (< (- a b) .1)) (current-time))\n",
    "(verify 'cut (letrec ((loop (lambda (n) (if (= n 0) (set! var (cut 23)) (loop (- n 1)))))\n",
    "                      (var 0))\n",
    "               (loop 10)\n",
    "               var) equal? '(23))\n",
    ";;(define-datatype) ;; see below\n",
    "(verify 'dict (dict '((1 2) (3 4))) (lambda (a b) #t) 'none)\n",
    "(verify 'dir (length (dir)) < 170)\n",
    ";;(display 1) ;; no newline\n",
    "(verify 'eq? (eq? 'a 'a) eq? #t)\n",
    "(verify 'equal? (equal? 1 1.0) eq? #t)\n",
    "(verify 'eqv? (eqv? 1 1) eq? #t)\n",
    "(verify 'error (try (error 'a \"message\") (catch e e (cadr e))) equal? \"Error in 'a': message\")\n",
    "(verify 'eval (eval '(+ 1 2)) = 3)\n",
    "(verify 'eval-ast (eval-ast (parse '(+ 3 4))) = 7)\n",
    "(verify 'even? (even? 33) eq? #f)\n",
    ";;(exit) ;; does this bring down the whole system?\n",
    "(verify 'float (float 23) = 23.0)\n",
    "(verify 'for-each (for-each (lambda (n) (+ n 1)) '(1 2 3)) equal? (void))\n",
    "(verify 'format (format \"~a ~s ~%\" \"hello\" \"hello\") equal? \"hello \\\"hello\\\" \\n\")\n",
    ";;(get) ;; used with import\n",
    "(verify 'get-stack-trace (caddr (cadar (get-stack-trace))) <= 73)\n",
    ";;(verify 'globals (globals) equal? (globals))\n",
    ";;(import \"test\")\n",
    "(verify 'int (int 12.8) = 13)\n",
    "(verify 'integer->char (integer->char 97) equal? #\\a)\n",
    "(verify 'iter? (iter? 3) eq? #f)\n",
    "(verify 'length (length '(1 2 3)) = 3)\n",
    "(verify 'let (let ((x 1)) x) = 1)\n",
    "(verify 'let* (let* ((x 1)(y (+ x 1))) y) = 2)\n",
    "(verify 'letrec (letrec ((loop (lambda (n) (if (= n 0) 'ok (loop (- n 1)))))) (loop 10)) eq? 'ok)\n",
    "(verify 'list (list 1 2) equal? '(1 2))\n",
    "(verify 'list->string (list->string '(#\\1 #\\2 #\\3)) equal? \"123\")\n",
    "(verify 'list->vector (list->vector '(1 2 3)) equal? (vector 1 2 3))\n",
    "(verify 'list-ref (list-ref '(1 2 3) 1) = 2)\n",
    "(verify 'list? (list? '(1 2 3)) eq? #t)\n",
    ";;(load) ;; need a file to load\n",
    "(verify 'make-set (sort < (make-set '(1 2 3 1 2))) equal? '(1 2 3))\n",
    "(verify 'make-vector (make-vector 3) equal? (vector 0 0 0))\n",
    "(verify 'map (map (lambda (n) (+ n 1)) (range 5)) equal? '(1 2 3 4 5))\n",
    "(verify 'member (member \"b\" '(\"a\" \"b\" \"c\")) equal? '(\"b\" \"c\"))\n",
    "(verify 'memq (memq 'b '(a b c)) equal? '(b c))\n",
    "(verify 'memv (memv 2 '(1.0 2.0 3.0)) equal? '(2.0 3.0)) \n",
    ";;(newline) ;; outputs a newline\n",
    "(verify 'not (not #f) eq? #t)\n",
    "(verify 'null? (null? '()) eq? #t)\n",
    "(verify 'number->string (number->string 23) equal? \"23\")\n",
    "(verify 'number? (number? 23) equal? #t)\n",
    "(verify 'odd? (odd? 45) equal? #t)\n",
    "(verify 'or (or #t (/ 1 0)) equal? #t)\n",
    "(verify 'pair? (pair? '()) equal? #f)\n",
    "(verify 'pair? (pair? (cons 1 2)) equal? #t)\n",
    "(verify 'parse (parse '(+ 1 2)) equal? '(app-aexp (lexical-address-aexp 0 1 + none) ((lit-aexp 1 none) (lit-aexp 2 none)) none))\n",
    "(verify 'parse-string (parse-string \"(- 7 8)\") equal? '(app-aexp (lexical-address-aexp 0 2 - (stdin 1 2 2 1 2 2)) ((lit-aexp 7 (stdin 1 4 4 1 4 4)) (lit-aexp 8 (stdin 1 6 6 1 6 6))) (stdin 1 1 1 1 7 7)))\n",
    ";;(print \"hello!\")\n",
    ";;(printf \"hello ~a!\" 'mate)\n",
    "(verify 'procedure? (procedure? procedure?) eq? #t)\n",
    ";;(property)\n",
    "(verify 'quotient (quotient 1 4) = 0)\n",
    "(verify 'rac (rac '(1 2 3)) = 3)\n",
    "(verify 'range (range 10) equal? '(0 1 2 3 4 5 6 7 8 9))\n",
    "(verify 'rational (rational 3 4) = 3/4)\n",
    "(verify 'rdc (rdc '(1 2 3)) equal? '(1 2))\n",
    "(verify 'read-string (read-string '(1 2 3)) equal? '((pair) ((atom) 1 (stdin 1 2 2 1 2 2)) ((pair) ((atom) 2 (stdin 1 4 4 1 4 4)) ((pair) ((atom) 3 (stdin 1 6 6 1 6 6)) ((atom) () none) none) none) (stdin 1 1 1 1 7 7)))\n",
    ";;(record-case) ;; see macros below\n",
    "(verify 'remainder (remainder 1 4) = 1)\n",
    "(verify 'require (require #t) eq? 'ok) ;; requires an expression to be true\n",
    ";;(reset-toplevel-env) ;; can't test here\n",
    "(verify 'reverse (reverse '(1 2 3)) equal? '(3 2 1))\n",
    "(verify 'round-1 (round 45.5) = 46)\n",
    "(verify 'round-2 (round 45.4) = 45)\n",
    "(verify 'set-car! (let ((x '(1 2 3))) (set-car! x 0) x) equal? '(0 2 3))\n",
    "(verify 'set-cdr! (let ((x '(1 2 3))) (set-cdr! x '(3 4)) x) equal? '(1 3 4))\n",
    "(verify 'snoc (snoc 0 '(1 2 3)) equal? '(1 2 3 0))\n",
    "(verify 'sort (sort < '(3 7 1 2)) equal? '(1 2 3 7))\n",
    "(verify 'sqrt (sqrt 3) equal? 1.7320508075688772)\n",
    "(verify 'string (string #\\1 #\\2) equal? \"12\")\n",
    "(verify 'string->list (string->list \"hello world\") \n",
    "        equal? '(#\\h #\\e #\\l #\\l #\\o #\\  #\\w #\\o #\\r #\\l #\\d))\n",
    "(verify 'string->number (string->number \"12.1\") equal? 12.1)\n",
    "(verify 'string->symbol (string->symbol \"hello\") eq? 'hello)\n",
    "(verify 'string-append (string-append \"hell\" \"o\") equal? \"hello\")\n",
    "(verify 'string-length (string-length \"what\") = 4)\n",
    "(verify 'string-ref (string-ref \"what\" 2) equal? #\\a)\n",
    "(verify 'string-split (string-split \"hello.world\" #\\.) equal? '(\"hello\" \"world\"))\n",
    "(verify 'string<? (string<? \"a\" \"b\") eq? #t)\n",
    "(verify 'string=? (string=? \"a\" \"b\") eq? #f)\n",
    "(verify 'string? (string? \"hello\") eq? #t)\n",
    "(verify 'substring (substring \"hello\" 1 3) equal? \"el\")\n",
    "(verify 'symbol (symbol \"hello\") eq? 'hello)\n",
    "(verify 'symbol->string (symbol->string 'hello) equal? \"hello\")\n",
    "(verify 'symbol? (symbol? 'hello) eq? #t)\n",
    "(verify 'typeof (typeof 23) eq? (typeof 24))\n",
    "(verify 'unparse (unparse (parse '(+ 1 2))) equal? '(+ 1 2))\n",
    ";;(unparse-procedure (lambda (n) (+ n 1))) ;; no longer possible?\n",
    "(verify 'use-lexial-address (use-lexical-address) eq? #t)\n",
    "(verify 'use-satck-trace (use-stack-trace) eq? #t)\n",
    "(verify 'use-tracing (use-tracing) eq? #f)\n",
    "(verify 'import (try \n",
    "                (import \"math\")\n",
    "                (catch e e \n",
    "                       (import \"Graphics\"))) (lambda (a b) (not (null? b))) '())\n",
    "(verify 'vector (vector 1 2 3) equal? (vector 1 2 3))\n",
    "(verify 'vector->lsit (vector->list (vector 1 2 3)) equal? '(1 2 3))\n",
    "(verify 'vector-ref (vector-ref (vector 1 2 3) 2) = 3)\n",
    "\n",
    "(verify 'let (let ((v (vector 1 2 3))) (vector-set! v 2 'a) v) equal? (vector 1 2 'a))\n",
    "(verify 'vector? (vector? (vector)) eq? #t)\n",
    "(verify '(void) (void) equal? (void))\n",
    "(verify 'zero? (zero? 0.0) equal? #t)\n",
    "\n",
    "\n",
    ";;---------------------------------------------------------------------\n",
    ";; streams\n",
    "\n",
    "(define-syntax scons\n",
    "  [(scons ?x ?y) (cons ?x (lambda () ?y))])\n",
    "\n",
    "(define scar car)\n",
    "\n",
    "(define scdr\n",
    "  (lambda (s)\n",
    "    (let ((result ((cdr s))))\n",
    "      (set-cdr! s (lambda () result))\n",
    "      result)))\n",
    "\n",
    "(define first\n",
    "  (lambda (n s)\n",
    "    (if (= n 0)\n",
    "      '()\n",
    "      (cons (scar s) (first (- n 1) (scdr s))))))\n",
    "\n",
    "(define nth\n",
    "  (lambda (n s)\n",
    "    (if (= n 0)\n",
    "      (scar s)\n",
    "      (nth (- n 1) (scdr s)))))\n",
    "\n",
    "(define smap\n",
    "  (lambda (f s)\n",
    "    (scons (f (scar s)) (smap f (scdr s)))))\n",
    "\n",
    "(define ones (scons 1 ones))\n",
    "\n",
    "(define nats (scons 0 (combine nats + ones)))\n",
    "\n",
    "(define combine\n",
    "  (lambda (s1 op s2)\n",
    "    (scons (op (scar s1) (scar s2)) (combine (scdr s1) op (scdr s2)))))\n",
    "\n",
    "(define fibs (scons 1 (scons 1 (combine fibs + (scdr fibs)))))\n",
    "\n",
    "(define facts (scons 1 (combine facts * (scdr nats))))\n",
    "\n",
    "(define ! (lambda (n) (nth n facts)))\n",
    "\n",
    "\n",
    ";; Calico Scheme Tests\n",
    "\n",
    "(define my-odd? 'undefined)\n",
    "(define my-even? 'undefined)\n",
    "\n",
    "(letrec\n",
    "    ((odd (lambda (n) (if (= n 0) #f (even (- n 1)))))\n",
    "     (even (lambda (n) (if (= n 0) #t (odd (- n 1))))))\n",
    "  (set! my-odd? odd)\n",
    "  (set! my-even? even))\n",
    "\n",
    "(verify 'my-odd (my-odd? 42) eq? #f)\n",
    "(verify 'my-even (my-even? 42) eq? #t)\n",
    "(verify 'my-odd (my-odd? 43) eq? #t)\n",
    "(verify 'my-even (my-even? 43) eq? #f)\n",
    "(verify2 'test-9 120 (! 5))\n",
    "(verify2 'test-10 3628800 (nth 10 facts))\n",
    "(verify2 'test-11 10946 (nth 20 fibs))\n",
    "(verify2 'test-12 '(1 1 2 3 5 8 13 21 34 55 89 144 233 377 610 987 1597 2584 4181\n",
    "            6765 10946 17711 28657 46368 75025 121393 196418 317811 514229 832040)\n",
    "        (first 30 fibs))\n",
    "\n",
    "(define test-mu-lambda\n",
    "  (lambda ()\n",
    "    (verify2 'test-13 '(1 2 3 4 5)\n",
    "      ((lambda x x) 1 2 3 4 5))\n",
    "    (verify2 'test-13-1 '(1 (2 3 4 5))\n",
    "      ((lambda (x . y) (list x y)) 1 2 3 4 5))\n",
    "    (verify2 'test-14 '(1 2 (3 4 5))\n",
    "      ((lambda (a b . z) (list a b z)) 1 2 3 4 5))\n",
    "    (verify2 'test-15 '(1 2 (3))\n",
    "      ((lambda (a b . z) (list a b z)) 1 2 3))\n",
    "    (verify2 'test-16 '(1 2 ())\n",
    "      ((lambda (a b . z) (list a b z)) 1 2))\n",
    "    (verify2 'test-17 \"not enough arguments given\"\n",
    "      (try ((lambda (a b . z) (list a b z)) 1)\n",
    "               (catch e e \"not enough arguments given\")))\n",
    "    ))\n",
    "\n",
    "(define test-define\n",
    "  (lambda ()\n",
    "    (define f1 (lambda (a b c) (list a b c)))\n",
    "    (define (f2) (list 42))\n",
    "    (define (f3 . x) (list x))\n",
    "    (define (f4 a b c . x) (list a b c x))\n",
    "    (define (f5 a b c x) (list a b c x))\n",
    "    (verify2 'test-18 '((1 2 3) (42) ((1 2 3)) (1 2 3 (4 5)) (1 2 3 4))\n",
    "      (list (f1 1 2 3) (f2) (f3 1 2 3) (f4 1 2 3 4 5) (f5 1 2 3 4)))))\n",
    "\n",
    "(define test-call/cc\n",
    "  (lambda ()\n",
    "    (verify2 'test-19 40\n",
    "      (* 10 (call/cc (lambda (k) 4))))\n",
    "    (verify2 'test-20 40\n",
    "      (* 10 (call/cc (lambda (k) (+ 1 (k 4))))))\n",
    "    (verify2 'test-21 50\n",
    "      (* 10 (call/cc (lambda (k) (+ 1 (call/cc (lambda (j) (+ 2 (j (k 5))))))))))\n",
    "    (verify2 'test-22 60\n",
    "      (* 10 (call/cc (lambda (k) (+ 1 (call/cc (lambda (j) (+ 2 (k (j 5))))))))))))\n",
    "\n",
    "(define test-try\n",
    "  (lambda ()\n",
    "    (verify2 'test-23 3\n",
    "      (try 3))\n",
    "    (verify2 'test-24 3\n",
    "      (try 3 (finally 'yes 4)))\n",
    "    (verify2 'test-25 'yes\n",
    "      (try (raise 'yes) (catch e e)))\n",
    "    (verify2 'test-26 'yes\n",
    "      (try (try (raise 'yes)) (catch e e)))\n",
    "    (verify2 'test-27 'oops\n",
    "      (try (try (begin 'one (raise 'oops) 'two)) (catch e e)))\n",
    "    (verify2 'test-28 40\n",
    "      (* 10 (try (begin 'one (raise 'oops) 'two)\n",
    "            (catch ex 3 4))))\n",
    "    (verify2 'test-29 50\n",
    "      (* 10 (try (begin 'one 'two 5)\n",
    "            (catch ex 3 4))))\n",
    "    (verify2 'test-30 40\n",
    "      (* 10 (try (begin 'one (raise 'oops) 5)\n",
    "            (catch ex (list 'ex: ex) 4))))\n",
    "    (verify2 'test-31 'oops\n",
    "      (try (* 10 (try (begin 'one (raise 'oops) 5)\n",
    "            (catch ex (list 'ex: ex) (raise ex) 4))) (catch e e)))\n",
    "    (verify2 'test-32 'oops\n",
    "      (try (* 10 (try (begin 'one (raise 'oops) 5)\n",
    "              (catch ex (list 'ex: ex) (raise ex) 4)\n",
    "              (finally 'two 7))) (catch e e)))\n",
    "    (verify2 'test-33 77\n",
    "      (try (* 10 (try (begin 'one (raise 'oops) 5)\n",
    "                      (catch ex (list 'ex: ex) (raise 'bar) 4)))\n",
    "           (catch x 'hello 77)))\n",
    "    (verify2 'test-34 3\n",
    "      (try 3 (finally 'hi 4)))\n",
    "    (verify2 'test-35 5\n",
    "      (div 10 2))\n",
    "    (verify2 'test-36 \"division by zero\"\n",
    "      (try (div 10 0) (catch e (cadr e))))\n",
    "    (verify2 'test-37 \"division by zero\"\n",
    "      (try (let ((x (try (div 10 0)))) x) (catch e (cadr e))))\n",
    "    (verify2 'test-38 5\n",
    "      (let ((x (try (div 10 2) (catch e -1)))) x))\n",
    "    (verify2 'test-39 -1\n",
    "      (let ((x (try (div 10 0) (catch e -1)))) x))\n",
    "    (verify2 'test-40 5\n",
    "      (let ((x (try (div 10 2) (catch e -1) (finally 'closing-files 42))))  x))\n",
    "    (verify2 'test-41 -1\n",
    "      (let ((x (try (div 10 0) (catch e -1) (finally 'closing-files 42))))  x))\n",
    "    (verify2 'test-42 5\n",
    "      (let ((x (try (div 10 2) (finally 'closing-files 42))))  x))\n",
    "    (verify2 'test-43 'foo\n",
    "      (try (let ((x (try (div 10 0) (catch e -1 (raise 'foo)) (finally 'closing-files 42))))  x) (catch e e)))\n",
    "    (verify2 'test-44 'ack\n",
    "      (try (let ((x (try (div 10 0)\n",
    "                (catch e -1 (raise 'foo))\n",
    "                (finally 'closing-files (raise 'ack) 42))))\n",
    "       x) (catch e e)))\n",
    "    (verify2 'test-45 99\n",
    "      (try (let ((x (try (div 10 0)\n",
    "                     (catch e -1 (raise 'foo))\n",
    "                     (finally 'closing-files (raise 'ack) 42))))\n",
    "            x)\n",
    "       (catch e (if (equal? e 'ack) 99 (raise 'doug)))\n",
    "       (finally 'closing-outer-files)))\n",
    "    (verify2 'test-46 'doug\n",
    "      (try (try (let ((x (try (div 10 0)\n",
    "                     (catch e -1 (raise 'foo))\n",
    "                     (finally 'closing-files (raise 'ack) 42))))\n",
    "            x)\n",
    "       (catch e (if (equal? e 'foo) 99 (raise 'doug)))\n",
    "       (finally 'closing-outer-files)) (catch e e)))\n",
    "    ))\n",
    "\n",
    "(define test-loop\n",
    "  (lambda ()\n",
    "    (verify2 'test-47 'blastoff! (try (let loop ((n 5))\n",
    "                            n\n",
    "                            (if (= n 0)\n",
    "                                (raise 'blastoff!))\n",
    "                            (loop (- n 1)))\n",
    "                (catch e e)))))\n",
    "\n",
    "(define (test-macros)\n",
    "  (verify2 'test-48 #t\n",
    "    (let ((bool 5))\n",
    "      (or (= bool 4) (= bool 5))))\n",
    "  (verify2 'test-49 6\n",
    "    (let ((bool 5))\n",
    "      (or (= bool 4) 6)))\n",
    "  (verify2 'test-50 #f\n",
    "    (let ((bool 5))\n",
    "      (and (= bool 5) (> bool 0) (= bool 4))))\n",
    "  (verify2 'test-51 5\n",
    "    (let ((r 5))\n",
    "      (case 'banana\n",
    "        (apple 'no)\n",
    "        ((cherry banana) 1 2 r)\n",
    "        (else 'no))))\n",
    "  (verify2 'test-52 '((6) orange 5)\n",
    "    (let ((r 5))\n",
    "      (record-case (cons 'banana (cons 'orange (cons (* 2 3) '())))\n",
    "        (apple (a b c) (list c b a r))\n",
    "        ((cherry banana) (a . b) (list b a r))\n",
    "        ((orange) () 'no)\n",
    "        (else 2 3 4)))))\n",
    "\n",
    "(test-mu-lambda)\n",
    "(test-define)\n",
    "(test-call/cc)\n",
    "(test-loop)\n",
    "(test-macros)\n",
    "(test-try)\n",
    "\n",
    "(define-datatype lc-exp lc-exp?\n",
    "  (var-exp \n",
    "   (var symbol?))\n",
    "  (lambda-exp \n",
    "   (bound-var symbol?)\n",
    "   (body lc-exp?))\n",
    "  (app-exp\n",
    "   (rator lc-exp?)\n",
    "   (rand lc-exp?)))\n",
    "\n",
    "(verify 'define-datatype-1 lc-exp? (lambda (a b) (procedure? b)) '())\n",
    "(verify 'define-datatype-2 var-exp (lambda (a b) (procedure? b)) '())\n",
    "(verify 'define-datatype-3 lambda-exp (lambda (a b) (procedure? b)) '())\n",
    "(verify 'define-datatype-4 app-exp (lambda (a b) (procedure? b)) '())\n",
    "\n",
    "(verify 'define-datatype-5 (var-exp 'a) (lambda (a b) (lc-exp? b)) '())\n",
    "(verify 'define-datatype-6 (lambda-exp 'a (var-exp 'a)) (lambda (a b) (lc-exp? b)) '())\n",
    "(verify 'define-datatype-7 (app-exp (lambda-exp 'a (var-exp 'a)) (var-exp 'a)) (lambda (a b) (lc-exp? b)) '())\n",
    "\n",
    "(define un-parse\n",
    "  (lambda (exp)\n",
    "    (cases lc-exp exp\n",
    "       (var-exp (var) var)\n",
    "       (lambda-exp (bound-var body) (list bound-var body))\n",
    "       (app-exp (rator rand) (list rator rand)))))\n",
    "\n",
    "(verify 'define-datatype-8 (un-parse (var-exp 'a)) eq? 'a)\n",
    "(verify 'define-datatype-8 (un-parse (lambda-exp 'a (var-exp 'a))) equal? '(a (var-exp a)))\n",
    "(verify 'define-datatype-8 (un-parse (app-exp (lambda-exp 'a (var-exp 'a)) (var-exp 'a))) equal? '((lambda-exp a (var-exp a)) (var-exp a)))\n",
    "\n",
    ";; ---------------------------------------------------------------\n",
    ";; named parameters and defaults\n",
    "\n",
    "(verify2 'default-1 1 ((lambda ((n : 1)) n)))\n",
    "(verify2 'default-2 2 ((lambda ((n : 2)) n)))\n",
    "(verify2 'default-3 3 ((lambda ((n : 1)) n) 3))\n",
    "\n",
    "(verify2 'named-1 '(1 2 3) ((lambda (a b c) (list a b c)) 1 2 3))\n",
    "(verify2 'named-2 '(1 2 3) ((lambda (a b c) (list a b c)) 1 2 (c : 3)))\n",
    "(verify2 'named-3 '(1 2 3) ((lambda (a b c) (list a b c)) 1 (b : 2) (c : 3)))\n",
    "(verify2 'named-4 '(1 2 3) ((lambda (a b c) (list a b c)) (a : 1) (b : 2) (c : 3)))\n",
    "(verify2 'named-5 '(1 2 3) ((lambda (a b c) (list a b c)) 1 (c : 3) (b : 2)))\n",
    "\n",
    "(verify2 'default-named-1 3 ((lambda ((n : 1)) n) (n : 3)))\n",
    "\n",
    ";; ---------------------------------------------------------------\n",
    ";; choose\n",
    "\n",
    "(define distinct?\n",
    "  (lambda (nums)\n",
    "    (or (null? nums)\n",
    "        (null? (cdr nums))\n",
    "        (and (not (member (car nums) (cdr nums)))\n",
    "             (distinct? (cdr nums))))))\n",
    "\n",
    "(define floors2\n",
    "  (lambda ()\n",
    "    (let ((baker (choose 1 2 3 4 5)))\n",
    "      (require (not (= baker 5)))\n",
    "      (let ((fletcher (choose 1 2 3 4 5)))\n",
    "        (require (not (= fletcher 5)))\n",
    "        (require (not (= fletcher 1)))\n",
    "        (let ((cooper (choose 1 2 3 4 5)))\n",
    "          (require (not (= cooper 1)))\n",
    "          (require (not (= (abs (- fletcher cooper)) 1)))\n",
    "          (let ((smith (choose 1 2 3 4 5)))\n",
    "            (require (not (= (abs (- smith fletcher)) 1)))\n",
    "            (let ((miller (choose 1 2 3 4 5)))\n",
    "              (require (> miller cooper))\n",
    "              (require (distinct? (list baker cooper fletcher miller smith)))\n",
    "              (list\n",
    "                (list 'baker: baker)\n",
    "                (list 'cooper: cooper)\n",
    "                (list 'fletcher: fletcher)\n",
    "                (list 'miller: miller)\n",
    "                (list 'smith: smith)))))))))\n",
    "\n",
    "(verify 'choose (floors2) equal? '((baker: 3) (cooper: 2) (fletcher: 4) (miller: 5) (smith: 1)))\n",
    "\n",
    ";; ---------------------------------------------------------------\n",
    ";; results\n",
    "(newline)\n",
    "(for-each (lambda (m) (printf \"~a ~%\" m)) (reverse report))\n",
    "(printf \"~%Results:~%    right = ~s~%    wrong = ~s ~%\" right wrong)\n",
    "(printf \"Time: ~s seconds~%\" (- (current-time) start-time))"
   ]
  }
 ],
 "metadata": {
  "kernelspec": {
   "display_name": "Calysto Scheme 3",
   "language": "scheme",
   "name": "calysto_scheme"
  },
  "language_info": {
   "codemirror_mode": {
    "name": "scheme"
   },
   "mimetype": "text/x-scheme",
   "name": "scheme",
   "pygments_lexer": "scheme"
  }
 },
 "nbformat": 4,
 "nbformat_minor": 0
}
