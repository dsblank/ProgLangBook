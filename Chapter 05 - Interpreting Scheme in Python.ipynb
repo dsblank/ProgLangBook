{
 "cells": [
  {
   "cell_type": "code",
   "execution_count": 10,
   "metadata": {
    "collapsed": false
   },
   "outputs": [],
   "source": [
    "import ast"
   ]
  },
  {
   "cell_type": "code",
   "execution_count": 22,
   "metadata": {
    "collapsed": false
   },
   "outputs": [],
   "source": [
    "pyexpr = ast.Expression(ast.BinOp(ast.Num(1), \n",
    "                                  ast.Add(), \n",
    "                                  ast.Num(2)))"
   ]
  },
  {
   "cell_type": "code",
   "execution_count": 23,
   "metadata": {
    "collapsed": true
   },
   "outputs": [],
   "source": [
    "pyexpr = ast.fix_missing_locations(pyexpr)"
   ]
  },
  {
   "cell_type": "code",
   "execution_count": 24,
   "metadata": {
    "collapsed": false
   },
   "outputs": [
    {
     "data": {
      "text/plain": [
       "'Expression(body=BinOp(left=Num(n=1), op=Add(), right=Num(n=2)))'"
      ]
     },
     "execution_count": 24,
     "metadata": {},
     "output_type": "execute_result"
    }
   ],
   "source": [
    "ast.dump(pyexpr1)"
   ]
  },
  {
   "cell_type": "code",
   "execution_count": 35,
   "metadata": {
    "collapsed": false
   },
   "outputs": [],
   "source": [
    "def evaluator(expr):\n",
    "    if isinstance(expr, ast.Module):\n",
    "        return evaluator_begin(expr.body)\n",
    "    elif isinstance(expr, ast.Module):\n",
    "        return evaluator_begin(expr.body)\n",
    "    elif isinstance(expr, ast.Expr):\n",
    "        return evaluator(expr.value)\n",
    "    elif isinstance(expr, ast.Expression):\n",
    "        return evaluator(expr.body)\n",
    "    elif isinstance(expr, ast.BinOp):\n",
    "        return evaluator_binop(expr.op, \n",
    "                               evaluator(expr.left),\n",
    "                               evaluator(expr.right))\n",
    "    elif isinstance(expr, ast.Num):\n",
    "        return expr.n\n",
    "    elif isinstance(expr, ast.Call):\n",
    "        return evaluator_apply(expr.func.id, map(evaluator, expr.args))\n",
    "    else:\n",
    "        raise Exception(\"invalid ast: %s\" % expr)\n",
    "\n",
    "def evaluator_apply(op, operands):\n",
    "    if op == \"print\":\n",
    "        print(operands)\n",
    "    else:\n",
    "        raise Exception(\"unknown apply operator: %s\" % op)\n",
    "\n",
    "def evaluator_begin(exprs):\n",
    "    if len(exprs) == 0:\n",
    "        return None\n",
    "    elif len(exprs) == 1:\n",
    "        return evaluator(exprs[0])\n",
    "    else:\n",
    "        evaluator(exprs[0])\n",
    "        return evaluator_begin(exprs[1:])\n",
    "\n",
    "def evaluator_binop(op, left, right):\n",
    "    if isinstance(op,ast.Add):\n",
    "        return left + right\n",
    "    elif isinstance(op, ast.Mult):\n",
    "        return left * right\n",
    "    else:\n",
    "        raise Exception(\"unknown operator: %ss\" % op)"
   ]
  },
  {
   "cell_type": "code",
   "execution_count": 36,
   "metadata": {
    "collapsed": false
   },
   "outputs": [
    {
     "data": {
      "text/plain": [
       "3"
      ]
     },
     "execution_count": 36,
     "metadata": {},
     "output_type": "execute_result"
    }
   ],
   "source": [
    "evaluator(pyexpr)"
   ]
  },
  {
   "cell_type": "code",
   "execution_count": 37,
   "metadata": {
    "collapsed": false
   },
   "outputs": [],
   "source": [
    "codeobj = compile(pyexpr, \"<string>\", \"eval\")"
   ]
  },
  {
   "cell_type": "code",
   "execution_count": 38,
   "metadata": {
    "collapsed": false
   },
   "outputs": [
    {
     "name": "stdout",
     "output_type": "stream",
     "text": [
      "3\n"
     ]
    }
   ],
   "source": [
    "print(eval(codeobj))"
   ]
  },
  {
   "cell_type": "code",
   "execution_count": null,
   "metadata": {
    "collapsed": true
   },
   "outputs": [],
   "source": []
  }
 ],
 "metadata": {
  "kernelspec": {
   "display_name": "Python 3",
   "language": "python",
   "name": "python3"
  },
  "language_info": {
   "codemirror_mode": {
    "name": "ipython",
    "version": 3
   },
   "file_extension": ".py",
   "mimetype": "text/x-python",
   "name": "python",
   "nbconvert_exporter": "python",
   "pygments_lexer": "ipython3",
   "version": "3.4.3"
  }
 },
 "nbformat": 4,
 "nbformat_minor": 0
}
