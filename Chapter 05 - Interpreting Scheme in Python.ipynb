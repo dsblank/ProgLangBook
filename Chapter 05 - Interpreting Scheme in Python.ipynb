{
 "cells": [
  {
   "cell_type": "markdown",
   "metadata": {},
   "source": [
    "# Building a Scheme Interpreter\n",
    "\n",
    "Consider using Python to turn the string \"(+ 1 2)\" into the actual number 3. How does that happen? This question is really: what does a programming language do? How does it work? In this chapter, we will answer these questions by building a Scheme interpreter in Python.\n",
    "\n",
    "## Two Steps: Parse and Interpret\n",
    "\n",
    "In designing a programming language, we break down the process into two steps:\n",
    "\n",
    "**STEP 1:** The first step in implementing a programming language is to take a plain string and turn it into what is commonly called an *Abstract Syntax Tree*, or AST for short. This process is called *parsing*. ASTs are data structures.\n",
    "\n",
    "**STEP 2:** The second step is to build an evaluator that takes ASTs and interprets them. This is called *interpreting*.\n",
    "\n",
    "We will now go through the steps of designing a language. As this language will start off as a simple calculator with the syntax looking like Scheme, we'll call this language **S-Calc**, short for Scheme Calculator.\n",
    "\n",
    "## Parsing\n",
    "\n",
    "To build a function that will take a string and produce AST, we further break down the parsing into three stages. We could do this all in one function, but it is common to break the process up into smaller chunks to make processing (and understanding/debugging) easier. The three components are:\n",
    "\n",
    "1. tokenize - turns a string into tokens\n",
    "2. reader - take the tokens and group them\n",
    "3. parser - turn the segmented parts into AST\n",
    "\n",
    "The idea is that we can then take our string \"(+ 1 2)\" and end up with AST, like so:\n",
    "\n",
    "```python\n",
    "parser(reader(tokenize(\"(+ 1 1)\")))\n",
    "```\n",
    "The form of the AST can really be any data structure that we decide. For these experiments, we will use very simple Scheme expressions (called s-exp). Thus, the above string might look like this in Scheme:\n",
    "\n",
    "```scheme\n",
    "(apply-exp\n",
    " (var-exp +)\n",
    " ((lit-exp 1) (lit-exp 2)))\n",
    "```\n",
    "That is, it is an application-expression composed of the *operator* (a variable-expression '+') and two literal-expressions 1 and 2 as *operands*.\n",
    "\n",
    "We call the syntax of the string the **Concrete Syntax** as compared to the **Abstract Syntax** of the AST.\n",
    "\n",
    "As we have seen, Scheme is a simple language composed of lists, symbols, strings, and numbers. Everything in the language can be parsed into those components, so writing a Scheme parser is pretty easy compared to languages like Python.\n",
    "\n",
    "### Tokenize\n",
    "\n",
    "To parse S-Calc we first define the lowest level of the process, the tokenizer:"
   ]
  },
  {
   "cell_type": "code",
   "execution_count": 1,
   "metadata": {
    "collapsed": true
   },
   "outputs": [],
   "source": [
    "def tokenizer(string):\n",
    "    \"\"\"\n",
    "    Takes a string and segments it into parts.\n",
    "    We break strings up by brackets, and whitespace.\n",
    "    Returns a Python list of strings.\n",
    "    \"\"\"\n",
    "    retval = []\n",
    "    current = \"\"\n",
    "    for i in range(len(string)):\n",
    "        if string[i] in [\"(\", \"[\", \")\", \"]\"]:\n",
    "            if current:\n",
    "                retval.append(current)\n",
    "            current = \"\"\n",
    "            retval.append(string[i])\n",
    "        elif string[i] in [\" \", \"\\t\", \"\\n\"]:\n",
    "            if current:\n",
    "                retval.append(current)\n",
    "            current = \"\"\n",
    "        else:\n",
    "            current += string[i]\n",
    "    if current:\n",
    "        retval.append(current)\n",
    "    return retval"
   ]
  },
  {
   "cell_type": "code",
   "execution_count": 2,
   "metadata": {
    "collapsed": false
   },
   "outputs": [
    {
     "data": {
      "text/plain": [
       "['(', 'this', 'is', 'a', '3.14', '(', 'test', ')', ')']"
      ]
     },
     "execution_count": 2,
     "metadata": {},
     "output_type": "execute_result"
    }
   ],
   "source": [
    "tokenizer(\"\"\"(this    is a\n",
    "3.14 \n",
    "(test))\"\"\")"
   ]
  },
  {
   "cell_type": "markdown",
   "metadata": {},
   "source": [
    "**Exercise 1:** Try the tokenizer on many different strings. Describe what it does in simple terms based on its input and output."
   ]
  },
  {
   "cell_type": "markdown",
   "metadata": {},
   "source": [
    "### Reader\n",
    "\n",
    "The reader will take the tokenized expression (texp) and produced grouped results."
   ]
  },
  {
   "cell_type": "code",
   "execution_count": 3,
   "metadata": {
    "collapsed": true
   },
   "outputs": [],
   "source": [
    "def reader(texp):\n",
    "    \"\"\"\n",
    "    Takes the output of the tokenizer, and creates\n",
    "    lists of lists of items. Numbers are represented\n",
    "    as numbers.\n",
    "    \"\"\"\n",
    "    current = None\n",
    "    stack = []\n",
    "    for item in texp:\n",
    "        if item.isdigit():\n",
    "            if current is not None:\n",
    "                current.append(eval(item))\n",
    "            else:\n",
    "                current = eval(item)\n",
    "        elif item in [\"[\", \"(\"]:\n",
    "            if current is not None:\n",
    "                stack.append(current)\n",
    "            current = []\n",
    "        elif item in [\"]\", \")\"]:\n",
    "            if stack:\n",
    "                stack[-1].append(current)\n",
    "                current = stack.pop(-1)\n",
    "            else:\n",
    "                pass\n",
    "        else:\n",
    "            if current is not None:\n",
    "                current.append(item)\n",
    "            else:\n",
    "                current = item\n",
    "    return current"
   ]
  },
  {
   "cell_type": "code",
   "execution_count": 4,
   "metadata": {
    "collapsed": false
   },
   "outputs": [
    {
     "data": {
      "text/plain": [
       "['(', 'this', 'is', '(', 'a', ')', '(', '(', 'list', ')', ')']"
      ]
     },
     "execution_count": 4,
     "metadata": {},
     "output_type": "execute_result"
    }
   ],
   "source": [
    "tokenizer(\"(this is (a) ((list))\")"
   ]
  },
  {
   "cell_type": "code",
   "execution_count": 5,
   "metadata": {
    "collapsed": false
   },
   "outputs": [
    {
     "data": {
      "text/plain": [
       "['this', 'is', ['a'], [['list']]]"
      ]
     },
     "execution_count": 5,
     "metadata": {},
     "output_type": "execute_result"
    }
   ],
   "source": [
    "reader(tokenizer(\"(this is (a) ((list))\"))"
   ]
  },
  {
   "cell_type": "markdown",
   "metadata": {},
   "source": [
    "**Exercise 2**: Try the reader on many different tokenized strings. Describe what it does in simple terms. How does this differ from the lexer?"
   ]
  },
  {
   "cell_type": "markdown",
   "metadata": {},
   "source": [
    "### Parser"
   ]
  },
  {
   "cell_type": "markdown",
   "metadata": {},
   "source": [
    "The final process of Step 1 is to take the output of the reader and parse it into an AST. For our first S-Calc expression, we just need to handle \"(+ 1 2)\". That is, we need to handle three things:\n",
    "\n",
    "* numbers - any kind of number\n",
    "* variables, like \"+\" - anything not a number\n",
    "* application - starts with a parenthesis"
   ]
  },
  {
   "cell_type": "code",
   "execution_count": 6,
   "metadata": {
    "collapsed": true
   },
   "outputs": [],
   "source": [
    "## Version 1:\n",
    "\n",
    "def parser(rexp):\n",
    "    \"\"\"\n",
    "    Reads in a Python list of things, and returns an AST.\n",
    "    \"\"\"\n",
    "    if isinstance(rexp, int):\n",
    "        return lit_exp(rexp)\n",
    "    elif isinstance(rexp, str):\n",
    "        return var_exp(rexp)\n",
    "    else:\n",
    "        return app_exp(parser(rexp[0]), List(*map(parser, rexp[1:])))"
   ]
  },
  {
   "cell_type": "markdown",
   "metadata": {},
   "source": [
    "That's it?! Yes, but we need to define some things before that will run. We need to define:\n",
    "\n",
    "* list_exp\n",
    "* var_exp\n",
    "* app_exp\n",
    "\n",
    "To think like a Little Schemer, we define some utility functions in Python so that we can write code as if we were in Scheme. Specifically, let's replicate the linked-list of cons/car/cdr:"
   ]
  },
  {
   "cell_type": "code",
   "execution_count": 68,
   "metadata": {
    "collapsed": true
   },
   "outputs": [],
   "source": [
    "EmptyList = \"()\"\n",
    "\n",
    "def cons(item1, item2):\n",
    "    return [item1, item2]\n",
    "\n",
    "def car(exp):\n",
    "    return exp[0]\n",
    "\n",
    "def cdr(exp):\n",
    "    return exp[1]\n",
    "\n",
    "def cadr(exp):\n",
    "    return exp[1][0]\n",
    "\n",
    "def cddr(exp):\n",
    "    return exp[1][1]\n",
    "\n",
    "def caddr(exp):\n",
    "    return exp[1][1][0]\n",
    "\n",
    "def List(*args):\n",
    "    \"Create a linked-list of items\"\n",
    "    retval = EmptyList\n",
    "    for arg in reversed(args):\n",
    "        retval = cons(arg, retval)\n",
    "    return retval"
   ]
  },
  {
   "cell_type": "markdown",
   "metadata": {},
   "source": [
    "An improper list, the dotted pair:"
   ]
  },
  {
   "cell_type": "code",
   "execution_count": 69,
   "metadata": {
    "collapsed": false
   },
   "outputs": [
    {
     "data": {
      "text/plain": [
       "[1, 2]"
      ]
     },
     "execution_count": 69,
     "metadata": {},
     "output_type": "execute_result"
    }
   ],
   "source": [
    "cons(1, 2)"
   ]
  },
  {
   "cell_type": "markdown",
   "metadata": {},
   "source": [
    "Make sure that `car` and `cdr` can deconstruct a `cons` cell:"
   ]
  },
  {
   "cell_type": "code",
   "execution_count": 24,
   "metadata": {
    "collapsed": false
   },
   "outputs": [
    {
     "data": {
      "text/plain": [
       "1"
      ]
     },
     "execution_count": 24,
     "metadata": {},
     "output_type": "execute_result"
    }
   ],
   "source": [
    "car(cons(1, 2))"
   ]
  },
  {
   "cell_type": "code",
   "execution_count": 25,
   "metadata": {
    "collapsed": false
   },
   "outputs": [
    {
     "data": {
      "text/plain": [
       "2"
      ]
     },
     "execution_count": 25,
     "metadata": {},
     "output_type": "execute_result"
    }
   ],
   "source": [
    "cdr(cons(1, 2))"
   ]
  },
  {
   "cell_type": "markdown",
   "metadata": {},
   "source": [
    "And, a convenience method for constructing Scheme-like lists of multiple items:"
   ]
  },
  {
   "cell_type": "code",
   "execution_count": 26,
   "metadata": {
    "collapsed": false
   },
   "outputs": [
    {
     "data": {
      "text/plain": [
       "[1, [2, [3, [4, '()']]]]"
      ]
     },
     "execution_count": 26,
     "metadata": {},
     "output_type": "execute_result"
    }
   ],
   "source": [
    "List(1, 2, 3, 4)"
   ]
  },
  {
   "cell_type": "markdown",
   "metadata": {},
   "source": [
    "**Exercise 3**: Why does the list above look like this? Is this similar to how Scheme lists exist? Explain."
   ]
  },
  {
   "cell_type": "markdown",
   "metadata": {},
   "source": [
    "Now, we can compose our AST constructor functions:"
   ]
  },
  {
   "cell_type": "code",
   "execution_count": 39,
   "metadata": {
    "collapsed": true
   },
   "outputs": [],
   "source": [
    "def lit_exp(value):\n",
    "    return List(\"lit-exp\", value)\n",
    "\n",
    "def var_exp(symbol):\n",
    "    return List(\"var-exp\", symbol)\n",
    "\n",
    "def app_exp(f, args):\n",
    "    return List(\"apply-exp\", f, args)"
   ]
  },
  {
   "cell_type": "code",
   "execution_count": 40,
   "metadata": {
    "collapsed": false
   },
   "outputs": [
    {
     "data": {
      "text/plain": [
       "['lit-exp', [1, '()']]"
      ]
     },
     "execution_count": 40,
     "metadata": {},
     "output_type": "execute_result"
    }
   ],
   "source": [
    "parser(reader(tokenizer(\"1\")))"
   ]
  },
  {
   "cell_type": "code",
   "execution_count": 41,
   "metadata": {
    "collapsed": false
   },
   "outputs": [
    {
     "data": {
      "text/plain": [
       "['var-exp', ['+', '()']]"
      ]
     },
     "execution_count": 41,
     "metadata": {},
     "output_type": "execute_result"
    }
   ],
   "source": [
    "parser(reader(tokenizer(\"+\")))"
   ]
  },
  {
   "cell_type": "code",
   "execution_count": 42,
   "metadata": {
    "collapsed": false
   },
   "outputs": [
    {
     "data": {
      "text/plain": [
       "['apply-exp',\n",
       " [['var-exp', ['+', '()']],\n",
       "  [[['lit-exp', [1, '()']], [['lit-exp', [2, '()']], '()']], '()']]]"
      ]
     },
     "execution_count": 42,
     "metadata": {},
     "output_type": "execute_result"
    }
   ],
   "source": [
    "parser(reader(tokenizer(\"(+ 1 2)\")))"
   ]
  },
  {
   "cell_type": "markdown",
   "metadata": {},
   "source": [
    "We'll be doing those three functions together quite often, so let's make a useful function:"
   ]
  },
  {
   "cell_type": "code",
   "execution_count": 43,
   "metadata": {
    "collapsed": true
   },
   "outputs": [],
   "source": [
    "def scalc_parse(string):\n",
    "    return parser(reader(tokenizer(string)))"
   ]
  },
  {
   "cell_type": "code",
   "execution_count": 44,
   "metadata": {
    "collapsed": false
   },
   "outputs": [
    {
     "data": {
      "text/plain": [
       "['lit-exp', [652362, '()']]"
      ]
     },
     "execution_count": 44,
     "metadata": {},
     "output_type": "execute_result"
    }
   ],
   "source": [
    "scalc_parse(\"652362\")"
   ]
  },
  {
   "cell_type": "markdown",
   "metadata": {},
   "source": [
    "**Exercise 4**: Try out the scalc_parser. Can it handle nested mathematical expressions? Why? How does the parser handle recursive expressions?"
   ]
  },
  {
   "cell_type": "markdown",
   "metadata": {},
   "source": [
    "## Interpreter\n",
    "\n",
    "Now we are ready for Step 2: the interpreter. This function takes an AST expression and interprets it (i.e., gives a result). We will call our interpreter `evaluator`.\n",
    "\n",
    "Again, as we only have numbers, symbols, and applications, it only needs to handle those three items. To help with debugging, we will also now add a `print` application."
   ]
  },
  {
   "cell_type": "code",
   "execution_count": 93,
   "metadata": {
    "collapsed": false
   },
   "outputs": [],
   "source": [
    "## Version 1:\n",
    "\n",
    "def evaluator(expr):\n",
    "    if car(expr) == \"lit-exp\":\n",
    "        return cadr(expr)\n",
    "    elif car(expr) == \"var-exp\":\n",
    "        return cadr(expr) ## for now, return symbol\n",
    "    elif car(expr) == \"apply-exp\":\n",
    "        return evaluator_apply(evaluator(cadr(expr)), \n",
    "                               Map(evaluator, caddr(expr)))\n",
    "    else:\n",
    "        raise Exception(\"invalid ast: %s\" % expr)\n",
    "\n",
    "def evaluator_apply(op, operands):\n",
    "    if op == \"print\":\n",
    "        Print(operands)\n",
    "    elif op == \"+\":\n",
    "        return car(operands) + cadr(operands)\n",
    "    else:\n",
    "        raise Exception(\"unknown apply operator: %s\" % op)\n",
    "        \n",
    "def Map(f, slist):\n",
    "    if slist == EmptyList:\n",
    "        return EmptyList\n",
    "    else:\n",
    "        return cons( f(car(slist)), Map(f, cdr(slist))) ## recursive!\n",
    "    \n",
    "def Print(slist):\n",
    "    if slist == EmptyList:\n",
    "        return\n",
    "    else:\n",
    "        print(car(slist))\n",
    "        Print(cdr(slist))"
   ]
  },
  {
   "cell_type": "code",
   "execution_count": 94,
   "metadata": {
    "collapsed": false
   },
   "outputs": [
    {
     "data": {
      "text/plain": [
       "[1, [2, [3, '()']]]"
      ]
     },
     "execution_count": 94,
     "metadata": {},
     "output_type": "execute_result"
    }
   ],
   "source": [
    "Map(lambda v: v, List(1, 2, 3))"
   ]
  },
  {
   "cell_type": "code",
   "execution_count": 95,
   "metadata": {
    "collapsed": true
   },
   "outputs": [],
   "source": [
    "expr = scalc_parse(\"3\")"
   ]
  },
  {
   "cell_type": "code",
   "execution_count": 96,
   "metadata": {
    "collapsed": false
   },
   "outputs": [
    {
     "data": {
      "text/plain": [
       "3"
      ]
     },
     "execution_count": 96,
     "metadata": {},
     "output_type": "execute_result"
    }
   ],
   "source": [
    "evaluator(expr)"
   ]
  },
  {
   "cell_type": "code",
   "execution_count": 97,
   "metadata": {
    "collapsed": true
   },
   "outputs": [],
   "source": [
    "def scalc(string):\n",
    "    return evaluator(scalc_parse(string))"
   ]
  },
  {
   "cell_type": "code",
   "execution_count": 98,
   "metadata": {
    "collapsed": false
   },
   "outputs": [
    {
     "data": {
      "text/plain": [
       "34"
      ]
     },
     "execution_count": 98,
     "metadata": {},
     "output_type": "execute_result"
    }
   ],
   "source": [
    "scalc(\"34\")"
   ]
  },
  {
   "cell_type": "code",
   "execution_count": 99,
   "metadata": {
    "collapsed": false
   },
   "outputs": [
    {
     "data": {
      "text/plain": [
       "2"
      ]
     },
     "execution_count": 99,
     "metadata": {},
     "output_type": "execute_result"
    }
   ],
   "source": [
    "scalc(\"(+ 1 1)\")"
   ]
  },
  {
   "cell_type": "code",
   "execution_count": 100,
   "metadata": {
    "collapsed": false
   },
   "outputs": [
    {
     "name": "stdout",
     "output_type": "stream",
     "text": [
      "1\n",
      "2\n",
      "3\n"
     ]
    }
   ],
   "source": [
    "scalc(\"(print 1 2 3)\")"
   ]
  },
  {
   "cell_type": "code",
   "execution_count": 101,
   "metadata": {
    "collapsed": false
   },
   "outputs": [
    {
     "data": {
      "text/plain": [
       "111"
      ]
     },
     "execution_count": 101,
     "metadata": {},
     "output_type": "execute_result"
    }
   ],
   "source": [
    "scalc(\"(+ 1 (+ 100 10))\")"
   ]
  },
  {
   "cell_type": "markdown",
   "metadata": {},
   "source": [
    "**Exercise 5**: Add the following operators:\n",
    "\n",
    "* subtract\n",
    "* multiply\n",
    "* divide\n",
    "\n",
    "You can redefine the Python functions here.\n",
    "\n",
    "Test out these operations thoroughly. \n",
    "\n",
    "What should you do with divide by zero (and other) errors? What are the choices?"
   ]
  },
  {
   "cell_type": "markdown",
   "metadata": {},
   "source": [
    "**Exercise 6**: A quoted item is a literal item. However, if it is a Python list, it should be converted to a proper Scheme list in the parser. You can use the following for a quoted item. The evaluator need not change. Change the parser to use the following sexp function.\n",
    "\n",
    "```python\n",
    "def sexp(item):\n",
    "    \"\"\"\n",
    "    Takes an Python list of items and returns Scheme s-exp.\n",
    "    \"\"\"\n",
    "    if isinstance(item, list):\n",
    "        return List(*map(sexp, item)) # recursion!\n",
    "    else:\n",
    "        return item\n",
    "```"
   ]
  },
  {
   "cell_type": "markdown",
   "metadata": {},
   "source": [
    "**Exercise 7**: Add the literals #t and #f that evaluate to 1 and 0.\n",
    "\n",
    "```python\n",
    "In[ ]: scalc(\"#t\")\n",
    "Out[]: 1\n",
    "In[ ]: scalc(\"#f\")\n",
    "Out[]: 0\n",
    "```\n",
    "\n",
    "How will you add these to the language? There is no one right answer, but you should justify your choice among possible options."
   ]
  },
  {
   "cell_type": "markdown",
   "metadata": {},
   "source": [
    "**Exercise 8**: Add an if-expression that works as follows:\n",
    "\n",
    "```scheme\n",
    "(if 1 2 3)\n",
    "```\n",
    "should return 2. Note that 3 should never be evaluted. For example:\n",
    "\n",
    "```scheme\n",
    "(if 0 (/ 2 0) 3)\n",
    "```\n",
    "\n",
    "should return 3, but should not evaluate the divide-by-zero expression."
   ]
  }
 ],
 "metadata": {
  "kernelspec": {
   "display_name": "Python 3",
   "language": "python",
   "name": "python3"
  },
  "language_info": {
   "codemirror_mode": {
    "name": "ipython",
    "version": 3
   },
   "file_extension": ".py",
   "mimetype": "text/x-python",
   "name": "python",
   "nbconvert_exporter": "python",
   "pygments_lexer": "ipython3",
   "version": "3.5.1"
  }
 },
 "nbformat": 4,
 "nbformat_minor": 0
}
