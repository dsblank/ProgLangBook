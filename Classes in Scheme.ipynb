{
 "cells": [
  {
   "cell_type": "code",
   "execution_count": 1,
   "metadata": {
    "collapsed": false
   },
   "outputs": [],
   "source": [
    "(define Point (type \"Point\" (tuple) (dict `((\"__init__\" : ,(func (lambda (self x y) \n",
    "                                                                    (setitem self \"x\" x) \n",
    "                                                                    (setitem self \"y\" y)\n",
    "                                                                    None)))))))"
   ]
  },
  {
   "cell_type": "code",
   "execution_count": 3,
   "metadata": {
    "collapsed": false
   },
   "outputs": [
    {
     "data": {
      "text/plain": [
       "<calysto_scheme.scheme.Point object at 0x7ff035185828>"
      ]
     },
     "execution_count": 3,
     "metadata": {},
     "output_type": "execute_result"
    }
   ],
   "source": [
    "(Point 1 2)"
   ]
  },
  {
   "cell_type": "code",
   "execution_count": null,
   "metadata": {
    "collapsed": true
   },
   "outputs": [],
   "source": [
    "(define-class NAME (bases)\n",
    "   (name procedure)\n",
    "   (name procedure))"
   ]
  },
  {
   "cell_type": "code",
   "execution_count": 12,
   "metadata": {
    "collapsed": false
   },
   "outputs": [
    {
     "name": "stdout",
     "output_type": "stream",
     "text": [
      "# On branch master\n",
      "# Changes to be committed:\n",
      "#   (use \"git reset HEAD <file>...\" to unstage)\n",
      "#\n",
      "#\tnew file:   Classes in Scheme.ipynb\n",
      "#\tnew file:   Parsing.ipynb\n",
      "#\tnew file:   Project Ideas.ipynb\n",
      "#\n",
      "# Changed but not updated:\n",
      "#   (use \"git add <file>...\" to update what will be committed)\n",
      "#   (use \"git checkout -- <file>...\" to discard changes in working directory)\n",
      "#\n",
      "#\tmodified:   Bugs.ipynb\n",
      "#\tmodified:   Chapter 05 - Interpreting Scheme in Python.ipynb\n",
      "#\tmodified:   Chapter 06 - Interpreting Python in Scheme.ipynb\n",
      "#\n",
      "# Untracked files:\n",
      "#   (use \"git add <file>...\" to include in what will be committed)\n",
      "#\n",
      "#\ta_sllgen.pdf\n",
      "/home/dblank/ProgLangBook\n",
      "#\ta_sllgen.pdf\n"
     ]
    }
   ],
   "source": [
    "! git status"
   ]
  },
  {
   "cell_type": "code",
   "execution_count": 9,
   "metadata": {
    "collapsed": false
   },
   "outputs": [
    {
     "name": "stdout",
     "output_type": "stream",
     "text": [
      "/home/dblank/ProgLangBook\r\n"
     ]
    }
   ],
   "source": [
    "! git add Classes\\ in\\ Scheme.ipynb"
   ]
  },
  {
   "cell_type": "code",
   "execution_count": 11,
   "metadata": {
    "collapsed": false
   },
   "outputs": [
    {
     "name": "stdout",
     "output_type": "stream",
     "text": [
      "/home/dblank/ProgLangBook\r\n"
     ]
    }
   ],
   "source": [
    "! git add Parsing.ipynb"
   ]
  },
  {
   "cell_type": "code",
   "execution_count": null,
   "metadata": {
    "collapsed": true
   },
   "outputs": [],
   "source": []
  }
 ],
 "metadata": {
  "kernelspec": {
   "display_name": "Calysto Scheme 3",
   "language": "scheme",
   "name": "calysto_scheme"
  },
  "language_info": {
   "codemirror_mode": {
    "name": "scheme"
   },
   "mimetype": "text/x-scheme",
   "name": "scheme",
   "pygments_lexer": "scheme"
  }
 },
 "nbformat": 4,
 "nbformat_minor": 0
}
