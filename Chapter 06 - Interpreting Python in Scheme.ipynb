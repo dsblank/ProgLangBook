{
 "cells": [
  {
   "cell_type": "markdown",
   "metadata": {},
   "source": [
    "How Python works:\n",
    "\n",
    "* create AST\n",
    "* create bytecode\n",
    "* interpret bytecode\n",
    "\n",
    "First, let's take a look at manually constructing an AST representing \"1 + 2\". \n",
    "\n",
    "Python is a much more complex language in terms of **Concrete Syntax**. It is not simple lists, like Scheme. It has brackets, newlines, colons, semicolons, dots, commas, and much more. Luckily for us, Python comes with a library to parse itself. To parse Python we import the `ast` module:"
   ]
  },
  {
   "cell_type": "code",
   "execution_count": 47,
   "metadata": {
    "collapsed": false
   },
   "outputs": [
    {
     "data": {
      "text/plain": [
       "(ast)"
      ]
     },
     "execution_count": 47,
     "metadata": {},
     "output_type": "execute_result"
    }
   ],
   "source": [
    "(import \"ast\")"
   ]
  },
  {
   "cell_type": "markdown",
   "metadata": {},
   "source": [
    "To use the built-in Python tools for interpreting an expression, we must build the AST in a precise manner. So, we take the idea of \"1 + 2\" and we express this as:"
   ]
  },
  {
   "cell_type": "code",
   "execution_count": 48,
   "metadata": {
    "collapsed": true
   },
   "outputs": [],
   "source": [
    "(define expr \n",
    "  (ast.Expression\n",
    "    (ast.BinOp (ast.Num 1)\n",
    "               (ast.Add)\n",
    "               (ast.Num 2))))"
   ]
  },
  {
   "cell_type": "code",
   "execution_count": 49,
   "metadata": {
    "collapsed": false
   },
   "outputs": [
    {
     "data": {
      "text/plain": [
       "\"Expression(body=BinOp(left=Num(n=1), op=Add(), right=Num(n=2)))\""
      ]
     },
     "execution_count": 49,
     "metadata": {},
     "output_type": "execute_result"
    }
   ],
   "source": [
    "(ast.dump expr)"
   ]
  },
  {
   "cell_type": "markdown",
   "metadata": {},
   "source": [
    "Because our expr didn't actually come from source code (e.g., from a file or a string) we need to poke in dummy values for line numbers so that the compiler won't complain:"
   ]
  },
  {
   "cell_type": "code",
   "execution_count": 50,
   "metadata": {
    "collapsed": true
   },
   "outputs": [],
   "source": [
    "(set! expr (ast.fix_missing_locations expr))"
   ]
  },
  {
   "cell_type": "markdown",
   "metadata": {},
   "source": [
    "In Python, the AST is compiled into *bytecode*:"
   ]
  },
  {
   "cell_type": "code",
   "execution_count": 51,
   "metadata": {
    "collapsed": true
   },
   "outputs": [],
   "source": [
    "(define bytecode (compile expr \"<string>\" \"eval\"))"
   ]
  },
  {
   "cell_type": "markdown",
   "metadata": {},
   "source": [
    "Finally, Python can interpret the bytecode and give you the result:"
   ]
  },
  {
   "cell_type": "code",
   "execution_count": 52,
   "metadata": {
    "collapsed": false
   },
   "outputs": [
    {
     "data": {
      "text/plain": [
       "3"
      ]
     },
     "execution_count": 52,
     "metadata": {},
     "output_type": "execute_result"
    }
   ],
   "source": [
    "(python-eval bytecode)"
   ]
  },
  {
   "cell_type": "code",
   "execution_count": 53,
   "metadata": {
    "collapsed": false
   },
   "outputs": [
    {
     "data": {
      "text/plain": [
       "(dis)"
      ]
     },
     "execution_count": 53,
     "metadata": {},
     "output_type": "execute_result"
    }
   ],
   "source": [
    "(import \"dis\")"
   ]
  },
  {
   "cell_type": "code",
   "execution_count": 54,
   "metadata": {
    "collapsed": false
   },
   "outputs": [
    {
     "name": "stdout",
     "output_type": "stream",
     "text": [
      "  1           0 LOAD_CONST               2 (3)\n",
      "              3 RETURN_VALUE\n"
     ]
    }
   ],
   "source": [
    "(dis.disassemble bytecode)"
   ]
  },
  {
   "cell_type": "markdown",
   "metadata": {},
   "source": [
    "# Building a Python Interpreter"
   ]
  },
  {
   "cell_type": "code",
   "execution_count": 3,
   "metadata": {
    "collapsed": false
   },
   "outputs": [
    {
     "data": {
      "text/plain": [
       "(ast)"
      ]
     },
     "execution_count": 3,
     "metadata": {},
     "output_type": "execute_result"
    }
   ],
   "source": [
    "(import \"ast\")"
   ]
  },
  {
   "cell_type": "code",
   "execution_count": 16,
   "metadata": {
    "collapsed": false
   },
   "outputs": [],
   "source": [
    "(define pyexpr (ast.parse \"1 + 2\"))"
   ]
  },
  {
   "cell_type": "code",
   "execution_count": 17,
   "metadata": {
    "collapsed": false
   },
   "outputs": [
    {
     "data": {
      "text/plain": [
       "\"Module(body=[Expr(value=BinOp(left=Num(n=1), op=Add(), right=Num(n=2)))])\""
      ]
     },
     "execution_count": 17,
     "metadata": {},
     "output_type": "execute_result"
    }
   ],
   "source": [
    "(ast.dump pyexpr)"
   ]
  },
  {
   "cell_type": "markdown",
   "metadata": {},
   "source": [
    "We must handle a couple of items that the Python AST creates:\n",
    "\n",
    "* Module\n",
    "* Expr\n",
    "\n",
    "Also note that `+` is parsed as a BinOp."
   ]
  },
  {
   "cell_type": "code",
   "execution_count": 6,
   "metadata": {
    "collapsed": false
   },
   "outputs": [],
   "source": [
    "(define evaluator\n",
    "  (lambda (expr)\n",
    "    (cond\n",
    "     ((isinstance expr ast.Module)\n",
    "      (evaluator-begin (vector->list expr.body)))\n",
    "     ((isinstance expr ast.Expr)\n",
    "      (evaluator expr.value))\n",
    "     ((isinstance expr ast.BinOp)\n",
    "      (evaluator-binop expr.op \n",
    "                   (evaluator expr.left)\n",
    "                   (evaluator expr.right)))\n",
    "     ((isinstance expr ast.Num)\n",
    "      expr.n)\n",
    "     ((isinstance expr ast.Call)\n",
    "      (evaluator-apply expr.func.id (map evaluator (vector->list expr.args))))\n",
    "     (else (error \"evaluator\" \"invalid ast: ~s\" expr)))))\n",
    "\n",
    "(define evaluator-apply\n",
    "  (lambda (op operands)\n",
    "    (cond\n",
    "     ((string=? op \"print\")\n",
    "      (apply print operands))\n",
    "     (else (error \"evaluator-appy\" \"unknown apply operator: ~s\" op)))))\n",
    "\n",
    "(define evaluator-begin\n",
    "  (lambda (exprs)\n",
    "    (cond\n",
    "     ((null? exprs)\n",
    "      (void))\n",
    "     ((= 1 (length exprs))\n",
    "      (evaluator (car exprs)))\n",
    "     (else (begin\n",
    "            (evaluator (car exprs))\n",
    "            (evaluator-begin (cdr exprs)))))))\n",
    "\n",
    "(define evaluator-binop\n",
    "  (lambda (op left right)\n",
    "    (cond\n",
    "     ((isinstance op ast.Add)\n",
    "      (+ left right))\n",
    "     (else (error \"apply-binop\" \"unknown operator: ~s\" op)))))"
   ]
  },
  {
   "cell_type": "code",
   "execution_count": 18,
   "metadata": {
    "collapsed": false
   },
   "outputs": [
    {
     "data": {
      "text/plain": [
       "3"
      ]
     },
     "execution_count": 18,
     "metadata": {},
     "output_type": "execute_result"
    }
   ],
   "source": [
    "(evaluator pyexpr)"
   ]
  },
  {
   "cell_type": "markdown",
   "metadata": {},
   "source": [
    "## Python AST\n",
    "\n",
    "Python can also, of course, handle the same AST that we can."
   ]
  },
  {
   "cell_type": "code",
   "execution_count": 40,
   "metadata": {
    "collapsed": true
   },
   "outputs": [],
   "source": [
    "(define pyexpr (ast.parse \"print(1 + 2); 4\"))"
   ]
  },
  {
   "cell_type": "code",
   "execution_count": 41,
   "metadata": {
    "collapsed": false
   },
   "outputs": [
    {
     "name": "stdout",
     "output_type": "stream",
     "text": [
      "3\n"
     ]
    },
    {
     "data": {
      "text/plain": [
       "4"
      ]
     },
     "execution_count": 41,
     "metadata": {},
     "output_type": "execute_result"
    }
   ],
   "source": [
    "(evaluator pyexpr)"
   ]
  },
  {
   "cell_type": "code",
   "execution_count": 42,
   "metadata": {
    "collapsed": false
   },
   "outputs": [],
   "source": [
    "(define bytecode (compile pyexpr \"<string>\" \"exec\"))"
   ]
  },
  {
   "cell_type": "code",
   "execution_count": 43,
   "metadata": {
    "collapsed": false
   },
   "outputs": [
    {
     "name": "stdout",
     "output_type": "stream",
     "text": [
      "3\n"
     ]
    }
   ],
   "source": [
    "(python-eval bytecode)"
   ]
  },
  {
   "cell_type": "markdown",
   "metadata": {},
   "source": [
    "**Exercise:** How did the Python interpreter differ from our interpretation of the same expression? Why do you thing this is?"
   ]
  },
  {
   "cell_type": "code",
   "execution_count": 44,
   "metadata": {
    "collapsed": false
   },
   "outputs": [
    {
     "name": "stdout",
     "output_type": "stream",
     "text": [
      "  1           0 LOAD_NAME                0 (print)\n",
      "              3 LOAD_CONST               3 (3)\n",
      "              6 CALL_FUNCTION            1 (1 positional, 0 keyword pair)\n",
      "              9 POP_TOP\n",
      "             10 LOAD_CONST               2 (None)\n",
      "             13 RETURN_VALUE\n"
     ]
    }
   ],
   "source": [
    "(dis.disassemble bytecode)"
   ]
  },
  {
   "cell_type": "markdown",
   "metadata": {
    "collapsed": true
   },
   "source": [
    "## P-Calc\n"
   ]
  },
  {
   "cell_type": "code",
   "execution_count": 11,
   "metadata": {
    "collapsed": true
   },
   "outputs": [],
   "source": [
    "(define pcalc\n",
    "  (lambda (string)\n",
    "    (let ((pyast (ast.parse string)))\n",
    "      (evaluator pyast))))"
   ]
  },
  {
   "cell_type": "code",
   "execution_count": 13,
   "metadata": {
    "collapsed": false
   },
   "outputs": [
    {
     "data": {
      "text/plain": [
       "3"
      ]
     },
     "execution_count": 13,
     "metadata": {},
     "output_type": "execute_result"
    }
   ],
   "source": [
    "(pcalc \"(1 + 2)\")"
   ]
  },
  {
   "cell_type": "code",
   "execution_count": 1,
   "metadata": {
    "collapsed": false
   },
   "outputs": [
    {
     "name": "stderr",
     "output_type": "stream",
     "text": [
      "\u001b[0;31m\n",
      "Traceback (most recent call last):\n",
      "  File \"In [1]\", line 3, col 13, in 'error'\n",
      "  File \"In [1]\", line 3, col 13\n",
      "RunTimeError: Error in 'evaluator': Unable to parse\n",
      "\n",
      "\u001b[0m"
     ]
    }
   ],
   "source": [
    "(try \n",
    " (ast.parse \"(+ 1 2)\")\n",
    " (catch e e (error \"evaluator\" \"Unable to parse\")))\n",
    "        "
   ]
  },
  {
   "cell_type": "markdown",
   "metadata": {},
   "source": [
    "## Limitations\n",
    "\n",
    "If we use the Python parser, then we can parse only valid Python strings. For example, this is invalid:"
   ]
  },
  {
   "cell_type": "code",
   "execution_count": 14,
   "metadata": {
    "collapsed": false
   },
   "outputs": [
    {
     "name": "stderr",
     "output_type": "stream",
     "text": [
      "\u001b[0;31m\n",
      "Traceback (most recent call last):\n",
      "  File \"In [14]\", line 1, col 1, in 'pcalc'\n",
      "  File \"In [11]\", line 3, col 18, in 'ast.parse'\n",
      "UnhandledException: invalid syntax (<unknown>, line 1)\n",
      "\n",
      "\u001b[0m"
     ]
    }
   ],
   "source": [
    "(pcalc \"1 x 5\")"
   ]
  },
  {
   "cell_type": "markdown",
   "metadata": {},
   "source": [
    "That is, we can only use the symbols that Python has predeterimed as valid BinOps. If we want to define our own BinOp (not one of +, -, *, /, etc.) Then we must parse it as an application:"
   ]
  },
  {
   "cell_type": "code",
   "execution_count": 15,
   "metadata": {
    "collapsed": false
   },
   "outputs": [
    {
     "name": "stderr",
     "output_type": "stream",
     "text": [
      "\u001b[0;31m\n",
      "Traceback (most recent call last):\n",
      "  File \"In [15]\", line 1, col 1, in 'pcalc'\n",
      "  File \"In [11]\", line 3, col 5, in 'let'\n",
      "  File \"In [11]\", line 4, col 7, in 'evaluator'\n",
      "  File \"In [6]\", line 5, col 7, in 'evaluator-begin'\n",
      "  File \"In [6]\", line 31, col 7, in 'evaluator'\n",
      "  File \"In [6]\", line 7, col 7, in 'evaluator'\n",
      "  File \"In [6]\", line 15, col 7, in 'evaluator-apply'\n",
      "  File \"In [6]\", line 23, col 12, in 'error'\n",
      "  File \"In [6]\", line 23, col 12\n",
      "RunTimeError: Error in 'evaluator-appy': unknown apply operator: \"x\"\n",
      "\n",
      "\u001b[0m"
     ]
    }
   ],
   "source": [
    "(pcalc \"x(1, 5)\")"
   ]
  },
  {
   "cell_type": "markdown",
   "metadata": {},
   "source": [
    "Of course, we must handle the operand appropriately in evaluator-apply."
   ]
  }
 ],
 "metadata": {
  "kernelspec": {
   "display_name": "Calysto Scheme 3",
   "language": "scheme",
   "name": "calysto_scheme"
  },
  "language_info": {
   "codemirror_mode": {
    "name": "scheme"
   },
   "mimetype": "text/x-scheme",
   "name": "scheme",
   "pygments_lexer": "scheme"
  }
 },
 "nbformat": 4,
 "nbformat_minor": 0
}
