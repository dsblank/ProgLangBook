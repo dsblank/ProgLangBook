{
 "cells": [
  {
   "cell_type": "markdown",
   "metadata": {},
   "source": [
    "# 6. Interpreting Python in Scheme\n",
    "\n",
    "In Chapter 5, we saw how to build an interpreter by breaking the process into 2 steps:\n",
    "\n",
    "1. parsing **concrete syntax** into **abstract syntax**, and building **abstract syntax trees** (AST)\n",
    "2. interpreting AST\n",
    "\n",
    "For many real-world problems, this can be slower than what is possible. For many modern languages, an intermediate stage is used. Rather than interpreting AST, the AST is *compiled* into bytecodes. The final interpreter works on bytecodes rather than ASTs:\n",
    "\n",
    "1. parsing concrete syntax into abstract syntax, and building abstract syntax trees (AST)\n",
    "2. compiling AST into bytecode\n",
    "2. interpreting bytecode\n",
    "\n",
    "Both Java and Python (and many other languages) work this way. Before we build a Python interpreter, let's examine the way that Python actually works.\n",
    "\n",
    "First, let's take a look at manually constructing a Python AST representing \"1 + 2\". We will examing parsing shortly, but for now, let's start with AST. Python comes with a library containing the necessary AST data structures:"
   ]
  },
  {
   "cell_type": "code",
   "execution_count": 2,
   "metadata": {
    "collapsed": false
   },
   "outputs": [
    {
     "data": {
      "text/plain": [
       "(ast)"
      ]
     },
     "execution_count": 2,
     "metadata": {},
     "output_type": "execute_result"
    }
   ],
   "source": [
    "(import \"ast\")"
   ]
  },
  {
   "cell_type": "markdown",
   "metadata": {},
   "source": [
    "To use the built-in Python tools for interpreting an expression, we must build the AST in a precise manner. So, we take the idea of \"1 + 2\" and we express this as:"
   ]
  },
  {
   "cell_type": "code",
   "execution_count": 3,
   "metadata": {
    "collapsed": true
   },
   "outputs": [],
   "source": [
    "(define expr \n",
    "  (ast.Expression\n",
    "    (ast.BinOp (ast.Num 1)\n",
    "               (ast.Add)\n",
    "               (ast.Num 2))))"
   ]
  },
  {
   "cell_type": "markdown",
   "metadata": {},
   "source": [
    "We build the AST precisely as needed by Python, so we can actually let Python compile and run the code. Coming up with the proper Python AST is non-trivial; we'll see the details in the next section. For now, just note that 1 + 2 is represented as a \"Binary Operation\" (BinOp) which is itself an Expression. The BinOp is really just a special version of our `apply-exp` in Scheme AST.\n",
    "\n",
    "To see a string representation of the AST we can use the `ast.dump` function:"
   ]
  },
  {
   "cell_type": "code",
   "execution_count": 4,
   "metadata": {
    "collapsed": false
   },
   "outputs": [
    {
     "data": {
      "text/plain": [
       "\"Expression(body=BinOp(left=Num(n=1), op=Add(), right=Num(n=2)))\""
      ]
     },
     "execution_count": 4,
     "metadata": {},
     "output_type": "execute_result"
    }
   ],
   "source": [
    "(ast.dump expr)"
   ]
  },
  {
   "cell_type": "markdown",
   "metadata": {},
   "source": [
    "Because our expr didn't actually come from source code (e.g., from a file or a string) we need to poke in dummy values for line numbers so that the compiler won't complain. There is a function called `ast.fix_missing_locations` for doing exactly that:"
   ]
  },
  {
   "cell_type": "code",
   "execution_count": 5,
   "metadata": {
    "collapsed": true
   },
   "outputs": [],
   "source": [
    "(set! expr (ast.fix_missing_locations expr))"
   ]
  },
  {
   "cell_type": "markdown",
   "metadata": {},
   "source": [
    "Then, in Python, the AST is compiled into *bytecode* using Python's `compile` function:"
   ]
  },
  {
   "cell_type": "code",
   "execution_count": 6,
   "metadata": {
    "collapsed": true
   },
   "outputs": [],
   "source": [
    "(define bytecode (compile expr \"<string>\" \"eval\"))"
   ]
  },
  {
   "cell_type": "markdown",
   "metadata": {},
   "source": [
    "Finally, Python can interpret the bytecode and give you the result:"
   ]
  },
  {
   "cell_type": "code",
   "execution_count": 7,
   "metadata": {
    "collapsed": false
   },
   "outputs": [
    {
     "data": {
      "text/plain": [
       "3"
      ]
     },
     "execution_count": 7,
     "metadata": {},
     "output_type": "execute_result"
    }
   ],
   "source": [
    "(python-eval bytecode)"
   ]
  },
  {
   "cell_type": "markdown",
   "metadata": {},
   "source": [
    "## Bytecode\n",
    "\n",
    "What is bytecode, and how does it compare to abstract syntax?\n",
    "\n",
    "Let's take a look at our expression `1 + 2` in bytecode. To see the actual bytecode, we examine the co_code property of the Python bytecode object:"
   ]
  },
  {
   "cell_type": "code",
   "execution_count": 15,
   "metadata": {
    "collapsed": false
   },
   "outputs": [
    {
     "data": {
      "text/plain": [
       "b'd\\x02\\x00S'"
      ]
     },
     "execution_count": 15,
     "metadata": {},
     "output_type": "execute_result"
    }
   ],
   "source": [
    "bytecode.co_code"
   ]
  },
  {
   "cell_type": "markdown",
   "metadata": {},
   "source": [
    "Well then! Not surprisingly the bytecode is composed of bytes. How long is the entire program:"
   ]
  },
  {
   "cell_type": "code",
   "execution_count": 16,
   "metadata": {
    "collapsed": false
   },
   "outputs": [
    {
     "data": {
      "text/plain": [
       "4"
      ]
     },
     "execution_count": 16,
     "metadata": {},
     "output_type": "execute_result"
    }
   ],
   "source": [
    "(len bytecode.co_code)"
   ]
  },
  {
   "cell_type": "markdown",
   "metadata": {},
   "source": [
    "Four bytes long. Exactly, what is the value of each of those 4 bytes:"
   ]
  },
  {
   "cell_type": "code",
   "execution_count": 48,
   "metadata": {
    "collapsed": false
   },
   "outputs": [
    {
     "data": {
      "text/plain": [
       "(100 2 0 83)"
      ]
     },
     "execution_count": 48,
     "metadata": {},
     "output_type": "execute_result"
    }
   ],
   "source": [
    "(map (lambda (i) (getitem bytecode.co_code i)) (range (len bytecode.co_code)))"
   ]
  },
  {
   "cell_type": "markdown",
   "metadata": {},
   "source": [
    "We can use the Python library `dis` to *disassemble* the bytecode. Disassemble means that we take the bytes in the bytecode and turn them into a human-readable format."
   ]
  },
  {
   "cell_type": "code",
   "execution_count": 17,
   "metadata": {
    "collapsed": false
   },
   "outputs": [
    {
     "data": {
      "text/plain": [
       "(dis)"
      ]
     },
     "execution_count": 17,
     "metadata": {},
     "output_type": "execute_result"
    }
   ],
   "source": [
    "(import \"dis\")"
   ]
  },
  {
   "cell_type": "code",
   "execution_count": 18,
   "metadata": {
    "collapsed": false
   },
   "outputs": [
    {
     "name": "stdout",
     "output_type": "stream",
     "text": [
      "  1           0 LOAD_CONST               2 (3)\n",
      "              3 RETURN_VALUE\n"
     ]
    }
   ],
   "source": [
    "(dis.disassemble bytecode)"
   ]
  },
  {
   "cell_type": "markdown",
   "metadata": {},
   "source": [
    "That's it: two lines. How do you read this? The number in the first column shows the line number in our Python source code (i.e., the concrete syntax). We didn't actually have source code in this example as we started with AST. But the `ast.fix_missing_locations` function stuck in a \"1\" for us.\n",
    "\n",
    "The second column is an index into the bytecode, and the third column is that instruction in human-readable form. Let's look up those two indexes in the bytecode:"
   ]
  },
  {
   "cell_type": "code",
   "execution_count": 19,
   "metadata": {
    "collapsed": false
   },
   "outputs": [
    {
     "data": {
      "text/plain": [
       "100"
      ]
     },
     "execution_count": 19,
     "metadata": {},
     "output_type": "execute_result"
    }
   ],
   "source": [
    "(getitem bytecode.co_code 0)"
   ]
  },
  {
   "cell_type": "code",
   "execution_count": 20,
   "metadata": {
    "collapsed": false
   },
   "outputs": [
    {
     "data": {
      "text/plain": [
       "83"
      ]
     },
     "execution_count": 20,
     "metadata": {},
     "output_type": "execute_result"
    }
   ],
   "source": [
    "(getitem bytecode.co_code 3)"
   ]
  },
  {
   "cell_type": "markdown",
   "metadata": {},
   "source": [
    "Therefore, `LOAD_CONST` is represented by 100, and `RETURN_VALUE` is represented by 83. If you have taken an assembly language course, this type of output might look familar. It turns out that bytecode is an assembly language. Usually, assembly languages are designed for a particular computer, a particular CPU in hardware. This assembly language is designed for a Virtual Machine. A Virtual Machine (or VM) doesn't actually exist as hardware, but is interpreted by another program. Java works this way too, although it has its own VM called the Java Virtual Machine, or JVM."
   ]
  },
  {
   "cell_type": "markdown",
   "metadata": {},
   "source": [
    "The fourth column of the disassembled bytecode (when present) is the argument to that instruction. The fifth column (when present) is a hint about what the argument means. In this example, it means that the argument is the literal number 3.\n",
    "\n",
    "Wait a minute... what happened to \"1 + 2\"? Well, during the compile step, Python can do some optimizations. It recognized that we were adding two constants (1 and 2) and realized that it could do that at compile time rather than waiting until the code was interpreted.\n",
    "\n",
    "You can try compiling and running other Python AST expressions. However, putting together Python AST is not as easy as our Scheme AST. However, in the next section will start with Python concrete syntax, and parse it automatically to Python AST."
   ]
  },
  {
   "cell_type": "markdown",
   "metadata": {},
   "source": [
    "# Building a Python Interpreter"
   ]
  },
  {
   "cell_type": "markdown",
   "metadata": {},
   "source": [
    "## Parsing Python\n",
    "\n",
    "Python is a much more complex language in terms of **concrete syntax**. It is not just simple lists, like Scheme. It has brackets, newlines, colons, semicolons, dots, commas, and much more. Luckily for us, Python comes with a library to parse itself. To parse Python we usin the `ast` module again:"
   ]
  },
  {
   "cell_type": "code",
   "execution_count": 21,
   "metadata": {
    "collapsed": false
   },
   "outputs": [
    {
     "data": {
      "text/plain": [
       "(ast)"
      ]
     },
     "execution_count": 21,
     "metadata": {},
     "output_type": "execute_result"
    }
   ],
   "source": [
    "(import \"ast\")"
   ]
  },
  {
   "cell_type": "markdown",
   "metadata": {},
   "source": [
    "`ast` has a function called `parse` for taking valid Python expressions and statements and turning them into AST."
   ]
  },
  {
   "cell_type": "code",
   "execution_count": 22,
   "metadata": {
    "collapsed": false
   },
   "outputs": [],
   "source": [
    "(define pyexpr (ast.parse \"1 + 2\"))"
   ]
  },
  {
   "cell_type": "markdown",
   "metadata": {},
   "source": [
    "Again, we can use the `ast.dump` to see the AST in a more human-readable format:"
   ]
  },
  {
   "cell_type": "code",
   "execution_count": 23,
   "metadata": {
    "collapsed": false
   },
   "outputs": [
    {
     "data": {
      "text/plain": [
       "\"Module(body=[Expr(value=BinOp(left=Num(n=1), op=Add(), right=Num(n=2)))])\""
      ]
     },
     "execution_count": 23,
     "metadata": {},
     "output_type": "execute_result"
    }
   ],
   "source": [
    "(ast.dump pyexpr)"
   ]
  },
  {
   "cell_type": "markdown",
   "metadata": {},
   "source": [
    "Notice that Python added a couple of items:\n",
    "\n",
    "* Module\n",
    "* Expr\n",
    "\n",
    "Also note, again, that `+` is parsed as a BinOp. Now we can automatically generate AST from Python concrete syntax."
   ]
  },
  {
   "cell_type": "markdown",
   "metadata": {},
   "source": [
    "## What to Interpret?\n",
    "\n",
    "As noted above, Python generates an assembly language (called bytecodes) for a virtual machine (VM). We could build a VM interpreter and interpret bytes. Let's explore that for just a momement.\n",
    "\n",
    "If you have taken assmbly language, you may have heard the term \"instructions\". Assembly languages are composed of instructions. In bytecode, these instructions are opcodes.\n",
    "\n",
    "How many opcodes/instructions does Python have? The Python `dis` module has a dictionary containing the instruction names mapped to instruction opcodes. "
   ]
  },
  {
   "cell_type": "code",
   "execution_count": 25,
   "metadata": {
    "collapsed": false
   },
   "outputs": [
    {
     "data": {
      "text/plain": [
       "114"
      ]
     },
     "execution_count": 25,
     "metadata": {},
     "output_type": "execute_result"
    }
   ],
   "source": [
    "(len dis.opmap)"
   ]
  },
  {
   "cell_type": "markdown",
   "metadata": {},
   "source": [
    "The Python VM has 114 opcodes. What are the 114 instructions?"
   ]
  },
  {
   "cell_type": "code",
   "execution_count": 51,
   "metadata": {
    "collapsed": false
   },
   "outputs": [
    {
     "data": {
      "text/plain": [
       "(\"BEFORE_ASYNC_WITH\" \"BINARY_ADD\" \"BINARY_AND\" \"BINARY_FLOOR_DIVIDE\" \"BINARY_LSHIFT\" \"BINARY_MATRIX_MULTIPLY\" \"BINARY_MODULO\" \"BINARY_MULTIPLY\" \"BINARY_OR\" \"BINARY_POWER\" \"BINARY_RSHIFT\" \"BINARY_SUBSCR\" \"BINARY_SUBTRACT\" \"BINARY_TRUE_DIVIDE\" \"BINARY_XOR\" \"BREAK_LOOP\" \"BUILD_LIST\" \"BUILD_LIST_UNPACK\" \"BUILD_MAP\" \"BUILD_MAP_UNPACK\" \"BUILD_MAP_UNPACK_WITH_CALL\" \"BUILD_SET\" \"BUILD_SET_UNPACK\" \"BUILD_SLICE\" \"BUILD_TUPLE\" \"BUILD_TUPLE_UNPACK\" \"CALL_FUNCTION\" \"CALL_FUNCTION_KW\" \"CALL_FUNCTION_VAR\" \"CALL_FUNCTION_VAR_KW\" \"COMPARE_OP\" \"CONTINUE_LOOP\" \"DELETE_ATTR\" \"DELETE_DEREF\" \"DELETE_FAST\" \"DELETE_GLOBAL\" \"DELETE_NAME\" \"DELETE_SUBSCR\" \"DUP_TOP\" \"DUP_TOP_TWO\" \"END_FINALLY\" \"EXTENDED_ARG\" \"FOR_ITER\" \"GET_AITER\" \"GET_ANEXT\" \"GET_AWAITABLE\" \"GET_ITER\" \"GET_YIELD_FROM_ITER\" \"IMPORT_FROM\" \"IMPORT_NAME\" \"IMPORT_STAR\" \"INPLACE_ADD\" \"INPLACE_AND\" \"INPLACE_FLOOR_DIVIDE\" \"INPLACE_LSHIFT\" \"INPLACE_MATRIX_MULTIPLY\" \"INPLACE_MODULO\" \"INPLACE_MULTIPLY\" \"INPLACE_OR\" \"INPLACE_POWER\" \"INPLACE_RSHIFT\" \"INPLACE_SUBTRACT\" \"INPLACE_TRUE_DIVIDE\" \"INPLACE_XOR\" \"JUMP_ABSOLUTE\" \"JUMP_FORWARD\" \"JUMP_IF_FALSE_OR_POP\" \"JUMP_IF_TRUE_OR_POP\" \"LIST_APPEND\" \"LOAD_ATTR\" \"LOAD_BUILD_CLASS\" \"LOAD_CLASSDEREF\" \"LOAD_CLOSURE\" \"LOAD_CONST\" \"LOAD_DEREF\" \"LOAD_FAST\" \"LOAD_GLOBAL\" \"LOAD_NAME\" \"MAKE_CLOSURE\" \"MAKE_FUNCTION\" \"MAP_ADD\" \"NOP\" \"POP_BLOCK\" \"POP_EXCEPT\" \"POP_JUMP_IF_FALSE\" \"POP_JUMP_IF_TRUE\" \"POP_TOP\" \"PRINT_EXPR\" \"RAISE_VARARGS\" \"RETURN_VALUE\" \"ROT_THREE\" \"ROT_TWO\" \"SETUP_ASYNC_WITH\" \"SETUP_EXCEPT\" \"SETUP_FINALLY\" \"SETUP_LOOP\" \"SETUP_WITH\" \"SET_ADD\" \"STORE_ATTR\" \"STORE_DEREF\" \"STORE_FAST\" \"STORE_GLOBAL\" \"STORE_NAME\" \"STORE_SUBSCR\" \"UNARY_INVERT\" \"UNARY_NEGATIVE\" \"UNARY_NOT\" \"UNARY_POSITIVE\" \"UNPACK_EX\" \"UNPACK_SEQUENCE\" \"WITH_CLEANUP_FINISH\" \"WITH_CLEANUP_START\" \"YIELD_FROM\" \"YIELD_VALUE\")"
      ]
     },
     "execution_count": 51,
     "metadata": {},
     "output_type": "execute_result"
    }
   ],
   "source": [
    "(sort < (map (lambda (i) i) (dis.opmap.keys)))"
   ]
  },
  {
   "cell_type": "markdown",
   "metadata": {},
   "source": [
    "We saw above that 0 means LOAD_CONST and 83 means RETURN_VALUE. Let's check that in the opmap:"
   ]
  },
  {
   "cell_type": "code",
   "execution_count": 26,
   "metadata": {
    "collapsed": false
   },
   "outputs": [
    {
     "data": {
      "text/plain": [
       "100"
      ]
     },
     "execution_count": 26,
     "metadata": {},
     "output_type": "execute_result"
    }
   ],
   "source": [
    "(getitem dis.opmap \"LOAD_CONST\")"
   ]
  },
  {
   "cell_type": "code",
   "execution_count": 27,
   "metadata": {
    "collapsed": false
   },
   "outputs": [
    {
     "data": {
      "text/plain": [
       "83"
      ]
     },
     "execution_count": 27,
     "metadata": {},
     "output_type": "execute_result"
    }
   ],
   "source": [
    "(getitem dis.opmap \"RETURN_VALUE\")"
   ]
  },
  {
   "cell_type": "markdown",
   "metadata": {},
   "source": [
    "We can list out all of the instructions and opcodes with this:"
   ]
  },
  {
   "cell_type": "code",
   "execution_count": 61,
   "metadata": {
    "collapsed": false
   },
   "outputs": [
    {
     "name": "stdout",
     "output_type": "stream",
     "text": [
      "BEFORE_ASYNC_WITH 52\n",
      "BINARY_ADD 23\n",
      "BINARY_AND 64\n",
      "BINARY_FLOOR_DIVIDE 26\n",
      "BINARY_LSHIFT 62\n",
      "BINARY_MATRIX_MULTIPLY 16\n",
      "BINARY_MODULO 22\n",
      "BINARY_MULTIPLY 20\n",
      "BINARY_OR 66\n",
      "BINARY_POWER 19\n",
      "BINARY_RSHIFT 63\n",
      "BINARY_SUBSCR 25\n",
      "BINARY_SUBTRACT 24\n",
      "BINARY_TRUE_DIVIDE 27\n",
      "BINARY_XOR 65\n",
      "BREAK_LOOP 80\n",
      "BUILD_LIST 103\n",
      "BUILD_LIST_UNPACK 149\n",
      "BUILD_MAP 105\n",
      "BUILD_MAP_UNPACK 150\n",
      "BUILD_MAP_UNPACK_WITH_CALL 151\n",
      "BUILD_SET 104\n",
      "BUILD_SET_UNPACK 153\n",
      "BUILD_SLICE 133\n",
      "BUILD_TUPLE 102\n",
      "BUILD_TUPLE_UNPACK 152\n",
      "CALL_FUNCTION 131\n",
      "CALL_FUNCTION_KW 141\n",
      "CALL_FUNCTION_VAR 140\n",
      "CALL_FUNCTION_VAR_KW 142\n",
      "COMPARE_OP 107\n",
      "CONTINUE_LOOP 119\n",
      "DELETE_ATTR 96\n",
      "DELETE_DEREF 138\n",
      "DELETE_FAST 126\n",
      "DELETE_GLOBAL 98\n",
      "DELETE_NAME 91\n",
      "DELETE_SUBSCR 61\n",
      "DUP_TOP 4\n",
      "DUP_TOP_TWO 5\n",
      "END_FINALLY 88\n",
      "EXTENDED_ARG 144\n",
      "FOR_ITER 93\n",
      "GET_AITER 50\n",
      "GET_ANEXT 51\n",
      "GET_AWAITABLE 73\n",
      "GET_ITER 68\n",
      "GET_YIELD_FROM_ITER 69\n",
      "IMPORT_FROM 109\n",
      "IMPORT_NAME 108\n",
      "IMPORT_STAR 84\n",
      "INPLACE_ADD 55\n",
      "INPLACE_AND 77\n",
      "INPLACE_FLOOR_DIVIDE 28\n",
      "INPLACE_LSHIFT 75\n",
      "INPLACE_MATRIX_MULTIPLY 17\n",
      "INPLACE_MODULO 59\n",
      "INPLACE_MULTIPLY 57\n",
      "INPLACE_OR 79\n",
      "INPLACE_POWER 67\n",
      "INPLACE_RSHIFT 76\n",
      "INPLACE_SUBTRACT 56\n",
      "INPLACE_TRUE_DIVIDE 29\n",
      "INPLACE_XOR 78\n",
      "JUMP_ABSOLUTE 113\n",
      "JUMP_FORWARD 110\n",
      "JUMP_IF_FALSE_OR_POP 111\n",
      "JUMP_IF_TRUE_OR_POP 112\n",
      "LIST_APPEND 145\n",
      "LOAD_ATTR 106\n",
      "LOAD_BUILD_CLASS 71\n",
      "LOAD_CLASSDEREF 148\n",
      "LOAD_CLOSURE 135\n",
      "LOAD_CONST 100\n",
      "LOAD_DEREF 136\n",
      "LOAD_FAST 124\n",
      "LOAD_GLOBAL 116\n",
      "LOAD_NAME 101\n",
      "MAKE_CLOSURE 134\n",
      "MAKE_FUNCTION 132\n",
      "MAP_ADD 147\n",
      "NOP 9\n",
      "POP_BLOCK 87\n",
      "POP_EXCEPT 89\n",
      "POP_JUMP_IF_FALSE 114\n",
      "POP_JUMP_IF_TRUE 115\n",
      "POP_TOP 1\n",
      "PRINT_EXPR 70\n",
      "RAISE_VARARGS 130\n",
      "RETURN_VALUE 83\n",
      "ROT_THREE 3\n",
      "ROT_TWO 2\n",
      "SETUP_ASYNC_WITH 154\n",
      "SETUP_EXCEPT 121\n",
      "SETUP_FINALLY 122\n",
      "SETUP_LOOP 120\n",
      "SETUP_WITH 143\n",
      "SET_ADD 146\n",
      "STORE_ATTR 95\n",
      "STORE_DEREF 137\n",
      "STORE_FAST 125\n",
      "STORE_GLOBAL 97\n",
      "STORE_NAME 90\n",
      "STORE_SUBSCR 60\n",
      "UNARY_INVERT 15\n",
      "UNARY_NEGATIVE 11\n",
      "UNARY_NOT 12\n",
      "UNARY_POSITIVE 10\n",
      "UNPACK_EX 94\n",
      "UNPACK_SEQUENCE 92\n",
      "WITH_CLEANUP_FINISH 82\n",
      "WITH_CLEANUP_START 81\n",
      "YIELD_FROM 72\n",
      "YIELD_VALUE 86\n"
     ]
    }
   ],
   "source": [
    "(for-each (lambda (name) (printf \"~a ~a~%\" name (getitem dis.opmap name)))\n",
    "          (sort < (map (lambda (i) i) (dis.opmap.keys))))"
   ]
  },
  {
   "cell_type": "code",
   "execution_count": null,
   "metadata": {
    "collapsed": true
   },
   "outputs": [],
   "source": [
    "You can also go the other-way round: given a instruction name, you can get the opcode using dis.opname:"
   ]
  },
  {
   "cell_type": "code",
   "execution_count": 28,
   "metadata": {
    "collapsed": false
   },
   "outputs": [
    {
     "data": {
      "text/plain": [
       "\"RETURN_VALUE\""
      ]
     },
     "execution_count": 28,
     "metadata": {},
     "output_type": "execute_result"
    }
   ],
   "source": [
    "(getitem dis.opname 83)"
   ]
  },
  {
   "cell_type": "code",
   "execution_count": 46,
   "metadata": {
    "collapsed": false
   },
   "outputs": [
    {
     "data": {
      "text/plain": [
       "\"LOAD_CONST\""
      ]
     },
     "execution_count": 46,
     "metadata": {},
     "output_type": "execute_result"
    }
   ],
   "source": [
    "(getitem dis.opname 100)"
   ]
  },
  {
   "cell_type": "code",
   "execution_count": 116,
   "metadata": {
    "collapsed": false
   },
   "outputs": [
    {
     "data": {
      "text/plain": [
       "(100 2 0 83)"
      ]
     },
     "execution_count": 116,
     "metadata": {},
     "output_type": "execute_result"
    }
   ],
   "source": [
    "(map (lambda (i) \n",
    "       (getitem bytecode.co_code i)) \n",
    "     (range (len bytecode.co_code)))"
   ]
  },
  {
   "cell_type": "code",
   "execution_count": 114,
   "metadata": {
    "collapsed": true
   },
   "outputs": [],
   "source": [
    "(define virtual-machine\n",
    "  (lambda (bytecode)\n",
    "    (let ((instructions bytecode.co_code)\n",
    "          (constants bytecode.co_consts)\n",
    "          (stack '())\n",
    "          (retval (void)))\n",
    "      (let loop ((i 0))\n",
    "        (if (< i (len bytecode.co_code))\n",
    "            (let ((byte (getitem bytecode.co_code i)))\n",
    "              (cond\n",
    "                ((= byte 100) \n",
    "                 (begin \n",
    "                   (printf \"LOAD_CONST ~a ~%\" i)\n",
    "                   (set! stack (cons (getitem constants (getitem bytecode.co_code (+ i 1)))\n",
    "                                     stack))\n",
    "                   (loop (+ i 2))\n",
    "                  ))\n",
    "                ((= byte 83) \n",
    "                 (begin \n",
    "                   (set! retval (car stack))\n",
    "                   (set! stack (cdr stack))\n",
    "                   (printf \"RETURN_VALUE ~a ~%\" i)\n",
    "                   (loop (+ i 1))\n",
    "                  ))\n",
    "                ((= byte 0) \n",
    "                 (begin \n",
    "                   (printf \"NOP ~a ~%\" i)\n",
    "                   (loop (+ i 1))\n",
    "                 ))\n",
    "                (else (error \"virtual-machine\" \"out of commands: ~a\" i))))\n",
    "            retval)))))"
   ]
  },
  {
   "cell_type": "code",
   "execution_count": 115,
   "metadata": {
    "collapsed": false
   },
   "outputs": [
    {
     "name": "stdout",
     "output_type": "stream",
     "text": [
      "LOAD_CONST 0 \n",
      "NOP 2 \n",
      "RETURN_VALUE 3 \n"
     ]
    },
    {
     "data": {
      "text/plain": [
       "3"
      ]
     },
     "execution_count": 115,
     "metadata": {},
     "output_type": "execute_result"
    }
   ],
   "source": [
    "(virtual-machine bytecode)"
   ]
  },
  {
   "cell_type": "markdown",
   "metadata": {},
   "source": [
    "We could continue to fill-out the Python virtual machine. However, we are also interested in possibly changing the semantics of how Python works. Rather, let's explore writing an interpreter at the abstract syntax level.\n",
    "\n",
    "**Summary**:\n",
    "\n",
    "* we wrote Python AST by hand, and had Python compile and run it\n",
    "* we used Python ast.parse, and compiled it to bytecode\n",
    "* we wrote the beginning of a Python VM in Scheme to interpret/run the bytecode"
   ]
  },
  {
   "cell_type": "markdown",
   "metadata": {},
   "source": [
    "## Interpreting Python AST\n",
    "\n",
    "To keep things simple for now, let's keep on using Python's built-in ast parser that goes from concrete syntax to AST.\n",
    "\n",
    "As in the previous chapter, we will define an evaluator (and perhaps help functions) to implement our Python Calculator language, P-Calc."
   ]
  },
  {
   "cell_type": "code",
   "execution_count": 117,
   "metadata": {
    "collapsed": false
   },
   "outputs": [
    {
     "data": {
      "text/plain": [
       "(ast)"
      ]
     },
     "execution_count": 117,
     "metadata": {},
     "output_type": "execute_result"
    }
   ],
   "source": [
    "(import \"ast\")"
   ]
  },
  {
   "cell_type": "code",
   "execution_count": 123,
   "metadata": {
    "collapsed": false
   },
   "outputs": [],
   "source": [
    "(define expr (ast.parse \"1 + 2\"))"
   ]
  },
  {
   "cell_type": "code",
   "execution_count": 124,
   "metadata": {
    "collapsed": false
   },
   "outputs": [
    {
     "data": {
      "text/plain": [
       "\"Module(body=[Expr(value=BinOp(left=Num(n=1), op=Add(), right=Num(n=2)))])\""
      ]
     },
     "execution_count": 124,
     "metadata": {},
     "output_type": "execute_result"
    }
   ],
   "source": [
    "(ast.dump expr)"
   ]
  },
  {
   "cell_type": "markdown",
   "metadata": {},
   "source": [
    "In order to interpret this AST, we have to handle the following items:\n",
    "\n",
    "* Module\n",
    "* Expr\n",
    "* BinOp\n",
    "* Add\n",
    "* Num\n",
    "\n",
    "Note that Module has a body that is a list of Expr. That means that it acts like a Scheme begin expression. We will handle the Add inside the code evaluating the BinOp."
   ]
  },
  {
   "cell_type": "code",
   "execution_count": 125,
   "metadata": {
    "collapsed": true
   },
   "outputs": [],
   "source": [
    "(define evaluator\n",
    "  (lambda (expr)\n",
    "    (cond\n",
    "     ((isinstance expr ast.Module)\n",
    "      (evaluator-begin (vector->list expr.body)))\n",
    "     ((isinstance expr ast.Expr)\n",
    "      (evaluator expr.value))\n",
    "     ((isinstance expr ast.BinOp)\n",
    "      (evaluator-binop expr.op \n",
    "                   (evaluator expr.left)\n",
    "                   (evaluator expr.right)))\n",
    "     ((isinstance expr ast.Num)\n",
    "      expr.n)\n",
    "     (else (error \"evaluator\" \"invalid ast: ~s\" expr)))))"
   ]
  },
  {
   "cell_type": "code",
   "execution_count": 126,
   "metadata": {
    "collapsed": false
   },
   "outputs": [],
   "source": [
    "(define evaluator-begin\n",
    "  (lambda (exprs)\n",
    "    (cond\n",
    "     ((null? exprs)\n",
    "      (void))\n",
    "     ((= 1 (length exprs))\n",
    "      (evaluator (car exprs)))\n",
    "     (else (begin\n",
    "            (evaluator (car exprs))\n",
    "            (evaluator-begin (cdr exprs)))))))\n",
    "\n",
    "(define evaluator-binop\n",
    "  (lambda (op left right)\n",
    "    (cond\n",
    "     ((isinstance op ast.Add)\n",
    "      (+ left right))\n",
    "     (else (error \"apply-binop\" \"unknown operator: ~s\" op)))))"
   ]
  },
  {
   "cell_type": "code",
   "execution_count": 127,
   "metadata": {
    "collapsed": false
   },
   "outputs": [
    {
     "data": {
      "text/plain": [
       "3"
      ]
     },
     "execution_count": 127,
     "metadata": {},
     "output_type": "execute_result"
    }
   ],
   "source": [
    "(evaluator expr)"
   ]
  },
  {
   "cell_type": "code",
   "execution_count": 138,
   "metadata": {
    "collapsed": true
   },
   "outputs": [],
   "source": [
    "(define pcalc\n",
    "  (lambda (string)\n",
    "    (let ((pyast (ast.parse string)))\n",
    "      (evaluator pyast))))"
   ]
  },
  {
   "cell_type": "markdown",
   "metadata": {},
   "source": [
    "Try it out!"
   ]
  },
  {
   "cell_type": "markdown",
   "metadata": {},
   "source": [
    "## Python vs. P-Calc\n",
    "\n",
    "Even at this simple state of our interpreter, there are some differences in how Python handles and how we handle expressions. Consider the following:"
   ]
  },
  {
   "cell_type": "code",
   "execution_count": 139,
   "metadata": {
    "collapsed": true
   },
   "outputs": [],
   "source": [
    "(define pyexpr (ast.parse \"1; 2; 3; 4\"))"
   ]
  },
  {
   "cell_type": "code",
   "execution_count": 140,
   "metadata": {
    "collapsed": false
   },
   "outputs": [
    {
     "data": {
      "text/plain": [
       "4"
      ]
     },
     "execution_count": 140,
     "metadata": {},
     "output_type": "execute_result"
    }
   ],
   "source": [
    "(evaluator pyexpr)"
   ]
  },
  {
   "cell_type": "code",
   "execution_count": 141,
   "metadata": {
    "collapsed": false
   },
   "outputs": [],
   "source": [
    "(define bytecode (compile pyexpr \"<string>\" \"exec\"))"
   ]
  },
  {
   "cell_type": "code",
   "execution_count": 142,
   "metadata": {
    "collapsed": false
   },
   "outputs": [],
   "source": [
    "(python-eval bytecode)"
   ]
  },
  {
   "cell_type": "markdown",
   "metadata": {},
   "source": [
    "It didn't return anything whereas our evaluator returned 4."
   ]
  },
  {
   "cell_type": "markdown",
   "metadata": {},
   "source": [
    "**Exercise:** How did the Python interpreter differ from our interpretation of the same expression? Why do you thing this is?"
   ]
  },
  {
   "cell_type": "code",
   "execution_count": 143,
   "metadata": {
    "collapsed": false
   },
   "outputs": [
    {
     "name": "stderr",
     "output_type": "stream",
     "text": [
      "\n",
      "Traceback (most recent call last):\n",
      "  File \"In [143]\", line 1, col 1, in 'pcalc'\n",
      "  File \"In [138]\", line 3, col 18, in 'ast.parse'\n",
      "UnhandledException: invalid syntax (<unknown>, line 1)\n",
      "\n"
     ]
    }
   ],
   "source": [
    "(pcalc \"1 x 5\")"
   ]
  },
  {
   "cell_type": "markdown",
   "metadata": {},
   "source": [
    "That is, we can only use the symbols that Python has predeterimed as valid BinOps. If we want to define our own BinOp (not one of +, -, *, /, etc.) Then we must parse it as an application:"
   ]
  },
  {
   "cell_type": "code",
   "execution_count": 144,
   "metadata": {
    "collapsed": false
   },
   "outputs": [
    {
     "name": "stderr",
     "output_type": "stream",
     "text": [
      "\n",
      "Traceback (most recent call last):\n",
      "  File \"In [144]\", line 1, col 1, in 'pcalc'\n",
      "  File \"In [138]\", line 3, col 5, in 'let'\n",
      "  File \"In [138]\", line 4, col 7, in 'evaluator'\n",
      "  File \"In [125]\", line 5, col 7, in 'evaluator-begin'\n",
      "  File \"In [126]\", line 7, col 7, in 'evaluator'\n",
      "  File \"In [125]\", line 7, col 7, in 'evaluator'\n",
      "  File \"In [125]\", line 14, col 12, in 'error'\n",
      "  File \"In [125]\", line 14, col 12\n",
      "RunTimeError: Error in 'evaluator': invalid ast: <_ast.Call object at 0x7f59ad711a90>\n",
      "\n"
     ]
    }
   ],
   "source": [
    "(pcalc \"x(1, 5)\")"
   ]
  },
  {
   "cell_type": "markdown",
   "metadata": {},
   "source": [
    "Of course, we must handle the ast.Call in evaluator. "
   ]
  },
  {
   "cell_type": "code",
   "execution_count": null,
   "metadata": {
    "collapsed": true
   },
   "outputs": [],
   "source": [
    ";; adding Call\n",
    "\n",
    "(define evaluator\n",
    "  (lambda (expr)\n",
    "    (cond\n",
    "     ((isinstance expr ast.Module)\n",
    "      (evaluator-begin (vector->list expr.body)))\n",
    "     ((isinstance expr ast.Expr)\n",
    "      (evaluator expr.value))\n",
    "     ((isinstance expr ast.BinOp)\n",
    "      (evaluator-binop expr.op \n",
    "                   (evaluator expr.left)\n",
    "                   (evaluator expr.right)))\n",
    "     ((isinstance expr ast.Num)\n",
    "      expr.n)\n",
    "     ((isinstance expr ast.Call)\n",
    "      (evaluator-apply expr.func.id (map evaluator (vector->list expr.args))))\n",
    "     (else (error \"evaluator\" \"invalid ast: ~s\" expr)))))\n",
    "\n",
    "(define evaluator-apply\n",
    "  (lambda (op operands)\n",
    "    (cond\n",
    "     ((string=? op \"print\")\n",
    "      (apply print operands))\n",
    "     (else (error \"evaluator-appy\" \"unknown apply operator: ~s\" op)))))\n"
   ]
  },
  {
   "cell_type": "markdown",
   "metadata": {},
   "source": [
    "# References\n",
    "\n",
    "1. http://aosabook.org/en/500L/a-python-interpreter-written-in-python.html"
   ]
  }
 ],
 "metadata": {
  "kernelspec": {
   "display_name": "Calysto Scheme 3",
   "language": "scheme",
   "name": "calysto_scheme"
  },
  "language_info": {
   "codemirror_mode": {
    "name": "scheme"
   },
   "mimetype": "text/x-scheme",
   "name": "scheme",
   "pygments_lexer": "scheme"
  }
 },
 "nbformat": 4,
 "nbformat_minor": 0
}
