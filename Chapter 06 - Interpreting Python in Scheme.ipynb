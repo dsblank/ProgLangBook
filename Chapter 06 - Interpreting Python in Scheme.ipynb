{
 "cells": [
  {
   "cell_type": "markdown",
   "metadata": {},
   "source": [
    "\n",
    "\n",
    "First, let's take a look at manually constructing an AST representing \"(+ 1 2)\". To do this in Python (using Python's internals) we import the `ast` module:"
   ]
  },
  {
   "cell_type": "code",
   "execution_count": 2,
   "metadata": {
    "collapsed": false
   },
   "outputs": [
    {
     "data": {
      "text/plain": [
       "(ast)"
      ]
     },
     "execution_count": 2,
     "metadata": {},
     "output_type": "execute_result"
    }
   ],
   "source": [
    "(import \"ast\")"
   ]
  },
  {
   "cell_type": "markdown",
   "metadata": {},
   "source": [
    "To use the built-in Python tools for interpreting an expression, we must build the AST in a precise manner. So, we take the idea of \"(+ 1 2)\" and we express this as:"
   ]
  },
  {
   "cell_type": "code",
   "execution_count": 3,
   "metadata": {
    "collapsed": true
   },
   "outputs": [],
   "source": [
    "(define expr \n",
    "  (ast.Expression\n",
    "    (ast.BinOp (ast.Num 1)\n",
    "               (ast.Add)\n",
    "               (ast.Num 2))))"
   ]
  },
  {
   "cell_type": "markdown",
   "metadata": {},
   "source": [
    "Because our expr didn't actually come from source code (e.g., from a file or a string) we need to poke in dummy values for line numbers so that the compiler won't complain:"
   ]
  },
  {
   "cell_type": "code",
   "execution_count": 4,
   "metadata": {
    "collapsed": true
   },
   "outputs": [],
   "source": [
    "(set! expr (ast.fix_missing_locations expr))"
   ]
  },
  {
   "cell_type": "markdown",
   "metadata": {},
   "source": [
    "In Python, the AST is compiled into *bytecode*:"
   ]
  },
  {
   "cell_type": "code",
   "execution_count": 5,
   "metadata": {
    "collapsed": true
   },
   "outputs": [],
   "source": [
    "(define bytecode (compile expr \"<string>\" \"eval\"))"
   ]
  },
  {
   "cell_type": "markdown",
   "metadata": {},
   "source": [
    "Finally, Python can interpret the bytecode and give you the result:"
   ]
  },
  {
   "cell_type": "code",
   "execution_count": 6,
   "metadata": {
    "collapsed": false
   },
   "outputs": [
    {
     "data": {
      "text/plain": [
       "3"
      ]
     },
     "execution_count": 6,
     "metadata": {},
     "output_type": "execute_result"
    }
   ],
   "source": [
    "(python-eval bytecode)"
   ]
  },
  {
   "cell_type": "markdown",
   "metadata": {},
   "source": [
    "# "
   ]
  },
  {
   "cell_type": "code",
   "execution_count": 2,
   "metadata": {
    "collapsed": false
   },
   "outputs": [
    {
     "data": {
      "text/plain": [
       "(ast)"
      ]
     },
     "execution_count": 2,
     "metadata": {},
     "output_type": "execute_result"
    }
   ],
   "source": [
    "(import \"ast\")"
   ]
  },
  {
   "cell_type": "code",
   "execution_count": 3,
   "metadata": {
    "collapsed": false
   },
   "outputs": [],
   "source": [
    "(define pyexpr (ast.parse \"print(1); print(2); print(3); 4; 5; 6\"))"
   ]
  },
  {
   "cell_type": "code",
   "execution_count": 4,
   "metadata": {
    "collapsed": false
   },
   "outputs": [
    {
     "data": {
      "text/plain": [
       "\"Module(body=[Expr(value=Call(func=Name(id='print', ctx=Load()), args=[Num(n=1)], keywords=[], starargs=None, kwargs=None)), Expr(value=Call(func=Name(id='print', ctx=Load()), args=[Num(n=2)], keywords=[], starargs=None, kwargs=None)), Expr(value=Call(func=Name(id='print', ctx=Load()), args=[Num(n=3)], keywords=[], starargs=None, kwargs=None)), Expr(value=Num(n=4)), Expr(value=Num(n=5)), Expr(value=Num(n=6))])\""
      ]
     },
     "execution_count": 4,
     "metadata": {},
     "output_type": "execute_result"
    }
   ],
   "source": [
    "(ast.dump pyexpr)"
   ]
  },
  {
   "cell_type": "code",
   "execution_count": 5,
   "metadata": {
    "collapsed": false
   },
   "outputs": [],
   "source": [
    "(define evaluator\n",
    "  (lambda (expr)\n",
    "    (cond\n",
    "     ((isinstance expr ast.Module)\n",
    "      (evaluator-begin (vector->list expr.body)))\n",
    "     ((isinstance expr ast.Expr)\n",
    "      (evaluator expr.value))\n",
    "     ((isinstance expr ast.BinOp)\n",
    "      (evaluator-binop expr.op \n",
    "                   (evaluator expr.left)\n",
    "                   (evaluator expr.right)))\n",
    "     ((isinstance expr ast.Num)\n",
    "      expr.n)\n",
    "     ((isinstance expr ast.Call)\n",
    "      (evaluator-apply expr.func.id (map evaluator (vector->list expr.args))))\n",
    "     (else (error \"evaluator\" \"invalid ast: ~s\" expr)))))\n",
    "\n",
    "(define evaluator-apply\n",
    "  (lambda (op operands)\n",
    "    (cond\n",
    "     ((string=? op \"print\")\n",
    "      (apply print operands))\n",
    "     (else (error \"evaluator-appy\" \"unknown apply operator: ~s\" op)))))\n",
    "\n",
    "(define evaluator-begin\n",
    "  (lambda (exprs)\n",
    "    (cond\n",
    "     ((null? exprs)\n",
    "      (void))\n",
    "     ((= 1 (length exprs))\n",
    "      (evaluator (car exprs)))\n",
    "     (else (begin\n",
    "            (evaluator (car exprs))\n",
    "            (evaluator-begin (cdr exprs)))))))\n",
    "\n",
    "(define evaluator-binop\n",
    "  (lambda (op left right)\n",
    "    (cond\n",
    "     ((isinstance op ast.Add)\n",
    "      (+ left right))\n",
    "     ((isinstance op ast.Mult)\n",
    "      (* left right))\n",
    "     (else (error \"apply-binop\" \"unknown operator: ~s\" op)))))"
   ]
  },
  {
   "cell_type": "code",
   "execution_count": 6,
   "metadata": {
    "collapsed": false
   },
   "outputs": [
    {
     "name": "stdout",
     "output_type": "stream",
     "text": [
      "1\n",
      "2\n",
      "3\n"
     ]
    },
    {
     "data": {
      "text/plain": [
       "6"
      ]
     },
     "execution_count": 6,
     "metadata": {},
     "output_type": "execute_result"
    }
   ],
   "source": [
    "(evaluator pyexpr)"
   ]
  },
  {
   "cell_type": "code",
   "execution_count": 8,
   "metadata": {
    "collapsed": false
   },
   "outputs": [],
   "source": [
    "(define codeobj (compile pyexpr \"<string>\" \"exec\"))"
   ]
  },
  {
   "cell_type": "code",
   "execution_count": 9,
   "metadata": {
    "collapsed": false
   },
   "outputs": [],
   "source": [
    "(define pyeval (getitem __builtins__ \"eval\"))"
   ]
  },
  {
   "cell_type": "code",
   "execution_count": 10,
   "metadata": {
    "collapsed": false
   },
   "outputs": [
    {
     "name": "stdout",
     "output_type": "stream",
     "text": [
      "1\n",
      "2\n",
      "3\n",
      "None\n"
     ]
    }
   ],
   "source": [
    "(print (pyeval codeobj))"
   ]
  },
  {
   "cell_type": "code",
   "execution_count": null,
   "metadata": {
    "collapsed": true
   },
   "outputs": [],
   "source": []
  }
 ],
 "metadata": {
  "kernelspec": {
   "display_name": "Calysto Scheme 3",
   "language": "scheme",
   "name": "calysto_scheme"
  },
  "language_info": {
   "codemirror_mode": {
    "name": "scheme"
   },
   "mimetype": "text/x-scheme",
   "name": "scheme",
   "pygments_lexer": "scheme"
  }
 },
 "nbformat": 4,
 "nbformat_minor": 0
}
