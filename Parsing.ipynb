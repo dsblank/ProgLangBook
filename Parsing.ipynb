{
 "cells": [
  {
   "cell_type": "markdown",
   "metadata": {},
   "source": [
    "# Parsing\n",
    "\n",
    "In this chapter, we will be looking at parsing Python-like languages in Scheme. Specifically, we will look at LL(1) parser.\n",
    "\n",
    "> An LL parser is a top-down parser for a subset of context-free languages. It parses the input from **L**eft to right, performing **L**eftmost derivation of the sentence.\n",
    "\n",
    "> An LL parser is called an LL(k) parser if it uses k tokens of lookahead when parsing a sentence. If such a parser exists for a certain grammar and it can parse sentences of this grammar without backtracking then it is called an LL(k) grammar. \n",
    "\n",
    "> LL grammars, particularly LL(1) grammars, are of great practical interest, as parsers for these grammars are easy to construct, and many computer languages are designed to be LL(1) for this reason. LL parsers are table-based parsers, similar to LR parsers. LL grammars can also be parsed by recursive descent parsers.\n",
    "\n",
    "> ---After https://en.wikipedia.org/wiki/LL_parser\n",
    "\n",
    "Could we define Python's syntax in LL(1)? Almost. See:\n",
    "\n",
    "* http://trevorjim.com/python-is-not-context-free/\n"
   ]
  },
  {
   "cell_type": "code",
   "execution_count": 25,
   "metadata": {
    "collapsed": false
   },
   "outputs": [
    {
     "name": "stdout",
     "output_type": "stream",
     "text": [
      "sllgen.ss 2000-09-25 11:48\n"
     ]
    }
   ],
   "source": [
    "(load \"sllgen.ss\")"
   ]
  },
  {
   "cell_type": "markdown",
   "metadata": {},
   "source": [
    "## Lexical Analysis\n",
    "\n",
    "The first step in creating a new language is to design a lexical analysis (lexer, scanner). A lexer defines the lowest grouping of characters. You can design a lexer by simply creating a list of CATEGORY rules. CATEGORY rules have the following format:\n",
    "\n",
    "> `(LEX-CATEGORY (EXPR ...) ACTION)`\n",
    "\n",
    "where LEX-CATEGORY is:\n",
    "\n",
    "> a name you which to tag \n",
    "\n",
    "and EXPR is one of:\n",
    "\n",
    "> `TEST | (or-exp EXPR ...) | (arbno EXPR) | (concat EXPR ...) | (separated-list ... DELIM)`\n",
    "\n",
    "and TEST is one of:\n",
    "\n",
    "> `\"string\" | letter | digit | whitespace | any | (not CHAR)`\n",
    "\n",
    "and ACTION is one of:\n",
    "\n",
    "> `make-symbol | make-number | skip`\n",
    "\n",
    "So, let's consider what is the lowest groupings of items in our language (e.g., our LEX-CATGORIES). We might want to group into:\n",
    "\n",
    "* whitespace - tabs and newlines, ignored\n",
    "* comments - from here to end of line, ignored\n",
    "* identifiers - names\n",
    "* numbers - integers, for now\n",
    "\n",
    "Here are the rules for such a lexer:"
   ]
  },
  {
   "cell_type": "code",
   "execution_count": 26,
   "metadata": {
    "collapsed": true
   },
   "outputs": [],
   "source": [
    "(define lex2\n",
    "   '((whitespace (whitespace) skip)\n",
    "     (comment (\"%\" (arbno (not #\\newline))) skip)\n",
    "     (identifier (letter (arbno (or-exp letter digit))) make-symbol)\n",
    "     (number (digit (arbno digit)) make-number)))"
   ]
  },
  {
   "cell_type": "markdown",
   "metadata": {},
   "source": [
    "The next step is to arrange the items from the lexer into higher-level items for our grammar. This takes a similar form:\n",
    "\n",
    "> (PARSE-CATEGORY (LEX-ITEMS) id-exp)\n",
    "\n",
    "where LEX-ITEMS is composed of\n",
    "\n",
    "* literals - literal strings, like commas, semicolons, etc.\n",
    "* LEX-CATEGORIES\n",
    "\n",
    "Let's define a grammar compposed of `expressions` and `declarations`. Let's define an expression as one of:\n",
    "\n",
    "* number\n",
    "* identifier\n",
    "* let DECLARATION in BODY\n",
    "* mvlet identifier = expression, ... in BODY\n",
    "* (function expression ...)\n",
    "\n",
    "declaration is:\n",
    "\n",
    "* identifier = expression"
   ]
  },
  {
   "cell_type": "code",
   "execution_count": 27,
   "metadata": {
    "collapsed": true
   },
   "outputs": [],
   "source": [
    "(define gram2\n",
    "  '((expression (number) lit-exp)\n",
    "    (expression (identifier) var-exp)\n",
    "    (expression\n",
    "      (\"let\" (arbno declaration) \"in\" expression)\n",
    "      let-exp)\n",
    "    (expression\n",
    "      (\"mvlet\"\n",
    "        (separated-list  (separated-list identifier \",\") \"=\" expression \";\") \n",
    "         \"in\" expression)\n",
    "      lets-exp)\n",
    "    (expression\n",
    "      (\"(\" expression (arbno expression) \")\")\n",
    "      app-exp)\n",
    "    (declaration (identifier \"=\" expression) decl)))"
   ]
  },
  {
   "cell_type": "code",
   "execution_count": 28,
   "metadata": {
    "collapsed": true
   },
   "outputs": [],
   "source": [
    "(sllgen:make-define-datatypes lex2 gram2)"
   ]
  },
  {
   "cell_type": "code",
   "execution_count": 29,
   "metadata": {
    "collapsed": false
   },
   "outputs": [
    {
     "data": {
      "text/plain": [
       "((define-datatype expression expression? (lit-exp (lit-exp12 number?)) (var-exp (var-exp13 symbol?)) (let-exp (let-exp14 (list-of declaration?)) (let-exp15 expression?)) (lets-exp (lets-exp16 (list-of (list-of symbol?))) (lets-exp17 (list-of expression?)) (lets-exp18 expression?)) (app-exp (app-exp19 expression?) (app-exp20 (list-of expression?)))) (define-datatype declaration declaration? (decl (decl21 symbol?) (decl22 expression?))))"
      ]
     },
     "execution_count": 29,
     "metadata": {},
     "output_type": "execute_result"
    }
   ],
   "source": [
    "(sllgen:list-define-datatypes lex2 gram2)"
   ]
  },
  {
   "cell_type": "code",
   "execution_count": 30,
   "metadata": {
    "collapsed": true
   },
   "outputs": [],
   "source": [
    "(define parse2 (sllgen:make-string-parser lex2 gram2))"
   ]
  },
  {
   "cell_type": "code",
   "execution_count": 32,
   "metadata": {
    "collapsed": false
   },
   "outputs": [
    {
     "data": {
      "text/plain": [
       "(lit-exp 1)"
      ]
     },
     "execution_count": 32,
     "metadata": {},
     "output_type": "execute_result"
    }
   ],
   "source": [
    "(parse2 \"1\")"
   ]
  },
  {
   "cell_type": "code",
   "execution_count": 33,
   "metadata": {
    "collapsed": false
   },
   "outputs": [
    {
     "data": {
      "text/plain": [
       "(var-exp hello)"
      ]
     },
     "execution_count": 33,
     "metadata": {},
     "output_type": "execute_result"
    }
   ],
   "source": [
    "(parse2 \"hello\")"
   ]
  },
  {
   "cell_type": "code",
   "execution_count": 34,
   "metadata": {
    "collapsed": false
   },
   "outputs": [
    {
     "data": {
      "text/plain": [
       "(let-exp ((decl x (lit-exp 1))) (var-exp x))"
      ]
     },
     "execution_count": 34,
     "metadata": {},
     "output_type": "execute_result"
    }
   ],
   "source": [
    "(parse2 \"let x = 1 in x\")"
   ]
  },
  {
   "cell_type": "code",
   "execution_count": 35,
   "metadata": {
    "collapsed": false
   },
   "outputs": [
    {
     "data": {
      "text/plain": [
       "(let-exp ((decl x (lit-exp 1)) (decl y (lit-exp 2))) (var-exp x))"
      ]
     },
     "execution_count": 35,
     "metadata": {},
     "output_type": "execute_result"
    }
   ],
   "source": [
    "(parse2 \"let x = 1 y = 2 in x\")"
   ]
  },
  {
   "cell_type": "code",
   "execution_count": 37,
   "metadata": {
    "collapsed": false
   },
   "outputs": [
    {
     "data": {
      "text/plain": [
       "(lets-exp ((x)) ((lit-exp 1)) (var-exp x))"
      ]
     },
     "execution_count": 37,
     "metadata": {},
     "output_type": "execute_result"
    }
   ],
   "source": [
    "(parse2 \"mvlet x = 1 in x\")"
   ]
  },
  {
   "cell_type": "code",
   "execution_count": 39,
   "metadata": {
    "collapsed": false
   },
   "outputs": [
    {
     "data": {
      "text/plain": [
       "(lets-exp ((x y) (a b)) ((lit-exp 1) (lit-exp 2)) (var-exp x))"
      ]
     },
     "execution_count": 39,
     "metadata": {},
     "output_type": "execute_result"
    }
   ],
   "source": [
    "(parse2 \"mvlet x, y = 1; a, b = 2 in x\")"
   ]
  },
  {
   "cell_type": "code",
   "execution_count": 40,
   "metadata": {
    "collapsed": false
   },
   "outputs": [
    {
     "data": {
      "text/plain": [
       "(app-exp (var-exp function) ((var-exp x)))"
      ]
     },
     "execution_count": 40,
     "metadata": {},
     "output_type": "execute_result"
    }
   ],
   "source": [
    "(parse2 \"(function x)\")"
   ]
  },
  {
   "cell_type": "code",
   "execution_count": 41,
   "metadata": {
    "collapsed": true
   },
   "outputs": [],
   "source": [
    "(define gram3\n",
    "  '((expression (number) lit-exp)\n",
    "    (expression (identifier) var-exp)\n",
    "    (expression\n",
    "      (\"let\" (arbno identifier \"=\" expression) \"in\" expression)\n",
    "      let-exp)\n",
    "    (expression\n",
    "      (\"mvlet\" (arbno (arbno identifier) \"=\" expression) \"in\" expression)\n",
    "      mvlet-exp)\n",
    "    (expression\n",
    "      (\"(\" expression (arbno expression) \")\")\n",
    "      app-exp)\n",
    "    (declaration\n",
    "      (identifier \"=\" (arbno expression))\n",
    "      decl)))"
   ]
  },
  {
   "cell_type": "code",
   "execution_count": 42,
   "metadata": {
    "collapsed": false
   },
   "outputs": [
    {
     "data": {
      "text/plain": [
       "((define-datatype expression expression? (lit-exp (lit-exp32 number?)) (var-exp (var-exp33 symbol?)) (let-exp (let-exp34 (list-of symbol?)) (let-exp35 (list-of expression?)) (let-exp36 expression?)) (mvlet-exp (mvlet-exp37 (list-of (list-of symbol?))) (mvlet-exp38 (list-of expression?)) (mvlet-exp39 expression?)) (app-exp (app-exp40 expression?) (app-exp41 (list-of expression?)))) (define-datatype declaration declaration? (decl (decl42 symbol?) (decl43 (list-of expression?)))))"
      ]
     },
     "execution_count": 42,
     "metadata": {},
     "output_type": "execute_result"
    }
   ],
   "source": [
    "(sllgen:list-define-datatypes lex2 gram3)"
   ]
  },
  {
   "cell_type": "code",
   "execution_count": 43,
   "metadata": {
    "collapsed": true
   },
   "outputs": [],
   "source": [
    "(define parse3 (sllgen:make-string-parser lex2 gram3))"
   ]
  },
  {
   "cell_type": "code",
   "execution_count": 44,
   "metadata": {
    "collapsed": false
   },
   "outputs": [
    {
     "data": {
      "text/plain": [
       "(let-exp (x) ((lit-exp 1)) (var-exp y))"
      ]
     },
     "execution_count": 44,
     "metadata": {},
     "output_type": "execute_result"
    }
   ],
   "source": [
    "(parse3 \"let x = 1 in y\")"
   ]
  },
  {
   "cell_type": "code",
   "execution_count": 45,
   "metadata": {
    "collapsed": false
   },
   "outputs": [
    {
     "data": {
      "text/plain": [
       "(mvlet-exp ((x) (y)) ((lit-exp 1) (lit-exp 8)) (var-exp y))"
      ]
     },
     "execution_count": 45,
     "metadata": {},
     "output_type": "execute_result"
    }
   ],
   "source": [
    "(parse3 \"mvlet x = 1 y = 8 in y\")"
   ]
  },
  {
   "cell_type": "code",
   "execution_count": 46,
   "metadata": {
    "collapsed": true
   },
   "outputs": [],
   "source": [
    "(define gram4\n",
    "  '((expression\n",
    "      (\"let\" (separated-list (separated-list identifier \",\" ) \"=\" expression \";\" )\n",
    "        \"in\" expression)\n",
    "      let-exp)\n",
    "    (expression\n",
    "      (number)\n",
    "      lit-exp)))"
   ]
  },
  {
   "cell_type": "code",
   "execution_count": 47,
   "metadata": {
    "collapsed": true
   },
   "outputs": [],
   "source": [
    "(define parse4 (sllgen:make-string-parser lex2 gram4))"
   ]
  },
  {
   "cell_type": "code",
   "execution_count": 48,
   "metadata": {
    "collapsed": false
   },
   "outputs": [
    {
     "data": {
      "text/plain": [
       "((define-datatype expression expression? (let-exp (let-exp57 (list-of (list-of symbol?))) (let-exp58 (list-of expression?)) (let-exp59 expression?)) (lit-exp (lit-exp60 number?))))"
      ]
     },
     "execution_count": 48,
     "metadata": {},
     "output_type": "execute_result"
    }
   ],
   "source": [
    "(sllgen:list-define-datatypes lex2 gram4)"
   ]
  },
  {
   "cell_type": "code",
   "execution_count": 49,
   "metadata": {
    "collapsed": false
   },
   "outputs": [
    {
     "data": {
      "text/plain": [
       "(lit-exp 7)"
      ]
     },
     "execution_count": 49,
     "metadata": {},
     "output_type": "execute_result"
    }
   ],
   "source": [
    "(parse4 \"7\")"
   ]
  },
  {
   "cell_type": "code",
   "execution_count": 51,
   "metadata": {
    "collapsed": false
   },
   "outputs": [
    {
     "data": {
      "text/plain": [
       "(let-exp ((x)) ((lit-exp 7)) (lit-exp 7))"
      ]
     },
     "execution_count": 51,
     "metadata": {},
     "output_type": "execute_result"
    }
   ],
   "source": [
    "(parse4 \"let x = 7 in 7\")"
   ]
  },
  {
   "cell_type": "code",
   "execution_count": 52,
   "metadata": {
    "collapsed": false
   },
   "outputs": [
    {
     "data": {
      "text/plain": [
       "(let-exp ((x y) (y)) ((lit-exp 7) (lit-exp 8)) (lit-exp 7))"
      ]
     },
     "execution_count": 52,
     "metadata": {},
     "output_type": "execute_result"
    }
   ],
   "source": [
    "(parse4 \"let x,y = 7; y = 8 in 7\")"
   ]
  },
  {
   "cell_type": "code",
   "execution_count": 53,
   "metadata": {
    "collapsed": true
   },
   "outputs": [],
   "source": [
    "(define lc-lex\n",
    "   '((whitespace (whitespace) skip)\n",
    "     (comment (\"//\" (arbno (not #\\newline))) skip)\n",
    "     (identifier (letter (arbno (or-exp letter digit))) make-symbol)\n",
    "     (number (digit (arbno digit)) make-number)))"
   ]
  },
  {
   "cell_type": "code",
   "execution_count": 54,
   "metadata": {
    "collapsed": true
   },
   "outputs": [],
   "source": [
    "(define lc-gram\n",
    "  '(\n",
    "   (lc-exp\n",
    "       (\"def\" \"(\" (arbno identifier) \")\" \":\" lc-exp)\n",
    "       lambda-exp)\n",
    "    (lc-exp\n",
    "       (identifier)\n",
    "       var-exp)\n",
    "    (lc-exp\n",
    "        (\"&\" identifier \"(\" (arbno lc-exp) \")\")\n",
    "        app-exp)\n",
    "    (lc-exp\n",
    "       (number)\n",
    "       lit-exp)\n",
    "  ))"
   ]
  },
  {
   "cell_type": "code",
   "execution_count": 56,
   "metadata": {
    "collapsed": false
   },
   "outputs": [
    {
     "name": "stdout",
     "output_type": "stream",
     "text": [
      "(var-exp x)\n",
      "(lit-exp 42)\n",
      "(lambda-exp (a b) (lit-exp 42))\n",
      "(lambda-exp (a b) (app-exp add ((var-exp a) (var-exp b))))\n"
     ]
    }
   ],
   "source": [
    "(define parse-lc (sllgen:make-string-parser lc-lex lc-gram))\n",
    "(print (parse-lc \"x\"))\n",
    "(print (parse-lc \"42\"))\n",
    "(print (parse-lc \"def (a b): 42\"))\n",
    "(print (parse-lc \"def (a b): &add(a b)\"))"
   ]
  },
  {
   "cell_type": "code",
   "execution_count": 57,
   "metadata": {
    "collapsed": true
   },
   "outputs": [],
   "source": [
    "(sllgen:make-define-datatypes lc-lex lc-gram)"
   ]
  },
  {
   "cell_type": "markdown",
   "metadata": {},
   "source": [
    "## Interpreting SLLGEN AST"
   ]
  },
  {
   "cell_type": "code",
   "execution_count": null,
   "metadata": {
    "collapsed": true
   },
   "outputs": [],
   "source": [
    "(define view-lc\n",
    "    (lambda (ast)\n",
    "        (cases lc-exp ast\n",
    "            (lambda-exp (ids body)\n",
    "               (printf \"ids: ~s body: ~s\\n\" ids body))\n",
    "            (var-exp (name)\n",
    "               (printf \"name: ~s\\n\" name))\n",
    "            (lit-exp (value)\n",
    "               (printf \"lit: ~s\\n\" value))\n",
    "            (app-exp (operator operands)\n",
    "               (printf \"application: ~s ~s\\n\" operator operands))\n",
    "            (else (error 'eval-lc \"invalid lc-exp form\")))))"
   ]
  },
  {
   "cell_type": "code",
   "execution_count": 60,
   "metadata": {
    "collapsed": false
   },
   "outputs": [
    {
     "name": "stdout",
     "output_type": "stream",
     "text": [
      "application: add ((lit-exp 1) (lit-exp 2))\n"
     ]
    }
   ],
   "source": [
    "(view-lc (parse-lc \"&add(1 2)\"))"
   ]
  },
  {
   "cell_type": "code",
   "execution_count": 58,
   "metadata": {
    "collapsed": true
   },
   "outputs": [],
   "source": [
    "(define eval-lc\n",
    "    (lambda (ast env)\n",
    "        (cases lc-exp ast\n",
    "            (lambda-exp (ids body)\n",
    "               (list 'closure-exp ids env body))\n",
    "            (var-exp (name)\n",
    "               (lookup name env))\n",
    "            (lit-exp (value)\n",
    "               value)\n",
    "            (app-exp (operator operands)\n",
    "               (applyit (lookup operator env) operands env))\n",
    "            (else (error 'eval-lc \"invalid lc-exp form\")))))\n",
    "\n",
    "(define lookup\n",
    "    (lambda (var env)\n",
    "        (cadr (assv var env))))\n",
    "\n",
    "(define applyit\n",
    "    (lambda (f args env)\n",
    "        (case f\n",
    "            ((add) (+ (eval-lc (car args) env) (eval-lc (cadr args) env)))\n",
    "            (else (error 'applit \"no such function\")))))"
   ]
  },
  {
   "cell_type": "code",
   "execution_count": 59,
   "metadata": {
    "collapsed": false
   },
   "outputs": [
    {
     "data": {
      "text/plain": [
       "3"
      ]
     },
     "execution_count": 59,
     "metadata": {},
     "output_type": "execute_result"
    }
   ],
   "source": [
    "(eval-lc (parse-lc \"&add(1 2)\") '((add add)))"
   ]
  },
  {
   "cell_type": "code",
   "execution_count": 3,
   "metadata": {
    "collapsed": false
   },
   "outputs": [
    {
     "name": "stdout",
     "output_type": "stream",
     "text": [
      "Downloaded 'a_sllgen.pdf'.\n"
     ]
    }
   ],
   "source": [
    "%download https://www.cs.rit.edu/~ats/plt-2005-1/a_sllgen.pdf"
   ]
  }
 ],
 "metadata": {
  "kernelspec": {
   "display_name": "Calysto Scheme 3",
   "language": "scheme",
   "name": "calysto_scheme"
  },
  "language_info": {
   "codemirror_mode": {
    "name": "scheme"
   },
   "mimetype": "text/x-scheme",
   "name": "scheme",
   "pygments_lexer": "scheme"
  }
 },
 "nbformat": 4,
 "nbformat_minor": 0
}
