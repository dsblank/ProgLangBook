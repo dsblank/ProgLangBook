{
 "cells": [
  {
   "cell_type": "code",
   "execution_count": 1,
   "metadata": {
    "collapsed": false
   },
   "outputs": [
    {
     "data": {
      "text/plain": [
       "'0.13.3'"
      ]
     },
     "execution_count": 1,
     "metadata": {},
     "output_type": "execute_result"
    }
   ],
   "source": [
    "import metakernel\n",
    "metakernel.register_ipython_magics()\n",
    "metakernel.__version__"
   ]
  },
  {
   "cell_type": "markdown",
   "metadata": {},
   "source": [
    "## Limited lambda in Python\n",
    "\n",
    "Python's lambda can only contain expressions (not statements). However, you don't need to use the word \"return\"."
   ]
  },
  {
   "cell_type": "code",
   "execution_count": 20,
   "metadata": {
    "collapsed": false
   },
   "outputs": [
    {
     "data": {
      "text/plain": [
       "<function __main__.<lambda>>"
      ]
     },
     "execution_count": 20,
     "metadata": {},
     "output_type": "execute_result"
    }
   ],
   "source": [
    "(lambda i: i + 1)"
   ]
  },
  {
   "cell_type": "code",
   "execution_count": 21,
   "metadata": {
    "collapsed": false
   },
   "outputs": [
    {
     "data": {
      "text/plain": [
       "8"
      ]
     },
     "execution_count": 21,
     "metadata": {},
     "output_type": "execute_result"
    }
   ],
   "source": [
    "(lambda i: i + 1)(7)"
   ]
  },
  {
   "cell_type": "code",
   "execution_count": 22,
   "metadata": {
    "collapsed": false
   },
   "outputs": [
    {
     "data": {
      "text/plain": [
       "#<procedure>"
      ]
     },
     "execution_count": 22,
     "metadata": {},
     "output_type": "execute_result"
    }
   ],
   "source": [
    "%%scheme\n",
    "\n",
    "(lambda (i) (+ i 1))"
   ]
  },
  {
   "cell_type": "code",
   "execution_count": 23,
   "metadata": {
    "collapsed": false
   },
   "outputs": [
    {
     "data": {
      "text/plain": [
       "8"
      ]
     },
     "execution_count": 23,
     "metadata": {},
     "output_type": "execute_result"
    }
   ],
   "source": [
    "%%scheme\n",
    "\n",
    "((lambda (i) (+ i 1)) 7)"
   ]
  },
  {
   "cell_type": "markdown",
   "metadata": {},
   "source": [
    "## Macros"
   ]
  },
  {
   "cell_type": "code",
   "execution_count": 16,
   "metadata": {
    "collapsed": false
   },
   "outputs": [
    {
     "data": {
      "text/plain": [
       "<void>"
      ]
     },
     "execution_count": 16,
     "metadata": {},
     "output_type": "execute_result"
    }
   ],
   "source": [
    "%%scheme\n",
    "\n",
    "(define for-repeat\n",
    "  (lambda (n f)\n",
    "    (if (< n 1)\n",
    "        (void)\n",
    "        (begin\n",
    "          (f)\n",
    "          (for-repeat (- n 1) f)))))\n",
    "\n",
    "(define for-iterate1\n",
    "  (lambda (values f)\n",
    "    (if (null? values)\n",
    "        (void)\n",
    "        (begin\n",
    "          (f (car values))\n",
    "          (for-iterate1 (cdr values) f)))))\n",
    "\n",
    "(define for-iterate2\n",
    "  (lambda (i values f)\n",
    "    (if (null? values)\n",
    "        (void)\n",
    "        (begin\n",
    "          (f (car values) i)\n",
    "          (for-iterate2 (+ i 1) (cdr values) f)))))"
   ]
  },
  {
   "cell_type": "code",
   "execution_count": 18,
   "metadata": {
    "collapsed": false
   },
   "outputs": [
    {
     "data": {
      "text/plain": [
       "<void>"
      ]
     },
     "execution_count": 18,
     "metadata": {},
     "output_type": "execute_result"
    }
   ],
   "source": [
    "%%scheme\n",
    "\n",
    "(define-syntax for\n",
    "  [(for ?exp times do . ?bodies)\n",
    "   (for-repeat ?exp (lambda () . ?bodies))]\n",
    "  [(for ?var in ?exp do . ?bodies)\n",
    "   (for-iterate1 ?exp (lambda (?var) . ?bodies))]\n",
    "  [(for ?var at (?i) in ?exp do . ?bodies)\n",
    "   (for-iterate2 0 ?exp (lambda (?var ?i) . ?bodies))]\n",
    "  [(for ?var at (?i ?j . ?rest) in ?exp do . ?bodies)\n",
    "   (for ?var at (?i) in ?exp do\n",
    "     (for ?var at (?j . ?rest) in ?var do . ?bodies))])"
   ]
  },
  {
   "cell_type": "markdown",
   "metadata": {},
   "source": [
    "## Scope\n",
    "\n",
    "Python's scopes are a bit enigmatic."
   ]
  },
  {
   "cell_type": "markdown",
   "metadata": {},
   "source": [
    "## Closure"
   ]
  },
  {
   "cell_type": "code",
   "execution_count": 4,
   "metadata": {
    "collapsed": false
   },
   "outputs": [
    {
     "name": "stdout",
     "output_type": "stream",
     "text": [
      "4\n",
      "4\n",
      "4\n",
      "4\n",
      "4\n"
     ]
    }
   ],
   "source": [
    "functions = []\n",
    "\n",
    "for i in range(5):\n",
    "    functions.append(lambda: i)\n",
    "\n",
    "for f in functions:\n",
    "    print(f())"
   ]
  },
  {
   "cell_type": "code",
   "execution_count": 19,
   "metadata": {
    "collapsed": false
   },
   "outputs": [
    {
     "name": "stdout",
     "output_type": "stream",
     "text": [
      "4\n",
      "3\n",
      "2\n",
      "1\n",
      "0\n"
     ]
    },
    {
     "data": {
      "text/plain": [
       "<void>"
      ]
     },
     "execution_count": 19,
     "metadata": {},
     "output_type": "execute_result"
    }
   ],
   "source": [
    "%%scheme\n",
    "\n",
    "(define functions '())\n",
    "\n",
    "(for i in (range 5) do\n",
    "    (set! functions (cons (lambda () i) functions)))\n",
    "\n",
    "(for f in functions do\n",
    "    (print (f)))"
   ]
  },
  {
   "cell_type": "code",
   "execution_count": null,
   "metadata": {
    "collapsed": true
   },
   "outputs": [],
   "source": []
  }
 ],
 "metadata": {
  "kernelspec": {
   "display_name": "Python 3",
   "language": "python",
   "name": "python3"
  },
  "language_info": {
   "codemirror_mode": {
    "name": "ipython",
    "version": 3
   },
   "file_extension": ".py",
   "mimetype": "text/x-python",
   "name": "python",
   "nbconvert_exporter": "python",
   "pygments_lexer": "ipython3",
   "version": "3.4.3"
  }
 },
 "nbformat": 4,
 "nbformat_minor": 0
}
